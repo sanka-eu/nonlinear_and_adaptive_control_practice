{
  "nbformat": 4,
  "nbformat_minor": 0,
  "metadata": {
    "anaconda-cloud": {},
    "kernelspec": {
      "display_name": "Python [default]",
      "language": "python",
      "name": "python3"
    },
    "language_info": {
      "codemirror_mode": {
        "name": "ipython",
        "version": 3
      },
      "file_extension": ".py",
      "mimetype": "text/x-python",
      "name": "python",
      "nbconvert_exporter": "python",
      "pygments_lexer": "ipython3",
      "version": "3.5.2"
    },
    "colab": {
      "provenance": [],
      "collapsed_sections": [
        "cez06ULi5Zo5",
        "YjbNQxVX0H9D",
        "xvVi_dQ7ylSG",
        "QL3A97vl0H9G",
        "F9kG2DWVeM1d",
        "JXzrEGaB5HFn"
      ],
      "include_colab_link": true
    }
  },
  "cells": [
    {
      "cell_type": "markdown",
      "metadata": {
        "id": "view-in-github",
        "colab_type": "text"
      },
      "source": [
        "<a href=\"https://colab.research.google.com/github/sanka-eu/nonlinear_and_adaptive_control_practice/blob/main/shishkin_cource_project.ipynb\" target=\"_parent\"><img src=\"https://colab.research.google.com/assets/colab-badge.svg\" alt=\"Open In Colab\"/></a>"
      ]
    },
    {
      "cell_type": "markdown",
      "metadata": {
        "id": "w_f_NuFaqJzm"
      },
      "source": [
        "# Шишкин Александр Эдуардович, группа 0391, Курсовой проект"
      ]
    },
    {
      "cell_type": "markdown",
      "source": [
        "# 1. Система с пид-регулятором\n",
        "Средства автоматизации расчетов и моделироаания систем управления в среде Python/scipy"
      ],
      "metadata": {
        "id": "cez06ULi5Zo5"
      }
    },
    {
      "cell_type": "markdown",
      "metadata": {
        "id": "VFXG45naqJzu"
      },
      "source": [
        "### Модель системы"
      ]
    },
    {
      "cell_type": "markdown",
      "source": [
        "$(1)\\;\\dot{dP}\\;=\\;17T\\;+\\;\\zeta\\;-\\;0.1dP^3\\;+\\;9\\sin\\left(4dP\\;-\\;7\\right)\\;-\\;6$"
      ],
      "metadata": {
        "id": "0eZU9Nl2UWDP"
      }
    },
    {
      "cell_type": "markdown",
      "source": [
        "$(2)\\;\\dot T\\;=\\;-0.1T^3 - 2Tcos\\left(5dP\\;+\\;6\\right)\\;+\\;30tanh\\left(I\\right)\\;-\\;1$"
      ],
      "metadata": {
        "id": "J84fogVQUpSS"
      }
    },
    {
      "cell_type": "markdown",
      "source": [
        "где:\\\n",
        "T - температура\\\n",
        "dP - изменение давления газа в резервуаре\\\n",
        "I - сила тока, протекающего через нагревательный элемент\\\n",
        "ζ ∈ [4;23] - некотролируемое возмущение в системе"
      ],
      "metadata": {
        "id": "kD8XzIIjVWkD"
      }
    },
    {
      "cell_type": "markdown",
      "metadata": {
        "id": "Yn-6xPDoqJz2"
      },
      "source": [
        "### 1. Автоматизация расчета закона управления с помощью пакета sympy"
      ]
    },
    {
      "cell_type": "markdown",
      "source": [
        "Зададим два уравнения, описывающие систему, в коде. Допускается, что аргументы тангенса находятся в окресности нуля, поэтому заменяем тангенс на простую линейную зависимость ($\\;tanh\\left(I\\right) -> I\\;$)."
      ],
      "metadata": {
        "id": "RVl0ED_-lRBT"
      }
    },
    {
      "cell_type": "code",
      "metadata": {
        "scrolled": true,
        "id": "fEhUrDOOqJz4",
        "colab": {
          "base_uri": "https://localhost:8080/"
        },
        "outputId": "b33fd838-e1e6-4ba4-aa0d-62ebb253e7ff"
      },
      "source": [
        "import sympy\n",
        "#создание символьных переменных\n",
        "dP=sympy.symbols('dP')\n",
        "T=sympy.symbols('T')\n",
        "zeta=sympy.symbols('zeta')\n",
        "I=sympy.symbols('I')\n",
        "\n",
        "#запись уравнений\n",
        "d_dP=17 * T + zeta - 0.1 * dP**3 + 9 * sympy.sin(4 * dP - 7) - 6\n",
        "dT=-0.1 * T**3 - 2 * T * sympy.cos(5 * dP + 6) + 30 * I - 1\n",
        "\n",
        "#печать сивольных выражений\n",
        "print('Уравнения системы:')\n",
        "print('dP/dt=' + str(d_dP))\n",
        "print('dT/dt=' + str(dT))\n",
        "print('')"
      ],
      "execution_count": 31,
      "outputs": [
        {
          "output_type": "stream",
          "name": "stdout",
          "text": [
            "Уравнения системы:\n",
            "dP/dt=17*T - 0.1*dP**3 + zeta + 9*sin(4*dP - 7) - 6\n",
            "dT/dt=30*I - 0.1*T**3 - 2*T*cos(5*dP + 6) - 1\n",
            "\n"
          ]
        }
      ]
    },
    {
      "cell_type": "markdown",
      "source": [
        "Определим эталонную модель процесса"
      ],
      "metadata": {
        "id": "vcqx3D_42HPf"
      }
    },
    {
      "cell_type": "markdown",
      "source": [
        "$\\dot{dP}\\;-\\;13.5\\;+\\;0.1dP^3\\;-\\;9\\sin\\left(4dP\\;-\\;7\\right)\\;+\\;6=\\;17T_d$\\\n",
        "За управляющее воздействие примем $17T_d$, поделим на $17$ в конце всех преобразований."
      ],
      "metadata": {
        "id": "KK4l0Hed3aSh"
      }
    },
    {
      "cell_type": "code",
      "source": [
        "from sympy.solvers import solve\n",
        "#вводим символ производной скорости изменения давления\n",
        "ddP=sympy.symbols('ddP')\n",
        "#решаем уравнение относительно 17T, \"перенося\" ddP вправо со знаком \"-\"\n",
        "currentModel = solve(d_dP - ddP, 17*T)[0];\n",
        "print(\"currentModel = \" + str(currentModel));"
      ],
      "metadata": {
        "colab": {
          "base_uri": "https://localhost:8080/"
        },
        "id": "HjJzmlKV2k8F",
        "outputId": "19ff0088-c0e2-4346-c4f0-c5fb4b92c1f3"
      },
      "execution_count": 32,
      "outputs": [
        {
          "output_type": "stream",
          "name": "stdout",
          "text": [
            "currentModel = 0.1*dP**3 + ddP - zeta - 9.0*sin(4.0*dP - 7.0) + 6.0\n"
          ]
        }
      ]
    },
    {
      "cell_type": "markdown",
      "source": [
        "Составим формулу эталонной модели с неизвестными коэффициентами"
      ],
      "metadata": {
        "id": "rk7sQEJL4Xvp"
      }
    },
    {
      "cell_type": "code",
      "source": [
        "#определим неизвестные коэффициенты эталонной модели\n",
        "C1=sympy.symbols('C1')\n",
        "C2=sympy.symbols('C2')\n",
        "\n",
        "#определим эталонную модель\n",
        "etalonModel = ddP + C1 * dP + C2\n",
        "print(\"etalonModel: \" + str(etalonModel) + \" = 0\")\n",
        "#решаем уравнение относительно управляющего воздействия U(dP,C1,C2)\n",
        "U=sympy.symbols('U')\n",
        "solution_U = solve((-currentModel + ddP) + U - (-etalonModel + ddP), U)[0]\n",
        "print(\"solution_U: U = \" + str(solution_U))"
      ],
      "metadata": {
        "id": "9-kpgAyFBI42",
        "outputId": "c8b0fbfc-c2e5-44ce-810d-9992a9ae086d",
        "colab": {
          "base_uri": "https://localhost:8080/"
        }
      },
      "execution_count": 33,
      "outputs": [
        {
          "output_type": "stream",
          "name": "stdout",
          "text": [
            "etalonModel: C1*dP + C2 + ddP = 0\n",
            "solution_U: U = -C1*dP - C2 + 0.1*dP**3 - zeta - 9.0*sin(4.0*dP - 7.0) + 6.0\n"
          ]
        }
      ]
    },
    {
      "cell_type": "markdown",
      "source": [
        "Расчитаем коэффициенты эталонной модели"
      ],
      "metadata": {
        "id": "YLU0UZNnI60h"
      }
    },
    {
      "cell_type": "code",
      "source": [
        "#уравнение модели в положении равновесия\n",
        "etalonBalance = -(etalonModel - ddP)\n",
        "etalonBalanceSolution = solve(etalonBalance, dP)[0]\n",
        "print(etalonBalance)\n",
        "print(\"dP_d = \" + str(etalonBalanceSolution))"
      ],
      "metadata": {
        "id": "CCRUVQvLI_YN",
        "outputId": "a4315966-f8c3-4d10-ebcb-92c5f024dc1d",
        "colab": {
          "base_uri": "https://localhost:8080/"
        }
      },
      "execution_count": 34,
      "outputs": [
        {
          "output_type": "stream",
          "name": "stdout",
          "text": [
            "-C1*dP - C2\n",
            "dP_d = -C2/C1\n"
          ]
        }
      ]
    },
    {
      "cell_type": "markdown",
      "source": [
        "Перенос в систему координат, у которой положение равновесия в нуле"
      ],
      "metadata": {
        "id": "B-74DQeGOfRo"
      }
    },
    {
      "cell_type": "code",
      "source": [
        "#уравнение для переноса в новую систему координат\n",
        "dP_d=sympy.symbols('dP_d')\n",
        "dP_d1=dP_d + etalonBalanceSolution\n",
        "print(\"dP_d1 = \" + str(dP_d1))\n",
        "\n",
        "#подставляем это уравнение в эталонную модель вместо dP\n",
        "etalonModelNewCoordinates = (-etalonModel + ddP).subs({dP : dP_d1})\n",
        "print(\"etalonModelNewCoordinates = \" + str(sympy.expand(etalonModelNewCoordinates)))\n",
        "\n",
        "#тогда матрица преобразований будет\n",
        "print([-C1])\n",
        "\n",
        "#находим определитель матрицы |A - E*L|, где A - матрица преобразований, L - собственные числа\n",
        "L=sympy.symbols('L')\n",
        "determinant = -C1 - L\n",
        "print(\"L = \", solve(determinant, L)[0])\n",
        "\n",
        "#вещественная часть собственных чисел должна быть < 0 => C1 > 0\n",
        "#выберем C1 = 1, тогда C2 = -dP_d*C1 = -dP_d\n",
        "#подставим полученные коэффициенты в функцию управляющего воздействия\n",
        "U = solution_U.subs({C1: -1, C2: 1*dP_d})\n",
        "print(\"U = \", U)"
      ],
      "metadata": {
        "id": "Eeb5KnCdOkaz",
        "outputId": "984587ad-8d0b-4ce0-bd43-ef544abc9ebd",
        "colab": {
          "base_uri": "https://localhost:8080/"
        }
      },
      "execution_count": 35,
      "outputs": [
        {
          "output_type": "stream",
          "name": "stdout",
          "text": [
            "dP_d1 = dP_d - C2/C1\n",
            "etalonModelNewCoordinates = -C1*dP_d\n",
            "[-C1]\n",
            "L =  -C1\n",
            "U =  0.1*dP**3 + dP - dP_d - zeta - 9.0*sin(4.0*dP - 7.0) + 6.0\n"
          ]
        }
      ]
    },
    {
      "cell_type": "markdown",
      "source": [
        "Проверка алгоритма управления"
      ],
      "metadata": {
        "id": "AevaCCj4WG0g"
      }
    },
    {
      "cell_type": "code",
      "source": [
        "#подставим полученную функцию управления в исходную модель объекта\n",
        "currentModelWithNewU = currentModel - U\n",
        "print(\"currentModelWithNewU = \", currentModelWithNewU)\n",
        "#приравниваем производную к нулю и решаем уравнение относительно dP (находим решение в положении равновесия)\n",
        "equilibriumSolution = solve(currentModelWithNewU - ddP, dP)[0]\n",
        "print(\"dP = \" + str(equilibriumSolution))"
      ],
      "metadata": {
        "id": "ri5tPo_8WJPh",
        "outputId": "c5a929c4-b6f8-4d1b-d42d-82fb215eef4c",
        "colab": {
          "base_uri": "https://localhost:8080/"
        }
      },
      "execution_count": 36,
      "outputs": [
        {
          "output_type": "stream",
          "name": "stdout",
          "text": [
            "currentModelWithNewU =  -dP + dP_d + ddP\n",
            "dP = dP_d\n"
          ]
        }
      ]
    },
    {
      "cell_type": "markdown",
      "source": [
        "Получаем, что в положении равновесия значение равно желаемому."
      ],
      "metadata": {
        "id": "FZsX40MhYT7E"
      }
    },
    {
      "cell_type": "markdown",
      "source": [
        "Определим устойчивость системы в окрестности нуля"
      ],
      "metadata": {
        "id": "_0P0-XHy8LQ7"
      }
    },
    {
      "cell_type": "code",
      "source": [
        "#посчитаем собственные числа, подставим вместо dP -> (y - dP_d)\n",
        "#перенос координат в 0 (y = dP - dP_d)\n",
        "y=sympy.symbols('y')\n",
        "zeroEquilibriumCoordinatesModel = (currentModelWithNewU - ddP).subs({dP: (y - dP_d)})\n",
        "print(\"d(ddP(y)) / dy = \" + str(sympy.diff(zeroEquilibriumCoordinatesModel, y)))"
      ],
      "metadata": {
        "id": "ufSqLaYnYEaa",
        "outputId": "3ec5ecfa-7e0d-445c-ab1f-a3a05fb020d2",
        "colab": {
          "base_uri": "https://localhost:8080/"
        }
      },
      "execution_count": 37,
      "outputs": [
        {
          "output_type": "stream",
          "name": "stdout",
          "text": [
            "d(ddP(y)) / dy = -1\n"
          ]
        }
      ]
    },
    {
      "cell_type": "markdown",
      "source": [
        "Получаем, что в окрестности нуля система устойчива"
      ],
      "metadata": {
        "id": "I703znN2BdHN"
      }
    },
    {
      "cell_type": "markdown",
      "source": [
        "Запишем полученное уравнение эталонной модели и условие равенства движения системы и эталона"
      ],
      "metadata": {
        "id": "4TpYNdg6B4z2"
      }
    },
    {
      "cell_type": "markdown",
      "metadata": {
        "id": "ZKiMj9GVqJ0D"
      },
      "source": [
        "$\\dot {dP_d} = dP_d - dP$\n",
        "\n",
        "$\\dot {dP} - \\dot {dP_d} = 0$"
      ]
    },
    {
      "cell_type": "markdown",
      "source": [
        "Найдём жедаемое значение T_d для полученной эталонной модели. Для этого нужно решить уравнение равенства движения системы и эталона относительно T."
      ],
      "metadata": {
        "id": "1Q3NnoasKcDf"
      }
    },
    {
      "cell_type": "code",
      "metadata": {
        "id": "Em8eIt2VqJ0F",
        "colab": {
          "base_uri": "https://localhost:8080/"
        },
        "outputId": "cff030a8-b89d-473a-d85a-9da7493716d0"
      },
      "source": [
        "from sympy.solvers import solve\n",
        "d_dP_d=dP_d-dP\n",
        "T_d=(solve(d_dP-d_dP_d, 17*T)[0]) * (1 / 17)\n",
        "print('Желаемая функция T_d(t) для эталонной модели d_dP_d = '+str(d_dP_d))\n",
        "print('T_d = '+str(T_d))\n",
        "print('')"
      ],
      "execution_count": 38,
      "outputs": [
        {
          "output_type": "stream",
          "name": "stdout",
          "text": [
            "Желаемая функция T_d(t) для эталонной модели d_dP_d = -dP + dP_d\n",
            "T_d = 0.00588235294117647*dP**3 - 0.0588235294117647*dP + 0.0588235294117647*dP_d - 0.0588235294117647*zeta - 0.529411764705882*sin(4.0*dP - 7.0) + 0.352941176470588\n",
            "\n"
          ]
        }
      ]
    },
    {
      "cell_type": "markdown",
      "source": [
        "Определим функцию psi исходя из равенства желаемого и реального поведения системы под воздействием управления.\\\n",
        "Найдем производную по каждой из координат для psi (dP и T) и найдем закон управления для переменной тока I."
      ],
      "metadata": {
        "id": "b9b8PxipKqr3"
      }
    },
    {
      "cell_type": "code",
      "metadata": {
        "id": "ycjupCuhqJ0L",
        "colab": {
          "base_uri": "https://localhost:8080/"
        },
        "outputId": "3d8588c9-2142-4624-d445-efc140ed0728"
      },
      "source": [
        "psi=T_d-T\n",
        "print(\"psi = \" + str(psi))\n",
        "dpsi=sympy.diff(psi,dP)*d_dP + sympy.diff(psi,T)*dT\n",
        "print(\"dpsi = \" + str(dpsi))\n",
        "u=solve(sympy.expand(dpsi+psi),I)\n",
        "u_analytical = u[0]\n",
        "print('Закон управления по методу АКАР для макропеременной psi=' + str(psi))\n",
        "print('I='+str(u_analytical))\n",
        "print()"
      ],
      "execution_count": 39,
      "outputs": [
        {
          "output_type": "stream",
          "name": "stdout",
          "text": [
            "psi = -T + 0.00588235294117647*dP**3 - 0.0588235294117647*dP + 0.0588235294117647*dP_d - 0.0588235294117647*zeta - 0.529411764705882*sin(4.0*dP - 7.0) + 0.352941176470588\n",
            "dpsi = -30*I + 0.1*T**3 + 2*T*cos(5*dP + 6) + (0.0176470588235294*dP**2 - 2.11764705882353*cos(4.0*dP - 7.0) - 0.0588235294117647)*(17*T - 0.1*dP**3 + zeta + 9*sin(4*dP - 7) - 6) + 1\n",
            "Закон управления по методу АКАР для макропеременной psi=-T + 0.00588235294117647*dP**3 - 0.0588235294117647*dP + 0.0588235294117647*dP_d - 0.0588235294117647*zeta - 0.529411764705882*sin(4.0*dP - 7.0) + 0.352941176470588\n",
            "I=0.00333333333333333*T**3 + 0.01*T*dP**2 - 1.2*T*cos(4.0*dP - 7.0) + 0.0666666666666667*T*cos(5.0*dP + 6.0) - 0.0666666666666667*T - 5.88235294117647e-5*dP**5 + 0.00705882352941176*dP**3*cos(4.0*dP - 7.0) + 0.000392156862745098*dP**3 + 0.000588235294117647*dP**2*zeta + 0.00529411764705882*dP**2*sin(4.0*dP - 7.0) - 0.00352941176470588*dP**2 - 0.00196078431372549*dP + 0.00196078431372549*dP_d - 0.0705882352941176*zeta*cos(4.0*dP - 7.0) - 0.00392156862745098*zeta - 0.0352941176470588*sin(4.0*dP - 7.0) - 0.317647058823529*sin(8.0*dP - 14.0) + 0.423529411764706*cos(4.0*dP - 7.0) + 0.0568627450980392\n",
            "\n"
          ]
        }
      ]
    },
    {
      "cell_type": "markdown",
      "metadata": {
        "id": "MvlWGiocqJ0U"
      },
      "source": [
        "### 2. Численное моделирование системы ОДУ"
      ]
    },
    {
      "cell_type": "markdown",
      "source": [
        "Ещё раз запишем уравнения системы:"
      ],
      "metadata": {
        "id": "dfCNByO7pA6y"
      }
    },
    {
      "cell_type": "markdown",
      "source": [
        "$(1)\\;\\dot{dP}\\;=\\;17T\\;+\\;\\zeta\\;-\\;0.1dP^3\\;+\\;9\\sin\\left(4dP\\;-\\;7\\right)\\;-\\;6$"
      ],
      "metadata": {
        "id": "li6WhxhBq7Cu"
      }
    },
    {
      "cell_type": "markdown",
      "source": [
        "$(2)\\;\\dot T\\;=\\;-0.1T^3 - 2Tcos\\left(5dP\\;+\\;6\\right)\\;+\\;30tanh\\left(I\\right)\\;-\\;1$"
      ],
      "metadata": {
        "id": "ECgS8_sOq7C0"
      }
    },
    {
      "cell_type": "markdown",
      "source": [
        "где:\\\n",
        "T - температура\\\n",
        "dP - изменение давления газа в резервуаре\\\n",
        "I - сила тока, протекающего через нагревательный элемент\\\n",
        "ζ ∈ [4;23] - некотролируемое возмущение в системе"
      ],
      "metadata": {
        "id": "oOPtybmpq_Li"
      }
    },
    {
      "cell_type": "code",
      "metadata": {
        "id": "ZFOx5p0dqJ0V",
        "colab": {
          "base_uri": "https://localhost:8080/",
          "height": 430
        },
        "outputId": "cc20ce33-180b-4048-c2e0-d16f5abef986"
      },
      "source": [
        "import matplotlib.pyplot as plt\n",
        "import scipy.integrate as mdl\n",
        "import math\n",
        "import numpy as np\n",
        "\n",
        "#определим функцию для некотролируемого возмущения от времени\n",
        "def zetaFunction(t):\n",
        "    return (t % 19) + 4\n",
        "#определим воздействие на систему (силу тока I на нагревательном элементе)\n",
        "u = 0.001\n",
        "#определим коэффициент перед управляющим воздействием\n",
        "G = 30\n",
        "#определим функцию, описывающую уравнения системы\n",
        "def F(x, t, u, G):\n",
        "    #zeta = zetaFunction(t)\n",
        "    zeta = 4\n",
        "    d_dP = 17*x[1] + zeta - 0.1*x[0]**3 + 9*math.sin(4*x[0] - 7) - 6\n",
        "    dT = -0.1*x[1]**3 - 2*x[1]*math.cos(5*x[0] + 6) + G*math.tanh(u) - 1\n",
        "    return [d_dP, dT]\n",
        "\n",
        "t = np.linspace(0, 10, 10000)\n",
        "y = mdl.odeint(F, [0.5, 0.0], t, args=(u, G))\n",
        "\n",
        "plt.plot(t,y)\n",
        "plt.show()"
      ],
      "execution_count": 40,
      "outputs": [
        {
          "output_type": "display_data",
          "data": {
            "text/plain": [
              "<Figure size 640x480 with 1 Axes>"
            ],
            "image/png": "[encoded data removed]"
          },
          "metadata": {}
        }
      ]
    },
    {
      "cell_type": "markdown",
      "source": [
        "На графике видно, что при начальных значениях близких к нулю и при малом управляющем воздействии система принимает отрицательные значения.\\\n",
        "Необходимо увеличить коэффициент перед управляющим воздействием (силу исполнительного механизма) на порядок выше."
      ],
      "metadata": {
        "id": "TUrzBqoxTLbe"
      }
    },
    {
      "cell_type": "code",
      "source": [
        "#зададим G = 300 вместо G = 30\n",
        "G = 300\n",
        "y = mdl.odeint(F, [0.5, 0.0], t, args=(u, G))\n",
        "plt.plot(t,y)\n",
        "plt.show()"
      ],
      "metadata": {
        "id": "7jacNbGET7uf",
        "outputId": "9bc60f30-7069-48a5-971f-5c07b1663a55",
        "colab": {
          "base_uri": "https://localhost:8080/",
          "height": 430
        }
      },
      "execution_count": 41,
      "outputs": [
        {
          "output_type": "display_data",
          "data": {
            "text/plain": [
              "<Figure size 640x480 with 1 Axes>"
            ],
            "image/png": "[encoded data removed]"
          },
          "metadata": {}
        }
      ]
    },
    {
      "cell_type": "markdown",
      "source": [
        "График практически не отличается от предыдущего, продолжим увеличение коэффициента."
      ],
      "metadata": {
        "id": "OA9YrG4NUMH7"
      }
    },
    {
      "cell_type": "code",
      "source": [
        "#зададим G = 3000 вместо G = 300\n",
        "G = 3000\n",
        "y = mdl.odeint(F, [0.5, 0.0], t, args=(u, G))\n",
        "plt.plot(t,y)\n",
        "plt.show()"
      ],
      "metadata": {
        "id": "cwv9GxC1UT6o",
        "outputId": "dc21a9b7-9cae-4f64-994f-bf0e9ffd9372",
        "colab": {
          "base_uri": "https://localhost:8080/",
          "height": 430
        }
      },
      "execution_count": 42,
      "outputs": [
        {
          "output_type": "display_data",
          "data": {
            "text/plain": [
              "<Figure size 640x480 with 1 Axes>"
            ],
            "image/png": "[encoded data removed]"
          },
          "metadata": {}
        }
      ]
    },
    {
      "cell_type": "markdown",
      "source": [
        "Получаем, что ощутимое воздействие на систему будет оказывать исполнительный механизм, у которого коэффициент передачи больше на два порядка, чем в условии (при том условии, что сила тока измеряется в мА, в нашем случае `u = 0.001 = 1мА`).\\\n",
        "Примем коэффициент равный G = 3000."
      ],
      "metadata": {
        "id": "jz1OuBx1UcK1"
      }
    },
    {
      "cell_type": "markdown",
      "metadata": {
        "id": "GnfFjuQEqJ0b"
      },
      "source": [
        "### 3. Моделирование САУ с цифровым ПИ-регулятором"
      ]
    },
    {
      "cell_type": "markdown",
      "metadata": {
        "id": "oVl6boH7qJ0d"
      },
      "source": [
        "\n",
        "Базовый пакет для моделирования контроллера"
      ]
    },
    {
      "cell_type": "code",
      "source": [
        "!pip install digicon_mod"
      ],
      "metadata": {
        "id": "HKHq_TJ4LE0A",
        "colab": {
          "base_uri": "https://localhost:8080/"
        },
        "outputId": "0e731219-7f13-4683-a379-4b32931fabe8"
      },
      "execution_count": 43,
      "outputs": [
        {
          "output_type": "stream",
          "name": "stdout",
          "text": [
            "Requirement already satisfied: digicon_mod in /usr/local/lib/python3.10/dist-packages (0.1.4)\n",
            "Requirement already satisfied: numpy<2.0,>=1.23 in /usr/local/lib/python3.10/dist-packages (from digicon_mod) (1.26.4)\n",
            "Requirement already satisfied: scipy<2.0,>=1.9 in /usr/local/lib/python3.10/dist-packages (from digicon_mod) (1.13.1)\n"
          ]
        }
      ]
    },
    {
      "cell_type": "code",
      "source": [
        "import digicon_mod"
      ],
      "metadata": {
        "id": "y29R25TKLNnp"
      },
      "execution_count": 44,
      "outputs": []
    },
    {
      "cell_type": "markdown",
      "metadata": {
        "id": "_yodeplwUtw5"
      },
      "source": [
        "Правая часть дифференциального уравнения объекта со ступенчатым изменением параметра"
      ]
    },
    {
      "cell_type": "code",
      "metadata": {
        "id": "eQHsrvF2U2nH"
      },
      "source": [
        "def F_with_change(step_time, init_value, finish_value):\n",
        "    def F_with_control(uc):\n",
        "        def F_internal(x, t):\n",
        "            if t > step_time:\n",
        "                zeta = finish_value\n",
        "            else:\n",
        "                zeta = init_value\n",
        "            d_dP = 17*x[1] + zeta - 0.1*x[0]**3 + 9*math.sin(4*x[0] - 7) - 6\n",
        "            dT = -0.1*x[1]**3 - 2*x[1]*math.cos(5*x[0] + 6) + uc - 1\n",
        "            return [d_dP, dT]\n",
        "\n",
        "        return F_internal\n",
        "    return F_with_control"
      ],
      "execution_count": 45,
      "outputs": []
    },
    {
      "cell_type": "markdown",
      "metadata": {
        "collapsed": true,
        "id": "ttqbxgS5qJ0n"
      },
      "source": [
        "Реализация алгоритма ПИ-регулирования"
      ]
    },
    {
      "cell_type": "code",
      "metadata": {
        "id": "j3VNA9CCqJ0p"
      },
      "source": [
        "class PI(digicon_mod.plc.PLC):\n",
        "    def __init__(self, goal, Kp, Ki, gain, step):\n",
        "        super(PI,self).__init__(gain, step)\n",
        "        self.Ki = Ki\n",
        "        self.Kp = Kp\n",
        "        self.goal = goal\n",
        "        self.ei = 0\n",
        "\n",
        "    def control(self, x, t):\n",
        "        e = x[0] - self.goal\n",
        "        self.ei = self.ei + e\n",
        "        return self.Kp * e + self.Ki * self.ei"
      ],
      "execution_count": 46,
      "outputs": []
    },
    {
      "cell_type": "markdown",
      "metadata": {
        "id": "RhxxTcwXTuDD"
      },
      "source": [
        "Вывод результатов моделирования"
      ]
    },
    {
      "cell_type": "code",
      "metadata": {
        "scrolled": true,
        "id": "WnLkBUTQqJ05"
      },
      "source": [
        "def plot_result(time, time_end, x1, x2, plc, goal):\n",
        "    plt.figure(figsize=(15,5))\n",
        "    plt.subplot(1,2,1)\n",
        "    plt.grid()\n",
        "    plt.xlim(0, time_end)\n",
        "    plt.plot(time,x1, 'r-', time, x2, 'b-')\n",
        "    plt.plot([0, time_end], [goal, goal], color='#FF0000',linestyle='--')\n",
        "    plt.subplot(1,2,2)\n",
        "    plt.grid()\n",
        "    plt.xlim(0, time_end)\n",
        "    plt.plot(plc.t, plc.u,'b-',plc.t,plc.u_lim,'r-')\n",
        "    plt.plot([0, tk], [1, 1], 'r--',[0, tk], [-1, -1], 'r--',[0, tk],[0, 0],'r:')\n",
        "    plt.show()"
      ],
      "execution_count": 47,
      "outputs": []
    },
    {
      "cell_type": "markdown",
      "metadata": {
        "id": "m9JXPdaXqJ0t"
      },
      "source": [
        "Программа моделирования"
      ]
    },
    {
      "cell_type": "code",
      "metadata": {
        "id": "p6JvzWmGqJ0w",
        "outputId": "9103c776-649c-416a-e258-966ae2d04f62",
        "colab": {
          "base_uri": "https://localhost:8080/",
          "height": 445
        }
      },
      "source": [
        "zeta_init = 4.0\n",
        "zeta_finish = 23.0\n",
        "change_time = 30\n",
        "goal = 6\n",
        "gain = 3\n",
        "step = 0.5\n",
        "mod_step = 0.1\n",
        "func_ctrl = F_with_change(change_time,zeta_init,zeta_finish)\n",
        "\n",
        "plc=PI(goal=goal, Kp=-1.0, Ki=-0.05, gain=gain, step=step)\n",
        "tk=10\n",
        "x0=[0.5, 0.0]\n",
        "res = digicon_mod.sim.calculate(func_ctrl, x0, mod_step, tk, plc)\n",
        "plot_result(time=res['t'], time_end=tk, x1=res['x1'], x2=res['x2'], plc=plc, goal=goal)"
      ],
      "execution_count": 48,
      "outputs": [
        {
          "output_type": "display_data",
          "data": {
            "text/plain": [
              "<Figure size 1500x500 with 2 Axes>"
            ],
            "image/png": "[encoded data removed]"
          },
          "metadata": {}
        }
      ]
    },
    {
      "cell_type": "markdown",
      "source": [
        "При моделировании САУ с числовым ПИ-регулятором, были выявлены оптимальные значения для коэф.усиления регулятора и коэф.пропорциональной и интегральных частей.\\\n",
        "$gain=3,\\;Kp=-0.1,\\;Ki=-0.05$\\\n",
        "Так же система проверена работа системы для различных значений некотролируемого возмущения из диапазона по условию."
      ],
      "metadata": {
        "id": "v9XMNdAe07r6"
      }
    },
    {
      "cell_type": "markdown",
      "metadata": {
        "id": "YjbNQxVX0H9D"
      },
      "source": [
        "# 2. Метод аналитического конструирования агрегированных регуляторов (АКАР) с фиксацией неизвестного параметра на уровне среднего.\n",
        "Системы с нелинейным законом управления и идентификацией параметров."
      ]
    },
    {
      "cell_type": "markdown",
      "metadata": {
        "id": "wgK2-9Gs0H9E"
      },
      "source": [
        "### 1. Модель системы и закон управления"
      ]
    },
    {
      "cell_type": "markdown",
      "source": [
        "$(1)\\;\\dot{dP}\\;=\\;17T\\;+\\;\\zeta\\;-\\;0.1dP^3\\;+\\;9\\sin\\left(4dP\\;-\\;7\\right)\\;-\\;6$"
      ],
      "metadata": {
        "id": "e-blocdZ0H9E"
      }
    },
    {
      "cell_type": "markdown",
      "source": [
        "$(2)\\;\\dot T\\;=\\;-0.1T^3 - 2Tcos\\left(5dP\\;+\\;6\\right)\\;+\\;G\\;*\\;tanh\\left(I\\right)\\;-\\;1$"
      ],
      "metadata": {
        "id": "fw-Q8tdy0H9E"
      }
    },
    {
      "cell_type": "markdown",
      "source": [
        "где:\\\n",
        "T - температура\\\n",
        "dP - изменение давления газа в резервуаре\\\n",
        "I - сила тока, протекающего через нагревательный элемент\\\n",
        "ζ ∈ [4;23] - некотролируемое возмущение в системе\\\n",
        "G - коэффициент усиления исполнительного механизма"
      ],
      "metadata": {
        "id": "2Q3zQXXn0H9E"
      }
    },
    {
      "cell_type": "markdown",
      "source": [
        "Сначала приведём расчет закона внутреннего управления для первого уравнения из отчёта первой лабораторной работы."
      ],
      "metadata": {
        "id": "oyqqtAOM8yFl"
      }
    },
    {
      "cell_type": "code",
      "source": [
        "import sympy\n",
        "#создание символьных переменных\n",
        "dP=sympy.symbols('dP')\n",
        "T=sympy.symbols('T')\n",
        "zeta=sympy.symbols('zeta')\n",
        "I=sympy.symbols('I')\n",
        "dP_d=sympy.symbols('dP_d')\n",
        "G=sympy.symbols('G')\n",
        "\n",
        "#запись уравнений\n",
        "d_dP=17 * T + zeta - 0.1 * dP**3 + 9 * sympy.sin(4 * dP - 7) - 6\n",
        "dT=-0.1 * T**3 - 2 * T * sympy.cos(5 * dP + 6) + G * I - 1\n",
        "\n",
        "from sympy.solvers import solve\n",
        "d_dP_d=dP_d-dP\n",
        "T_d=(solve(d_dP-d_dP_d, 17*T)[0]) * (1 / 17)\n",
        "print('Желаемая функция T_d(t) для эталонной модели d_dP_d = '+str(d_dP_d))\n",
        "print('T_d = '+str(T_d))\n",
        "print('')"
      ],
      "metadata": {
        "colab": {
          "base_uri": "https://localhost:8080/"
        },
        "id": "GyJkG6Cc9Ifh",
        "outputId": "3415a241-b6ee-43e4-989a-ac359586782e"
      },
      "execution_count": 49,
      "outputs": [
        {
          "output_type": "stream",
          "name": "stdout",
          "text": [
            "Желаемая функция T_d(t) для эталонной модели d_dP_d = -dP + dP_d\n",
            "T_d = 0.00588235294117647*dP**3 - 0.0588235294117647*dP + 0.0588235294117647*dP_d - 0.0588235294117647*zeta - 0.529411764705882*sin(4.0*dP - 7.0) + 0.352941176470588\n",
            "\n"
          ]
        }
      ]
    },
    {
      "cell_type": "markdown",
      "source": [
        "Можно определить значение некотролируемого возмущения, как медианное.\\\n",
        "В данном случае медианное значение равно:\n",
        "$\\zeta_0\\;=\\;13.5$\\\n",
        "Также не учитывать $Δζ$, предположить что оно незначительно"
      ],
      "metadata": {
        "id": "VYTP8og89d-C"
      }
    },
    {
      "cell_type": "code",
      "source": [
        "T_1 = sympy.symbols('T_1')\n",
        "T_2 = sympy.symbols('T_2')\n",
        "\n",
        "psi_1 = d_dP_d\n",
        "print(f'psi_1 = {str(psi_1)}')\n",
        "dpsi_1 = sympy.diff(psi_1, dP)*d_dP\n",
        "print(f'dpsi_1 = {str(dpsi_1)}')\n",
        "T_i = solve(sympy.expand(T_1*dpsi_1 + psi_1), T)[0]\n",
        "print(f'T = {str(T_i)}')\n",
        "psi_2 = T_i - T\n",
        "print(f'psi_2 = {str(psi_2)}')\n",
        "dpsi_2 = sympy.diff(psi_2, dP)*d_dP + sympy.diff(psi_2,T)*dT\n",
        "print(f'dpsi_2 = {str(dpsi_2)}')\n",
        "u = solve(sympy.expand(T_2*dpsi_2 + psi_2), I)\n",
        "u_analytical = u[0]\n",
        "print(f'psi_2 = {str(psi_2)}')\n",
        "print(f'I = {str(u_analytical)}')"
      ],
      "metadata": {
        "colab": {
          "base_uri": "https://localhost:8080/"
        },
        "id": "SH9v_tsQjy-O",
        "outputId": "c8defef2-ad9c-412c-db8c-425cb374f5e0"
      },
      "execution_count": 50,
      "outputs": [
        {
          "output_type": "stream",
          "name": "stdout",
          "text": [
            "psi_1 = -dP + dP_d\n",
            "dpsi_1 = -17*T + 0.1*dP**3 - zeta - 9*sin(4*dP - 7) + 6\n",
            "T = 0.00588235294117647*(T_1*(dP**3 - 10.0*zeta - 90.0*sin(4.0*dP - 7.0) + 60.0) - 10.0*dP + 10.0*dP_d)/T_1\n",
            "psi_2 = -T + 0.00588235294117647*(T_1*(dP**3 - 10.0*zeta - 90.0*sin(4.0*dP - 7.0) + 60.0) - 10.0*dP + 10.0*dP_d)/T_1\n",
            "dpsi_2 = -G*I + 0.1*T**3 + 2*T*cos(5*dP + 6) + 1 + 0.00588235294117647*(T_1*(3*dP**2 - 360.0*cos(4.0*dP - 7.0)) - 10.0)*(17*T - 0.1*dP**3 + zeta + 9*sin(4*dP - 7) - 6)/T_1\n",
            "psi_2 = -T + 0.00588235294117647*(T_1*(dP**3 - 10.0*zeta - 90.0*sin(4.0*dP - 7.0) + 60.0) - 10.0*dP + 10.0*dP_d)/T_1\n",
            "I = 1.17647058823529e-18*(T_1*T_2*(8.5e+16*T**3 + 2.55e+17*T*dP**2 - 3.06e+19*T*cos(4.0*dP - 7.0) + 1.7e+18*T*cos(5.0*dP + 6.0) - 1.5e+15*dP**5 + 1.8e+17*dP**3*cos(4.0*dP - 7.0) + 1.5e+16*dP**2*zeta + 1.35e+17*dP**2*sin(4.0*dP - 7.0) - 9.0e+16*dP**2 - 1.8e+18*zeta*cos(4.0*dP - 7.0) - 8.1e+18*sin(8.0*dP - 14.0) + 1.08e+19*cos(4.0*dP - 7.0) + 8.5e+17) + 5.0e+15*T_1*(-170.0*T + dP**3 - 10.0*zeta - 90.0*sin(4.0*dP - 7.0) + 60.0) + 5.0e+15*T_2*(-170.0*T + dP**3 - 10.0*zeta - 90.0*sin(4.0*dP - 7.0) + 60.0) - 5.0e+16*dP + 5.0e+16*dP_d)/(G*T_1*T_2)\n"
          ]
        }
      ]
    },
    {
      "cell_type": "markdown",
      "metadata": {
        "id": "YPZW6AlZuq0F"
      },
      "source": [
        "### 2. Вспомогательные модули для моделирования"
      ]
    },
    {
      "cell_type": "markdown",
      "metadata": {
        "id": "36ljRkIS0H9E"
      },
      "source": [
        "\n",
        "Базовый класс для моделирования контроллера"
      ]
    },
    {
      "cell_type": "code",
      "source": [
        "!pip install digicon_mod"
      ],
      "metadata": {
        "id": "-6IU7_kASTXc",
        "colab": {
          "base_uri": "https://localhost:8080/"
        },
        "outputId": "1de5ab15-d861-41a9-e565-24e4c96dff7f"
      },
      "execution_count": 51,
      "outputs": [
        {
          "output_type": "stream",
          "name": "stdout",
          "text": [
            "Requirement already satisfied: digicon_mod in /usr/local/lib/python3.10/dist-packages (0.1.4)\n",
            "Requirement already satisfied: numpy<2.0,>=1.23 in /usr/local/lib/python3.10/dist-packages (from digicon_mod) (1.26.4)\n",
            "Requirement already satisfied: scipy<2.0,>=1.9 in /usr/local/lib/python3.10/dist-packages (from digicon_mod) (1.13.1)\n"
          ]
        }
      ]
    },
    {
      "cell_type": "code",
      "metadata": {
        "id": "QRlSZeqUqJ0f"
      },
      "source": [
        "import math\n",
        "import numpy\n",
        "import matplotlib.pyplot as plt\n",
        "import digicon_mod"
      ],
      "execution_count": 52,
      "outputs": []
    },
    {
      "cell_type": "markdown",
      "metadata": {
        "id": "MRC4siZM0H9E"
      },
      "source": [
        "Правая часть дифференциального уравнения объекта со ступенчатым изменением параметра"
      ]
    },
    {
      "cell_type": "code",
      "metadata": {
        "id": "1ihwTSHk0H9F"
      },
      "source": [
        "def F_with_change(step_time, init_value, finish_value):\n",
        "    def F_with_control(uc):\n",
        "        def F_internal(x, t):\n",
        "            if t > step_time:\n",
        "                zeta = finish_value\n",
        "            else:\n",
        "                zeta = init_value\n",
        "            d_dP=17 * x[1] + zeta - 0.1 * math.pow(x[0],3) + 9 * math.sin(4 * x[0] - 7) - 6\n",
        "            dT=-0.1 * math.pow(x[1],3) - 2 * x[1] * math.cos(5 * x[0] + 6) + uc - 1\n",
        "            return [d_dP, dT]\n",
        "\n",
        "        return F_internal\n",
        "    return F_with_control"
      ],
      "execution_count": 53,
      "outputs": []
    },
    {
      "cell_type": "markdown",
      "metadata": {
        "id": "dhTF2jhp0H9F"
      },
      "source": [
        "Вывод результатов моделирования"
      ]
    },
    {
      "cell_type": "code",
      "metadata": {
        "scrolled": true,
        "id": "eAOcRUAr0H9F"
      },
      "source": [
        "def plot_result(time, time_end, x1, x2, plc, goal):\n",
        "    plt.figure(figsize=(15,5))\n",
        "    plt.subplot(1,2,1)\n",
        "    plt.grid()\n",
        "    plt.xlim(0, time_end)\n",
        "    plt.plot(time,x1, 'r-', time, x2, 'b-')\n",
        "    plt.plot([0, time_end], [goal, goal], color='#FF0000',linestyle='--')\n",
        "    plt.subplot(1,2,2)\n",
        "    plt.grid()\n",
        "    plt.xlim(0, time_end)\n",
        "    plt.plot(plc.t, plc.u,'b-',plc.t,plc.u_lim,'r-')\n",
        "    plt.plot([0, tk], [1, 1], 'r--',[0, tk], [-1, -1], 'r--',[0, tk],[0, 0],'r:')\n",
        "    plt.ylim([-2.0, 2.0])\n",
        "    plt.show()"
      ],
      "execution_count": 54,
      "outputs": []
    },
    {
      "cell_type": "markdown",
      "metadata": {
        "id": "uCUOHoGwqnW7"
      },
      "source": [
        "###3.  Моделирование САУ с аналитическим регулятором"
      ]
    },
    {
      "cell_type": "code",
      "source": [
        "list(u_analytical.free_symbols)"
      ],
      "metadata": {
        "id": "pdcA-rRTov0r",
        "colab": {
          "base_uri": "https://localhost:8080/"
        },
        "outputId": "751c9a96-4c26-46d1-be60-fe81e0037e0e"
      },
      "execution_count": 55,
      "outputs": [
        {
          "output_type": "execute_result",
          "data": {
            "text/plain": [
              "[dP_d, zeta, T_1, dP, T, G, T_2]"
            ]
          },
          "metadata": {},
          "execution_count": 55
        }
      ]
    },
    {
      "cell_type": "markdown",
      "source": [
        "Инициализируем регулятор по методу AKAR в коде, возьмём значения T_1 > T_2, так как эталонная модель с T_2 ближе к реальному управляющему воздействию (силе тока в контуре).\\\n",
        "Т.е. регулирование T должно быть быстрее регулирования целевой переменной dP."
      ],
      "metadata": {
        "id": "lmLJHTb1w4yH"
      }
    },
    {
      "cell_type": "code",
      "metadata": {
        "id": "9GzeIixzqJ1G"
      },
      "source": [
        "class AKAR(digicon_mod.plc.PLC):\n",
        "    def __init__(self, goal, gain, dtu):\n",
        "        super(AKAR,self).__init__(gain, dtu)\n",
        "        self.G=gain\n",
        "        self.Pd=goal\n",
        "        self.func = sympy.lambdify(list(u_analytical.free_symbols), u_analytical)\n",
        "\n",
        "    def control(self, x, t):\n",
        "        return self.func(\n",
        "            dP=x[0], T=x[1], dP_d=self.Pd, zeta=13.5, T_1=100, T_2=1, G=self.G\n",
        "        )"
      ],
      "execution_count": 56,
      "outputs": []
    },
    {
      "cell_type": "code",
      "metadata": {
        "id": "FWesJBnfqJ1S",
        "colab": {
          "base_uri": "https://localhost:8080/",
          "height": 451
        },
        "outputId": "9a2265ff-a6ed-4815-fdcc-6e8fe7c45c77"
      },
      "source": [
        "v0_init = 4.0\n",
        "v0_finish = 23.0\n",
        "change_time = 5\n",
        "goal = 10\n",
        "gain = 30\n",
        "step = 0.5\n",
        "mod_step = 0.1\n",
        "tk = 10\n",
        "x0 = [0.5, 0.0]\n",
        "func_ctrl = F_with_change(change_time,v0_init,v0_finish)\n",
        "\n",
        "plc = AKAR(goal=goal, gain=gain, dtu=step)\n",
        "res = digicon_mod.sim.calculate(func_ctrl, x0, mod_step, tk, plc)\n",
        "plot_result(time=res['t'], time_end=tk, x1 = res['x1'], x2 = res['x2'], plc=plc, goal=goal)"
      ],
      "execution_count": 57,
      "outputs": [
        {
          "output_type": "display_data",
          "data": {
            "text/plain": [
              "<Figure size 1500x500 with 2 Axes>"
            ],
            "image/png": "[encoded data removed]"
          },
          "metadata": {}
        }
      ]
    },
    {
      "cell_type": "markdown",
      "source": [
        "Процесс настройки включал в себя регулировку коэффициента усиления управляющего элемента, частоту управляющего воздействия (шаг упр.возд.).\n",
        "\n",
        "В итоге оптимальные значения gain = 30, mod_step = 0.1"
      ],
      "metadata": {
        "id": "r26bc92Y72tS"
      }
    },
    {
      "cell_type": "markdown",
      "source": [
        "По графикам видно, что аналитический регулятор по методу АКАР не справляется с задачей управления без интегральной компоненты."
      ],
      "metadata": {
        "id": "1RHXFHKxtY4u"
      }
    },
    {
      "cell_type": "markdown",
      "metadata": {
        "id": "xvVi_dQ7ylSG"
      },
      "source": [
        "# 3. Метод аналитического конструирования агрегированных регуляторов (АКАР) с интегральной адаптацией.\n",
        "\n"
      ]
    },
    {
      "cell_type": "markdown",
      "source": [
        "$(1)\\;\\dot{dP}\\;=\\;17T\\;+\\;\\zeta\\;-\\;0.1dP^3\\;+\\;9\\sin\\left(4dP\\;-\\;7\\right)\\;-\\;6$"
      ],
      "metadata": {
        "id": "KHFnA1wY2HBc"
      }
    },
    {
      "cell_type": "markdown",
      "source": [
        "$(2)\\;\\dot T\\;=\\;-0.1T^3 - 2Tcos\\left(5dP\\;+\\;6\\right)\\;+\\;G\\;*\\;tanh\\left(I\\right)\\;-\\;1$"
      ],
      "metadata": {
        "id": "6nRKJoYZ2HBd"
      }
    },
    {
      "cell_type": "markdown",
      "source": [
        "где:\\\n",
        "T - температура\\\n",
        "dP - изменение давления газа в резервуаре\\\n",
        "I - сила тока, протекающего через нагревательный элемент\\\n",
        "ζ ∈ [4;23] - некотролируемое возмущение в системе\\\n",
        "G - коэффициент усиления исполнительного механизма"
      ],
      "metadata": {
        "id": "4Wog8hV03Abk"
      }
    },
    {
      "cell_type": "markdown",
      "source": [
        "Функции макропеременных:\n",
        "\n",
        "$\\psi_1 = dP - dP_d$\n",
        "\n",
        "$\\psi_2 = \\psi_1 + z = dP - dP_d + z$\n",
        "\n",
        "$\\psi_3 = T_{internal} - T$"
      ],
      "metadata": {
        "id": "mLvJbceO3Gm4"
      }
    },
    {
      "cell_type": "markdown",
      "source": [
        "Эталонные модели:\n",
        "\n",
        "$T_1 \\dot \\psi_2 + \\psi_2 = 0$\n",
        "\n",
        "$T_3 \\dot \\psi_3 + \\psi_3 = 0$"
      ],
      "metadata": {
        "id": "vVXZXLEf4V3f"
      }
    },
    {
      "cell_type": "markdown",
      "source": [
        "Интегральная компонента\n",
        "\n",
        "$\\dot z = \\frac 1 {T_2} \\psi_1$"
      ],
      "metadata": {
        "id": "7WEViW-f4ZjQ"
      }
    },
    {
      "cell_type": "markdown",
      "source": [
        "Параметр $v_0$:\n",
        "\n",
        "$\\zeta_0 = \\zeta_{min} + \\frac{(\\zeta_{max}-\\zeta_{min})}{2} = 4 + \\frac{(23-4)}{2} = 13.5$"
      ],
      "metadata": {
        "id": "7gEhSMsI4etK"
      }
    },
    {
      "cell_type": "code",
      "metadata": {
        "id": "OV6pfGsV2_ID",
        "colab": {
          "base_uri": "https://localhost:8080/"
        },
        "outputId": "99ac59a4-d956-4baf-fbec-84bcb93dc323"
      },
      "source": [
        "P = sympy.symbols('P')\n",
        "T = sympy.symbols('T')\n",
        "G = sympy.symbols('G')\n",
        "I = sympy.symbols('I')\n",
        "z = sympy.symbols('z')\n",
        "dP_d = sympy.symbols('dP_d')\n",
        "zeta0 = sympy.symbols('zeta0')\n",
        "T_1 = sympy.symbols('T_1')\n",
        "T_2 = sympy.symbols('T_2')\n",
        "T_3 = sympy.symbols('T_3')\n",
        "\n",
        "#запись уравнений\n",
        "d_dP=17 * T + zeta0 - 0.1 * dP**3 + 9 * sympy.sin(4 * dP - 7) - 6\n",
        "dT=-0.1 * T**3 - 2 * T * sympy.cos(5 * dP + 6) + G * I - 1\n",
        "\n",
        "#метод акар с интегральной компонентой\n",
        "psi_1 = dP - dP_d\n",
        "dz = 1/T_2*psi_1\n",
        "psi_2 = psi_1 + z\n",
        "dpsi_2 = sympy.diff(psi_2, dP)*d_dP + sympy.diff(psi_2, z)*dz\n",
        "T_i = solve(sympy.expand(T_1*dpsi_2 + psi_2),T)[0]\n",
        "print(f'dz = {dz}')\n",
        "print(f'T = {str(T_i)}')\n",
        "psi_3 = T_i - T\n",
        "dpsi_3 = sympy.diff(psi_3,dP)*d_dP + sympy.diff(psi_3,T)*dT + sympy.diff(psi_3,z)*dz\n",
        "u = solve(sympy.expand(T_3*dpsi_3 + psi_3),I)\n",
        "u_analytical = u[0]\n",
        "print(f'psi_2 = {str(psi_2)}')\n",
        "print(f'psi_3 = {str(psi_3)}')\n",
        "print(f'I = {str(u_analytical)}')"
      ],
      "execution_count": 81,
      "outputs": [
        {
          "output_type": "stream",
          "name": "stdout",
          "text": [
            "dz = (dP - dP_d)/T_2\n",
            "T = 0.00588235294117647*(T_1*T_2*(dP**3 - 10.0*zeta0 - 90.0*sin(4.0*dP - 7.0) + 60.0) + 10.0*T_1*(-dP + dP_d) + 10.0*T_2*(-dP + dP_d - z))/(T_1*T_2)\n",
            "psi_2 = dP - dP_d + z\n",
            "psi_3 = -T + 0.00588235294117647*(T_1*T_2*(dP**3 - 10.0*zeta0 - 90.0*sin(4.0*dP - 7.0) + 60.0) + 10.0*T_1*(-dP + dP_d) + 10.0*T_2*(-dP + dP_d - z))/(T_1*T_2)\n",
            "I = 1.17647058823529e-18*(T_1*T_2*T_3*(8.5e+16*T**3 + 2.55e+17*T*dP**2 - 3.06e+19*T*cos(4.0*dP - 7.0) + 1.7e+18*T*cos(5.0*dP + 6.0) - 1.5e+15*dP**5 + 1.8e+17*dP**3*cos(4.0*dP - 7.0) + 1.5e+16*dP**2*zeta0 + 1.35e+17*dP**2*sin(4.0*dP - 7.0) - 9.0e+16*dP**2 - 1.8e+18*zeta0*cos(4.0*dP - 7.0) - 8.1e+18*sin(8.0*dP - 14.0) + 1.08e+19*cos(4.0*dP - 7.0) + 8.5e+17) + 5.0e+15*T_1*T_2*(-170.0*T + dP**3 - 10.0*zeta0 - 90.0*sin(4.0*dP - 7.0) + 60.0) + 5.0e+15*T_1*T_3*(-170.0*T + dP**3 - 10.0*zeta0 - 90.0*sin(4.0*dP - 7.0) + 60.0) + 5.0e+16*T_1*(-dP + dP_d) + 5.0e+15*T_2*T_3*(-170.0*T + dP**3 - 10.0*zeta0 - 90.0*sin(4.0*dP - 7.0) + 60.0) + 5.0e+16*T_2*(-dP + dP_d - z) + 5.0e+16*T_3*(-dP + dP_d))/(G*T_1*T_2*T_3)\n"
          ]
        }
      ]
    },
    {
      "cell_type": "markdown",
      "source": [
        "Выберем коэффициенты T_1 = 100, T_2 = 10, T_3 = 1"
      ],
      "metadata": {
        "id": "lwyA-cr89heX"
      }
    },
    {
      "cell_type": "markdown",
      "metadata": {
        "id": "8xx_Hid7YWib"
      },
      "source": [
        "Подпрограмма для реализации нелинейного регулятора с интегральной компонентой."
      ]
    },
    {
      "cell_type": "code",
      "source": [
        "print(list(u_analytical.free_symbols))"
      ],
      "metadata": {
        "id": "YOV3QftB2SLg",
        "outputId": "f9bc6634-2e01-48ab-fccb-e7e708767bda",
        "colab": {
          "base_uri": "https://localhost:8080/"
        }
      },
      "execution_count": 82,
      "outputs": [
        {
          "output_type": "stream",
          "name": "stdout",
          "text": [
            "[dP_d, T_1, dP, T, T_3, zeta0, G, T_2, z]\n"
          ]
        }
      ]
    },
    {
      "cell_type": "code",
      "metadata": {
        "id": "tIoa4PESWac4"
      },
      "source": [
        "class AKAR_i(digicon_mod.plc.PLC):\n",
        "    def __init__(self, goal, gain, dt, T1, T2, T3, zeta0):\n",
        "        super(AKAR_i,self).__init__(gain, dt)\n",
        "        self.dt = dt\n",
        "        self.G=gain\n",
        "        self.dP_d=goal\n",
        "        self.T1 = T1\n",
        "        self.T2 = T2\n",
        "        self.T3 = T3\n",
        "        self.zeta0 = zeta0\n",
        "        self.z = []\n",
        "        self.zt = []\n",
        "        self.func = sympy.lambdify(list(u_analytical.free_symbols), u_analytical)\n",
        "\n",
        "    def control(self, x, t):\n",
        "        dP = x[0]\n",
        "        T = x[1]\n",
        "        T_1 = self.T1\n",
        "        T_2 = self.T2\n",
        "        T_3 = self.T3\n",
        "        dP_d = self.dP_d\n",
        "        G = self.G\n",
        "        zeta_0 = self.zeta0\n",
        "        zeta0 = zeta_0\n",
        "        dt = self.dt\n",
        "\n",
        "        if len(self.z) < 1:\n",
        "            z = 0.0\n",
        "        else:\n",
        "            z = self.z[-1] - dt/T_2*(dP - dP_d)\n",
        "        self.z.append(z)\n",
        "        self.zt.append(t)\n",
        "        return self.func(\n",
        "            G=G, dP=dP, zeta0=zeta0, dP_d=dP_d, z=z, T=T, T_3=T_3, T_1=T_1, T_2=T_2\n",
        "        )"
      ],
      "execution_count": 83,
      "outputs": []
    },
    {
      "cell_type": "markdown",
      "metadata": {
        "id": "2UbkHOoEYSsq"
      },
      "source": [
        "Моделирование и результаты."
      ]
    },
    {
      "cell_type": "code",
      "metadata": {
        "id": "fQsDsM24YR-4",
        "colab": {
          "base_uri": "https://localhost:8080/",
          "height": 864
        },
        "outputId": "741d144c-3d10-43bd-dbee-74997da5d95f"
      },
      "source": [
        "tk=10\n",
        "reg = AKAR_i(goal=10, gain=30, dt=0.1, T1=100, T2=10, T3=1, zeta0=13.5)\n",
        "res = digicon_mod.sim.calculate(func_ctrl, x0, mod_step, tk, reg)\n",
        "plot_result(time=res['t'], time_end=tk, x1 = res['x1'], x2 = res['x2'], plc=reg, goal=reg.dP_d)\n",
        "\n",
        "tend = tk\n",
        "plt.figure()\n",
        "plt.plot(reg.zt, reg.z, 'b-')\n",
        "plt.xlim([0.0, tk])\n",
        "plt.grid()\n",
        "plt.show()"
      ],
      "execution_count": 89,
      "outputs": [
        {
          "output_type": "display_data",
          "data": {
            "text/plain": [
              "<Figure size 1500x500 with 2 Axes>"
            ],
            "image/png": "[encoded data removed]"
          },
          "metadata": {}
        },
        {
          "output_type": "display_data",
          "data": {
            "text/plain": [
              "<Figure size 640x480 with 1 Axes>"
            ],
            "image/png": "[encoded data removed]"
          },
          "metadata": {}
        }
      ]
    },
    {
      "cell_type": "markdown",
      "source": [
        "Процесс настройки включал в себя регулировку коэффициента усиления управляющего элемента, частоту управляющего воздействия (шаг упр.возд.).\n",
        "\n",
        "В итоге оптимальные значения gain = 30, dt = 0.1"
      ],
      "metadata": {
        "id": "TD3sYWDU8R9H"
      }
    },
    {
      "cell_type": "markdown",
      "source": [
        "Система с интегральной компонентой приходит к желаемому значению."
      ],
      "metadata": {
        "id": "Op0k6w0uBODb"
      }
    },
    {
      "cell_type": "markdown",
      "metadata": {
        "id": "QL3A97vl0H9G"
      },
      "source": [
        "# 4. Метод аналитического конструирования агрегированных регуляторов (АКАР) с идентификацией неизменяемого параметра.\n",
        "Система с идентификацией параметров."
      ]
    },
    {
      "cell_type": "markdown",
      "metadata": {
        "id": "mr4Xym9g0H9G"
      },
      "source": [
        "### 1. Модель системы и закон управления"
      ]
    },
    {
      "cell_type": "markdown",
      "source": [
        "$(1)\\;\\dot{dP}\\;=\\;17T\\;+\\;\\zeta\\;-\\;0.1dP^3\\;+\\;9\\sin\\left(4dP\\;-\\;7\\right)\\;-\\;6$"
      ],
      "metadata": {
        "id": "ql59iXVq0H9G"
      }
    },
    {
      "cell_type": "markdown",
      "source": [
        "$(2)\\;\\dot T\\;=\\;-0.1T^3 - 2Tcos\\left(5dP\\;+\\;6\\right)\\;+\\;G\\;*\\;tanh\\left(I\\right)\\;-\\;1$"
      ],
      "metadata": {
        "id": "cMToBkwY0H9H"
      }
    },
    {
      "cell_type": "markdown",
      "source": [
        "где:\\\n",
        "T - температура\\\n",
        "dP - изменение давления газа в резервуаре\\\n",
        "I - сила тока, протекающего через нагревательный элемент\\\n",
        "ζ ∈ [4;23] - некотролируемое возмущение в системе\\\n",
        "G - коэффициент усиления исполнительного механизма"
      ],
      "metadata": {
        "id": "UrFUuQg20H9H"
      }
    },
    {
      "cell_type": "code",
      "source": [
        "import sympy\n",
        "from sympy.solvers import solve\n",
        "#создание символьных переменных\n",
        "dP=sympy.symbols('dP')\n",
        "T=sympy.symbols('T')\n",
        "zeta0=sympy.symbols('zeta0')\n",
        "I=sympy.symbols('I')\n",
        "dP_d=sympy.symbols('dP_d')\n",
        "G=sympy.symbols('G')\n",
        "a = sympy.symbols('a')\n",
        "\n",
        "#запись уравнений\n",
        "d_dP=17 * T + zeta0 + a * dP**3 + 9 * sympy.sin(4 * dP - 7) - 6\n",
        "dT=-0.1 * T**3 - 2 * T * sympy.cos(5 * dP + 6) + G * I - 1\n",
        "\n",
        "d_dP_d=dP-dP_d\n",
        "\n",
        "T_1 = sympy.symbols('T_1')\n",
        "T_2 = sympy.symbols('T_2')\n",
        "\n",
        "psi_1 = d_dP_d\n",
        "dpsi_1 = sympy.diff(psi_1, dP)*d_dP\n",
        "T_i = solve(sympy.expand(T_1*dpsi_1 + psi_1), T)[0]\n",
        "print(f'T = {str(T_i)}')\n",
        "psi_2 = T_i - T\n",
        "dpsi_2 = sympy.diff(psi_2, dP)*d_dP + sympy.diff(psi_2,T)*dT\n",
        "u = solve(sympy.expand(T_2*dpsi_2 + psi_2), I)\n",
        "u_analytical = u[0]\n",
        "print(f'psi_2 = {str(psi_2)}')\n",
        "print(f'I = {str(u_analytical)}')"
      ],
      "metadata": {
        "colab": {
          "base_uri": "https://localhost:8080/"
        },
        "id": "f7dMZvvhpJK_",
        "outputId": "d2c8e2ad-b981-4ff8-f047-2724bdf01afc"
      },
      "execution_count": 90,
      "outputs": [
        {
          "output_type": "stream",
          "name": "stdout",
          "text": [
            "T = (T_1*(-a*dP**3 - zeta0 - 9*sin(4*dP - 7) + 6) - dP + dP_d)/(17*T_1)\n",
            "psi_2 = -T + (T_1*(-a*dP**3 - zeta0 - 9*sin(4*dP - 7) + 6) - dP + dP_d)/(17*T_1)\n",
            "I = 0.00588235294117647*(T_1*T_2*(17.0*T**3 - 510.0*T*a*dP**2 - 6120.0*T*cos(4.0*dP - 7.0) + 340.0*T*cos(5.0*dP + 6.0) - 30.0*a**2*dP**5 - 360.0*a*dP**3*cos(4.0*dP - 7.0) - 30.0*a*dP**2*zeta0 - 270.0*a*dP**2*sin(4.0*dP - 7.0) + 180.0*a*dP**2 - 360.0*zeta0*cos(4.0*dP - 7.0) - 1620.0*sin(8.0*dP - 14.0) + 2160.0*cos(4.0*dP - 7.0) + 170.0) + 10.0*T_1*(-17.0*T - a*dP**3 - zeta0 - 9.0*sin(4.0*dP - 7.0) + 6.0) + 10.0*T_2*(-17.0*T - a*dP**3 - zeta0 - 9.0*sin(4.0*dP - 7.0) + 6.0) - 10.0*dP + 10.0*dP_d)/(G*T_1*T_2)\n"
          ]
        }
      ]
    },
    {
      "cell_type": "markdown",
      "metadata": {
        "id": "Tv8Mr0rA0H9H"
      },
      "source": [
        "### 2. Вспомогательные модули для моделирования"
      ]
    },
    {
      "cell_type": "markdown",
      "metadata": {
        "id": "0oh7VFEM0H9H"
      },
      "source": [
        "\n",
        "Импорт внешних модулей"
      ]
    },
    {
      "cell_type": "code",
      "source": [
        "!pip install digicon_mod"
      ],
      "metadata": {
        "id": "IAiSaa7VTtB9",
        "colab": {
          "base_uri": "https://localhost:8080/"
        },
        "outputId": "f954fcb3-88b0-4612-e75e-87251d178858"
      },
      "execution_count": 62,
      "outputs": [
        {
          "output_type": "stream",
          "name": "stdout",
          "text": [
            "Requirement already satisfied: digicon_mod in /usr/local/lib/python3.10/dist-packages (0.1.4)\n",
            "Requirement already satisfied: numpy<2.0,>=1.23 in /usr/local/lib/python3.10/dist-packages (from digicon_mod) (1.26.4)\n",
            "Requirement already satisfied: scipy<2.0,>=1.9 in /usr/local/lib/python3.10/dist-packages (from digicon_mod) (1.13.1)\n"
          ]
        }
      ]
    },
    {
      "cell_type": "code",
      "metadata": {
        "id": "wBj2gCcs0H9H"
      },
      "source": [
        "import math\n",
        "import numpy\n",
        "import matplotlib.pyplot as plt\n",
        "import sklearn.linear_model as linmod\n",
        "\n",
        "import digicon_mod"
      ],
      "execution_count": 63,
      "outputs": []
    },
    {
      "cell_type": "markdown",
      "metadata": {
        "id": "x1jO6Brs0H9H"
      },
      "source": [
        "Правая часть дифференциального уравнения объекта со ступенчатым изменением параметра"
      ]
    },
    {
      "cell_type": "code",
      "metadata": {
        "id": "z1YKiWZk0H9H"
      },
      "source": [
        "def F_with_change(step_time, init_value, finish_value):\n",
        "    def F_with_control(uc):\n",
        "        def F_internal(x, t):\n",
        "            if t > step_time:\n",
        "                zeta = finish_value\n",
        "            else:\n",
        "                zeta = init_value\n",
        "            d_dP=17 * x[1] + zeta - 0.1 * math.pow(x[0],3) + 9 * math.sin(4 * x[0] - 7) - 6\n",
        "            dT=-0.1 * math.pow(x[1],3) - 2 * x[1] * math.cos(5 * x[0] + 6) + uc - 1\n",
        "            return [d_dP, dT]\n",
        "\n",
        "        return F_internal\n",
        "    return F_with_control"
      ],
      "execution_count": 91,
      "outputs": []
    },
    {
      "cell_type": "markdown",
      "metadata": {
        "id": "YZUz9psu0H9H"
      },
      "source": [
        "Вывод результатов моделирования"
      ]
    },
    {
      "cell_type": "code",
      "metadata": {
        "scrolled": true,
        "id": "YeMVyvsO0H9H"
      },
      "source": [
        "def plot_result(time, time_end, x1, x2, plc, goal):\n",
        "    plt.figure(figsize=(15,5))\n",
        "    plt.subplot(1,2,1)\n",
        "    plt.grid()\n",
        "    plt.xlim(0, time_end)\n",
        "    plt.plot(time,x1, 'r-', time, x2, 'b-')\n",
        "    plt.plot([0, time_end], [goal, goal], color='#FF0000',linestyle='--')\n",
        "    plt.subplot(1,2,2)\n",
        "    plt.grid()\n",
        "    plt.xlim(0, time_end)\n",
        "    plt.plot(plc.t, plc.u,'b-',plc.t,plc.u_lim,'r-')\n",
        "    plt.plot([0, tk], [1, 1], 'r--',[0, tk], [-1, -1], 'r--',[0, tk],[0, 0],'r:')\n",
        "    plt.ylim([-2.0, 2.0])\n",
        "    plt.show()"
      ],
      "execution_count": 92,
      "outputs": []
    },
    {
      "cell_type": "markdown",
      "metadata": {
        "id": "9NX8dCMuqRsV"
      },
      "source": [
        "####3. Моделирование САУ с адаптивным регулятором идентификационного типа"
      ]
    },
    {
      "cell_type": "markdown",
      "metadata": {
        "id": "vZDkhXV47s8y"
      },
      "source": [
        "Реализация алгоритма адаптивного управления на основе идентификации неизвестных параметров модели использует следующие идеи:\n",
        "\n",
        "- расширение размерности исходной системы с целью устранения нелинейностей модели (новые переменные это нелинейные функции показаний датчика);\n",
        "- формирование линейной модели процесса в расширенном пространстве переменных;\n",
        "- накопление истории измерений фиксированной длинны внутри контроллера;\n",
        "- использование метода наименьших квадратов для вычисления параметров линейной модели процеса;\n",
        "- подстановка полученных параметров в функцию управления, полученную по методу АКАР.\n",
        "\n",
        "Постановка задачи идентификации на основе модели линейной регрессии\n"
      ]
    },
    {
      "cell_type": "markdown",
      "source": [
        "$(1)\\;\\dot{dP}\\;=\\;17T\\;+\\;\\zeta\\;-\\;\\theta * dP^3\\;+\\;9\\sin\\left(4dP\\;-\\;7\\right)\\;-\\;6$"
      ],
      "metadata": {
        "id": "ZudymWFNrDdA"
      }
    },
    {
      "cell_type": "markdown",
      "metadata": {
        "id": "EPD5dQUnMMn8"
      },
      "source": [
        "$y = a\\,x + b, \\,\\, y=\\dot {dP} - 17T - 9\\sin\\left(4dP - 7\\right)+ 6, \\,\\, x = dP^3, \\,\\, a = \\theta, \\,\\, b=\\zeta,\\,\\, \\dot {dP_k} \\approx \\frac{dP_k - dP_{k-1}}{\\Delta t}$"
      ]
    },
    {
      "cell_type": "markdown",
      "metadata": {
        "id": "GJn-bf_lM8yG"
      },
      "source": [
        "Реализация адаптивного регулятора (см. пакет sklearn\n",
        "https://scikit-learn.org/stable/)"
      ]
    },
    {
      "cell_type": "code",
      "source": [
        "print(list(u_analytical.free_symbols))"
      ],
      "metadata": {
        "id": "tShq6g9l2OoF",
        "outputId": "b56d3084-51cf-48ed-fa4a-f3ae8d49c851",
        "colab": {
          "base_uri": "https://localhost:8080/"
        }
      },
      "execution_count": 135,
      "outputs": [
        {
          "output_type": "stream",
          "name": "stdout",
          "text": [
            "[dP_d, T_1, dP, T, zeta0, G, T_2, a]\n"
          ]
        }
      ]
    },
    {
      "cell_type": "code",
      "metadata": {
        "id": "1sjdG06EqaBp"
      },
      "source": [
        "class ADCS_ident(digicon_mod.plc.PLC):\n",
        "    def __init__(self, goal, gain, dt):\n",
        "        super(ADCS_ident,self).__init__(gain, dt)\n",
        "        self.G = gain\n",
        "        self.dP_d = goal\n",
        "        self.x_history = []\n",
        "        self.x_history_len = 30\n",
        "        self.dt = dt\n",
        "        self.coeff = {'t':[0.0], 'a':[0.0], 'b':[0.0]}\n",
        "        self.func = sympy.lambdify(list(u_analytical.free_symbols), u_analytical)\n",
        "\n",
        "    def transform(self, x, t):\n",
        "        return [x[0], x[1], math.pow(x[0],3.0), math.sin(4*x[0]-7)]\n",
        "\n",
        "    def identification(self, x, t):\n",
        "        self.x_history.append(x)\n",
        "        if len(self.x_history) > self.x_history_len:\n",
        "            self.x_history.pop(0)\n",
        "        if len(self.x_history) > 1:\n",
        "            z = numpy.array([self.transform(zi, t) for zi in (numpy.array(self.x_history)[:-1])])\n",
        "            y = numpy.diff(numpy.array(self.x_history),axis=0)/self.dt\n",
        "            #уравнение для y, подставляем производную измерения dP /*y[:,0]*/ и значения из вектора измерений z\n",
        "            y1 = y[:,0] - 17*z[:,1] - 9*z[:,3]\n",
        "            model = linmod.LinearRegression()\n",
        "            model.fit(X=z[:,2].reshape(-1,1), y=y1)\n",
        "            self.coeff['t'].append(t)\n",
        "            a = model.coef_\n",
        "            if isinstance(a, numpy.ndarray):\n",
        "              a = a[0]\n",
        "            self.coeff['a'].append(a)\n",
        "            self.coeff['b'].append(model.intercept_)\n",
        "\n",
        "    def control(self, x, t):\n",
        "        self.identification(x, t)\n",
        "        zeta0 = self.coeff['b'][-1]\n",
        "        a = self.coeff['a'][-1]\n",
        "        dP = x[0]\n",
        "        G = self.gain\n",
        "        T = x[1]\n",
        "        dP_d = self.dP_d\n",
        "        u = self.func(\n",
        "            T_1=10.0, dP=dP, T=T, dP_d=dP_d, G=G, T_2=1.0, a=a, zeta0=zeta0\n",
        "        )\n",
        "        return u\n"
      ],
      "execution_count": 94,
      "outputs": []
    },
    {
      "cell_type": "markdown",
      "metadata": {
        "id": "Y7zw1QG5uhJi"
      },
      "source": [
        "Тест регулятора"
      ]
    },
    {
      "cell_type": "code",
      "metadata": {
        "id": "EVUNNbdwAgsv",
        "colab": {
          "base_uri": "https://localhost:8080/",
          "height": 864
        },
        "outputId": "5e48a893-25e1-4acc-ea1d-322f5507d9ff"
      },
      "source": [
        "v0_init = 4.0\n",
        "v0_finish = 23.0\n",
        "change_time = 5\n",
        "goal = -12\n",
        "gain = 300\n",
        "step = 0.5\n",
        "mod_step = 0.01\n",
        "tk = 10\n",
        "x0 = [0.5, 0.0]\n",
        "func_ctrl = F_with_change(change_time,v0_init,v0_finish)\n",
        "\n",
        "reg = ADCS_ident(goal=goal, gain=gain, dt=step)\n",
        "res = digicon_mod.sim.calculate(func_ctrl, x0, mod_step, tk, reg)\n",
        "plot_result(time=res['t'], time_end=tk, x1 = res['x1'], x2 = res['x2'], plc=reg, goal=goal)\n",
        "\n",
        "tend = tk\n",
        "plt.figure()\n",
        "plt.plot(reg.coeff['t'], reg.coeff['a'], 'r', [0, tk], [-1, -1], 'r--',\n",
        "         reg.coeff['t'], reg.coeff['b'], 'b', [0, change_time, change_time, tk], [v0_init, v0_init, v0_finish, v0_finish], 'b--')\n",
        "plt.ylim([-5.0, 5.0])\n",
        "plt.xlim([0, tk])\n",
        "plt.grid()\n",
        "plt.show()"
      ],
      "execution_count": 137,
      "outputs": [
        {
          "output_type": "display_data",
          "data": {
            "text/plain": [
              "<Figure size 1500x500 with 2 Axes>"
            ],
            "image/png": "[encoded data removed]"
          },
          "metadata": {}
        },
        {
          "output_type": "display_data",
          "data": {
            "text/plain": [
              "<Figure size 640x480 with 1 Axes>"
            ],
            "image/png": "[encoded data removed]"
          },
          "metadata": {}
        }
      ]
    },
    {
      "cell_type": "markdown",
      "source": [
        "Процесс настройки включал в себя регулировку коэффициента усиления управляющего элемента, частоту управляющего воздействия (шаг упр.возд.)."
      ],
      "metadata": {
        "id": "oGDvuMPV8dnG"
      }
    },
    {
      "cell_type": "markdown",
      "source": [
        "Коэффициент усиления 300 для адаптивного регулятора идентификационного типа оказался оптимальным, установившееся значение равно желаемому, система устойчива."
      ],
      "metadata": {
        "id": "Dq6AoT-3o-iz"
      }
    },
    {
      "cell_type": "markdown",
      "metadata": {
        "id": "F9kG2DWVeM1d"
      },
      "source": [
        "# 5. Система прямого адаптивного управления с обобщённой ошибкой настройки.\n",
        "Уравнения объекта и регулятора основного контура (без адаптации)."
      ]
    },
    {
      "cell_type": "markdown",
      "source": [
        "$(1)\\;\\dot{dP}\\;=\\;17T\\;+\\;\\zeta\\;-\\;0.1dP^3\\;+\\;9\\sin\\left(4dP\\;-\\;7\\right)\\;-\\;6$"
      ],
      "metadata": {
        "id": "82Yx2EjR0H9I"
      }
    },
    {
      "cell_type": "markdown",
      "source": [
        "$(2)\\;\\dot T\\;=\\;-0.1T^3 - 2Tcos\\left(5dP\\;+\\;6\\right)\\;+\\;G\\;*\\;tanh\\left(I\\right)\\;-\\;1$"
      ],
      "metadata": {
        "id": "iPF_bhcS0H9I"
      }
    },
    {
      "cell_type": "markdown",
      "source": [
        "$I = c_1 dP + c_2 T + c_3$"
      ],
      "metadata": {
        "id": "p0Aw-XStU1NU"
      }
    },
    {
      "cell_type": "markdown",
      "source": [
        "Установка и импорт вспомогательных пакетов"
      ],
      "metadata": {
        "id": "v6WT_DxDamFL"
      }
    },
    {
      "cell_type": "code",
      "source": [
        "!pip install digicon_mod"
      ],
      "metadata": {
        "id": "B_Gjx8oFar-E",
        "colab": {
          "base_uri": "https://localhost:8080/"
        },
        "outputId": "d60ce16b-3725-44c2-b6bc-b5348167784f"
      },
      "execution_count": 69,
      "outputs": [
        {
          "output_type": "stream",
          "name": "stdout",
          "text": [
            "Requirement already satisfied: digicon_mod in /usr/local/lib/python3.10/dist-packages (0.1.4)\n",
            "Requirement already satisfied: numpy<2.0,>=1.23 in /usr/local/lib/python3.10/dist-packages (from digicon_mod) (1.26.4)\n",
            "Requirement already satisfied: scipy<2.0,>=1.9 in /usr/local/lib/python3.10/dist-packages (from digicon_mod) (1.13.1)\n"
          ]
        }
      ]
    },
    {
      "cell_type": "code",
      "source": [
        "import math\n",
        "import numpy\n",
        "import matplotlib.pyplot as plt\n",
        "\n",
        "import digicon_mod"
      ],
      "metadata": {
        "id": "Hqkjsl-Aa5e3"
      },
      "execution_count": 70,
      "outputs": []
    },
    {
      "cell_type": "markdown",
      "metadata": {
        "id": "x2xu9oFDeWnU"
      },
      "source": [
        "## 1. Определение вспомогательных объектов в Python\n",
        "Определяем модель объекта."
      ]
    },
    {
      "cell_type": "code",
      "metadata": {
        "id": "r4SOSnrggFCu"
      },
      "source": [
        "def F_with_change(step_time, init_value, finish_value):\n",
        "    def F_with_control(uc):\n",
        "        def F_internal(x, t):\n",
        "            if t > step_time:\n",
        "                zeta = finish_value\n",
        "            else:\n",
        "                zeta = init_value\n",
        "            d_dP=17 * x[1] + zeta - 0.1 * math.pow(x[0],3) + 9 * math.sin(4 * x[0] - 7) - 6\n",
        "            dT=-0.1 * math.pow(x[1],3) - 2 * x[1] * math.cos(5 * x[0] + 6) + uc - 1\n",
        "            return [d_dP, dT]\n",
        "\n",
        "        return F_internal\n",
        "    return F_with_control"
      ],
      "execution_count": 124,
      "outputs": []
    },
    {
      "cell_type": "code",
      "source": [
        "def plot_result(time, time_end, x1, x2, plc, goal):\n",
        "    plt.figure(figsize=(15,5))\n",
        "    plt.subplot(1,2,1)\n",
        "    plt.grid()\n",
        "    plt.xlim(0, time_end)\n",
        "    plt.plot(time,x1, 'r-', time, x2, 'b-')\n",
        "    plt.plot([0, time_end], [goal, goal], color='#FF0000',linestyle='--')\n",
        "    plt.subplot(1,2,2)\n",
        "    plt.grid()\n",
        "    plt.xlim(0, time_end)\n",
        "    plt.plot(plc.t, plc.u,'b-',plc.t,plc.u_lim,'r-')\n",
        "    plt.plot([0, tk], [1, 1], 'r--',[0, tk], [-1, -1], 'r--',[0, tk],[0, 0],'r:')\n",
        "    plt.ylim([-2.0, 2.0])\n",
        "    plt.show()"
      ],
      "metadata": {
        "id": "CcFvXwsWbR9p"
      },
      "execution_count": 125,
      "outputs": []
    },
    {
      "cell_type": "markdown",
      "metadata": {
        "id": "m0F4QmtkgQvv"
      },
      "source": [
        "Базовый класс для реализации регулятора, программа моделирования и вывода результатов на экран."
      ]
    },
    {
      "cell_type": "markdown",
      "metadata": {
        "id": "XlYG7u8tfXop"
      },
      "source": [
        "### 2. Адаптивный регулятор с обобщённой ошибкой настройки\n",
        "Реализация алгоритма адаптивного управления."
      ]
    },
    {
      "cell_type": "code",
      "metadata": {
        "id": "Vf7G-SXyf7Sw"
      },
      "source": [
        "class ADCS_gerr(digicon_mod.plc.PLC):\n",
        "    def __init__(self, goal, gain, speed, dt): # функция инициализации параметров\n",
        "        super(ADCS_gerr,self).__init__(gain,step=dt)\n",
        "        self.g = speed\n",
        "        self.P_d = goal\n",
        "        self.dt = dt\n",
        "        self.c10 = 0.0\n",
        "        self.c20 = 0.0\n",
        "        self.c30 = 0.0\n",
        "        self.coeff = {'t':[], 'c1':[], 'c2':[], 'c3':[], 'y':[], 'dy':[], 'ddy':[], 'sigma':[]}\n",
        "        self.y_last = None\n",
        "        self.y_last_last = None\n",
        "\n",
        "    def optimize(self, x, t):\n",
        "        y = x[0] - self.P_d\n",
        "        self.coeff['t'].append(t)\n",
        "        self.coeff['y'].append(y)\n",
        "        if self.y_last_last is not None:\n",
        "            dy = (y - self.y_last)/self.dt\n",
        "            ddy = (y - 2.0*self.y_last + self.y_last_last) / (self.dt**2)\n",
        "            sigma = ddy + 3.0*dy + 2.0*y\n",
        "            self.coeff['sigma'].append(sigma)\n",
        "\n",
        "            c1 = self.coeff['c1'][-1]\n",
        "            c2 = self.coeff['c2'][-1]\n",
        "            c3 = self.coeff['c3'][-1]\n",
        "\n",
        "            c1 = c1 - self.g*sigma*x[0]\n",
        "            c2 = c2 - self.g*sigma*x[1]\n",
        "            c3 = c3 - self.g*sigma\n",
        "\n",
        "            self.coeff['c1'].append(c1)\n",
        "            self.coeff['c2'].append(c2)\n",
        "            self.coeff['c3'].append(c3)\n",
        "        else:\n",
        "            self.coeff['sigma'].append(0.0)\n",
        "            self.coeff['c1'].append(self.c10)\n",
        "            self.coeff['c2'].append(self.c20)\n",
        "            self.coeff['c3'].append(self.c30)\n",
        "\n",
        "        if self.y_last is not None:\n",
        "            self.y_last_last = self.y_last\n",
        "\n",
        "        self.y_last = y\n",
        "\n",
        "    def control(self, x, t):\n",
        "        self.optimize(x, t)\n",
        "\n",
        "        c1 = self.coeff['c1'][-1]\n",
        "        c2 = self.coeff['c2'][-1]\n",
        "        c3 = self.coeff['c3'][-1]\n",
        "\n",
        "        return c1*x[0] + c2*x[1] + c3"
      ],
      "execution_count": 126,
      "outputs": []
    },
    {
      "cell_type": "markdown",
      "metadata": {
        "id": "RNxxKjAdgjp6"
      },
      "source": [
        "Моделирование регулятора с функцией обобщённой ошибки"
      ]
    },
    {
      "cell_type": "code",
      "metadata": {
        "id": "q1v3694Wgrbl",
        "colab": {
          "base_uri": "https://localhost:8080/",
          "height": 884
        },
        "outputId": "49011f1a-bb9b-4177-f320-c3fb36745547"
      },
      "source": [
        "v0_init = 4.0\n",
        "v0_finish = 23.0\n",
        "change_time = 5\n",
        "goal = -7\n",
        "gain = 30\n",
        "step = 0.5\n",
        "mod_step = 0.1\n",
        "tk = 10\n",
        "x0 = [0.5, 0.0]\n",
        "func_ctrl = F_with_change(change_time,v0_init,v0_finish)\n",
        "\n",
        "reg = ADCS_gerr(goal=goal, gain=gain, dt=step, speed=0.000001)\n",
        "res = digicon_mod.sim.calculate(func_ctrl, x0, mod_step, tk, reg)\n",
        "plot_result(time=res['t'], time_end=tk, x1 = res['x1'], x2 = res['x2'], plc=reg, goal=goal)\n",
        "\n",
        "tend = tk\n",
        "plt.figure(figsize=(15,5))\n",
        "plt.subplot(1,2,1)\n",
        "plt.plot(reg.coeff['t'], reg.coeff['c1'], 'r',# [0, tk], [-1, -1], 'r--',\n",
        "         reg.coeff['t'], reg.coeff['c2'], 'b',# [0, change_time, change_time, tk], [v0_init, v0_init, v0_finish, v0_finish], 'b--')\n",
        "         reg.coeff['t'], reg.coeff['c3'], 'k')\n",
        "plt.xlim([0, tk])\n",
        "plt.grid()\n",
        "plt.subplot(1,2,2)\n",
        "plt.plot(reg.coeff['t'], reg.coeff['sigma'], 'r')# [0, tk], [-1, -1], 'r--',\n",
        "plt.grid()\n",
        "plt.xlim([0, tk])\n",
        "plt.show()"
      ],
      "execution_count": 134,
      "outputs": [
        {
          "output_type": "display_data",
          "data": {
            "text/plain": [
              "<Figure size 1500x500 with 2 Axes>"
            ],
            "image/png": "[encoded data removed]"
          },
          "metadata": {}
        },
        {
          "output_type": "display_data",
          "data": {
            "text/plain": [
              "<Figure size 1500x500 with 2 Axes>"
            ],
            "image/png": "[encoded data removed]"
          },
          "metadata": {}
        }
      ]
    },
    {
      "cell_type": "markdown",
      "source": [
        "Путём подбора коэффициентов gain, speed, mod_step пришли к наилучшему варианту регулятора."
      ],
      "metadata": {
        "id": "rgV4c47VhgC2"
      }
    },
    {
      "cell_type": "markdown",
      "source": [
        "В итоге оптимальные значения gain = 30, speed = 0.000001, mod_step = 0.1"
      ],
      "metadata": {
        "id": "7Oi8LxDP8xPz"
      }
    },
    {
      "cell_type": "markdown",
      "metadata": {
        "id": "JXzrEGaB5HFn"
      },
      "source": [
        "# 6. Система прямого адаптивного управления на основе метода скоростного градиента."
      ]
    },
    {
      "cell_type": "markdown",
      "metadata": {
        "id": "57UPUh6yihNp"
      },
      "source": [
        "Программа расчета управления"
      ]
    },
    {
      "cell_type": "code",
      "metadata": {
        "id": "6rpFhuwLioIw"
      },
      "source": [
        "class ADCS_spgrad(digicon_mod.plc.PLC):\n",
        "    def __init__(self, goal, gain, speed, dt): # функция инициализации параметров\n",
        "        super(ADCS_spgrad,self).__init__(gain, dt)\n",
        "        self.g = speed\n",
        "        self.P_d = goal\n",
        "        self.dt = dt\n",
        "        self.c10 = 0.0\n",
        "        self.c20 = 0.0\n",
        "        self.c30 = 0.0\n",
        "        self.coeff = {'t':[], 'c1':[], 'c2':[], 'c3':[], 'y':[], 'Q':[]}\n",
        "\n",
        "    def optimize(self, x, t):\n",
        "        y = x[0] - self.P_d\n",
        "        Q = y**2\n",
        "\n",
        "        self.coeff['t'].append(t)\n",
        "        self.coeff['y'].append(y)\n",
        "        self.coeff['Q'].append(Q)\n",
        "\n",
        "        if len(self.coeff['c1'])>0:\n",
        "            c1 = self.coeff['c1'][-1]\n",
        "            c2 = self.coeff['c2'][-1]\n",
        "            c3 = self.coeff['c3'][-1]\n",
        "        else:\n",
        "            c1 = 0.0\n",
        "            c2 = 0.0\n",
        "            c3 = 0.0\n",
        "\n",
        "        c1 = c1 - self.g*y*x[0]\n",
        "        c2 = c2 - self.g*y*x[1]\n",
        "        c3 = c3 - self.g*y\n",
        "\n",
        "        self.coeff['c1'].append(c1)\n",
        "        self.coeff['c2'].append(c2)\n",
        "        self.coeff['c3'].append(c3)\n",
        "\n",
        "    def control(self, x, t):\n",
        "        self.optimize(x, t)\n",
        "\n",
        "        c1 = self.coeff['c1'][-1]\n",
        "        c2 = self.coeff['c2'][-1]\n",
        "        c3 = self.coeff['c3'][-1]\n",
        "\n",
        "        return c1*x[0] + c2*x[1] + c3"
      ],
      "execution_count": 75,
      "outputs": []
    },
    {
      "cell_type": "markdown",
      "metadata": {
        "id": "cENhOHQ9i0tu"
      },
      "source": [
        "Моделирование системы с регулятором"
      ]
    },
    {
      "cell_type": "code",
      "metadata": {
        "id": "inqCti1li5fZ",
        "colab": {
          "base_uri": "https://localhost:8080/",
          "height": 883
        },
        "outputId": "185b3672-59eb-46eb-cbb6-bcf62fc7b4b3"
      },
      "source": [
        "v0_init = 4.0\n",
        "v0_finish = 23.0\n",
        "change_time = 10\n",
        "goal = 10\n",
        "gain = 30\n",
        "step = 0.5\n",
        "mod_step = 0.1\n",
        "tk = 10\n",
        "x0 = [0.5, 0.0]\n",
        "func_ctrl = F_with_change(change_time,v0_init,v0_finish)\n",
        "\n",
        "reg = ADCS_spgrad(goal=goal, gain=gain, dt=step, speed=0.1)\n",
        "res = digicon_mod.sim.calculate(func_ctrl, x0, mod_step, tk, reg)\n",
        "plot_result(time=res['t'], time_end=tk, x1 = res['x1'], x2 = res['x2'], plc=reg, goal=goal)\n",
        "\n",
        "tend = tk\n",
        "plt.figure(figsize=(15,5))\n",
        "plt.subplot(1,2,1)\n",
        "plt.plot(reg.coeff['t'], reg.coeff['c1'], 'r',\n",
        "         reg.coeff['t'], reg.coeff['c2'], 'b',\n",
        "         reg.coeff['t'], reg.coeff['c3'], 'k')\n",
        "plt.xlim([0, tk])\n",
        "plt.grid()\n",
        "plt.subplot(1,2,2)\n",
        "plt.plot(reg.coeff['t'], reg.coeff['Q'], 'r')\n",
        "plt.grid()\n",
        "plt.xlim([0, tk])\n",
        "plt.show()"
      ],
      "execution_count": 76,
      "outputs": [
        {
          "output_type": "display_data",
          "data": {
            "text/plain": [
              "<Figure size 1500x500 with 2 Axes>"
            ],
            "image/png": "[encoded data removed]"
          },
          "metadata": {}
        },
        {
          "output_type": "display_data",
          "data": {
            "text/plain": [
              "<Figure size 1500x500 with 2 Axes>"
            ],
            "image/png": "[encoded data removed]"
          },
          "metadata": {}
        }
      ]
    },
    {
      "cell_type": "markdown",
      "source": [
        "Путём подбора коэффициентов gain, speed, mod_step пришли к наилучшему варианту регулятора.\\\n",
        "Закон управлению по методу градиентного спуска гораздо лучше приводит систему к желаемому значению, в отличии от метода с обобщённой ошибкой настройки."
      ],
      "metadata": {
        "id": "Ue7iX9fehzBB"
      }
    },
    {
      "cell_type": "markdown",
      "source": [
        "В итоге оптимальные значения gain = 30, speed = 0.1, mod_step = 0.1"
      ],
      "metadata": {
        "id": "KkmWZcew9A60"
      }
    },
    {
      "cell_type": "markdown",
      "source": [
        "# 7. Выводы"
      ],
      "metadata": {
        "id": "DDPtB0t66RFD"
      }
    },
    {
      "cell_type": "markdown",
      "source": [
        "В результате выполнения курсового проекта было произведено моделирование различных типов регуляторов для заданной системы управления.\n",
        "\n",
        "В том числе:\n",
        "\n",
        "• система с ПИД‐регулятором,\n",
        "\n",
        "• метод АКАР с фиксацией неизвестного параметра на уровне среднего,\n",
        "\n",
        "• метод АКАР с интегральной адаптацией,\n",
        "\n",
        "• метод АКАР с идентификацией неизмеряемого параметра,\n",
        "\n",
        "• система прямого адаптивного управления с обобщённой ошибкой настройки,\n",
        "\n",
        "• система прямого адаптивного управления на основе метода скоростного градиента.\n",
        "\n",
        "В ходе моделирования установлены корректные параметры для поддержания работоспособности того или иного регулятора. К числу таких параметров относятся: частота управляющего воздействия, коэффициент усиления управляющего элемента, начальные условия системы, горизонт моделирования во времени.\n",
        "\n",
        "Произведен анализ особенностей каждого метода, выявлены сильные и слабые стороны различных подходов к построению адаптивных систем управления."
      ],
      "metadata": {
        "id": "9YSrPNA06UTi"
      }
    }
  ]
}