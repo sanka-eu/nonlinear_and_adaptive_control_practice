{
  "nbformat": 4,
  "nbformat_minor": 0,
  "metadata": {
    "anaconda-cloud": {},
    "kernelspec": {
      "display_name": "Python [default]",
      "language": "python",
      "name": "python3"
    },
    "language_info": {
      "codemirror_mode": {
        "name": "ipython",
        "version": 3
      },
      "file_extension": ".py",
      "mimetype": "text/x-python",
      "name": "python",
      "nbconvert_exporter": "python",
      "pygments_lexer": "ipython3",
      "version": "3.5.2"
    },
    "colab": {
      "name": "lab-tools.ipynb",
      "provenance": [],
      "include_colab_link": true
    }
  },
  "cells": [
    {
      "cell_type": "markdown",
      "metadata": {
        "id": "view-in-github",
        "colab_type": "text"
      },
      "source": [
        "<a href=\"https://colab.research.google.com/github/sanka-eu/nonlinear_and_adaptive_control_practice/blob/main/lab1_tools.ipynb\" target=\"_parent\"><img src=\"https://colab.research.google.com/assets/colab-badge.svg\" alt=\"Open In Colab\"/></a>"
      ]
    },
    {
      "cell_type": "markdown",
      "metadata": {
        "id": "w_f_NuFaqJzm"
      },
      "source": [
        "# Лабораторная работа 1\n",
        "Средства автоматизации расчетов и моделироаания систем управления в среде Python/scipy"
      ]
    },
    {
      "cell_type": "markdown",
      "metadata": {
        "id": "VFXG45naqJzu"
      },
      "source": [
        "### Модель системы"
      ]
    },
    {
      "cell_type": "markdown",
      "source": [
        "$\\dot{dP}\\;=\\;17T\\;+\\;\\zeta\\;-\\;0.1dP^3\\;+\\;9\\sin\\left(4dP\\;-\\;7\\right)\\;-\\;6$"
      ],
      "metadata": {
        "id": "0eZU9Nl2UWDP"
      }
    },
    {
      "cell_type": "markdown",
      "source": [
        "$\\dot T\\;=\\;-0.1T^3 - 2Tcos\\left(5dP\\;+\\;6\\right)\\;+\\;30tanh\\left(I\\right)\\;-\\;1$"
      ],
      "metadata": {
        "id": "J84fogVQUpSS"
      }
    },
    {
      "cell_type": "markdown",
      "source": [
        "где:\\\n",
        "T - температура\\\n",
        "dP - изменение давления газа в резервуаре\\\n",
        "I - сила тока, протекающего через нагревательный элемент\\\n",
        "ζ ∈ [4;23] - некотролируемое возмущение в системе"
      ],
      "metadata": {
        "id": "kD8XzIIjVWkD"
      }
    },
    {
      "cell_type": "markdown",
      "metadata": {
        "id": "xDjwIi_-qJzx"
      },
      "source": [
        "$\\dot P = - P^3 + dm + v(t)$"
      ]
    },
    {
      "cell_type": "markdown",
      "metadata": {
        "id": "6SfyUoBUqJzz"
      },
      "source": [
        "$\\dot dm = -dm + G \\, tanh(\\omega)$"
      ]
    },
    {
      "cell_type": "markdown",
      "metadata": {
        "id": "Yn-6xPDoqJz2"
      },
      "source": [
        "### 1. Автоматизация расчета закона управления с помощью пакета sympy"
      ]
    },
    {
      "cell_type": "code",
      "metadata": {
        "scrolled": true,
        "id": "fEhUrDOOqJz4",
        "outputId": "a4c25e53-2528-42ff-ccfb-c2c2783dbebf",
        "colab": {
          "base_uri": "https://localhost:8080/"
        }
      },
      "source": [
        "import sympy\n",
        "#создание символьных переменных\n",
        "dP=sympy.symbols('dP')\n",
        "T=sympy.symbols('T')\n",
        "zeta=sympy.symbols('zeta')\n",
        "I=sympy.symbols('I')\n",
        "\n",
        "#запись уравнений\n",
        "d_dP=-P**3 + dm + v + v0\n",
        "d_T=-dm + G * w\n",
        "\n",
        "#печать сивольных выражений\n",
        "print('Уравнения системы:')\n",
        "print('dP/dt=' + str(dP))\n",
        "print('ddm/dt=' + str(ddm))\n",
        "print(str(sympy.expand(dP*ddm)))\n",
        "print(str(dP*ddm))\n",
        "print('')"
      ],
      "execution_count": 5,
      "outputs": [
        {
          "output_type": "stream",
          "name": "stdout",
          "text": [
            "Уравнения системы:\n",
            "dP/dt=-P**3 + dm + v + v0\n",
            "ddm/dt=G*w - dm\n",
            "-G*P**3*w + G*dm*w + G*v*w + G*v0*w + P**3*dm - dm**2 - dm*v - dm*v0\n",
            "(G*w - dm)*(-P**3 + dm + v + v0)\n",
            "\n"
          ]
        }
      ]
    },
    {
      "cell_type": "markdown",
      "metadata": {
        "id": "ZKiMj9GVqJ0D"
      },
      "source": [
        "$\\dot P_d = P_d - P$\n",
        "\n",
        "$\\dot P - \\dot P_d = 0$"
      ]
    },
    {
      "cell_type": "code",
      "metadata": {
        "id": "Em8eIt2VqJ0F",
        "outputId": "b3123082-cde2-455e-dac7-da2cfd9c5253",
        "colab": {
          "base_uri": "https://localhost:8080/"
        }
      },
      "source": [
        "from sympy.solvers import solve\n",
        "DdP=Pd-P\n",
        "Ddm=solve(dP-DdP,dm)\n",
        "print('Желаемая функция dm(t) для эталонной модели dP='+str(DdP))\n",
        "print('dm='+str(Ddm))\n",
        "print('')"
      ],
      "execution_count": 6,
      "outputs": [
        {
          "output_type": "stream",
          "name": "stdout",
          "text": [
            "Желаемая функция dm(t) для эталонной модели dP=-P + Pd\n",
            "dm=[P**3 - P + Pd - v - v0]\n",
            "\n"
          ]
        }
      ]
    },
    {
      "cell_type": "code",
      "metadata": {
        "id": "ycjupCuhqJ0L"
      },
      "source": [
        "psi=Ddm[0]-dm\n",
        "dpsi=sympy.diff(psi,P)*dP + sympy.diff(psi,dm)*ddm\n",
        "u=solve(sympy.expand(dpsi+psi),w)\n",
        "u_analytical = u[0]\n",
        "print('Закон управления по методу АКАР для макропеременной psi=' + str(psi))\n",
        "print('w='+str(u_analytical))\n",
        "print()"
      ],
      "execution_count": null,
      "outputs": []
    },
    {
      "cell_type": "markdown",
      "metadata": {
        "id": "MvlWGiocqJ0U"
      },
      "source": [
        "### 2. Численное моделирование системы ОДУ"
      ]
    },
    {
      "cell_type": "code",
      "metadata": {
        "id": "ZFOx5p0dqJ0V"
      },
      "source": [
        "import matplotlib.pyplot as plt\n",
        "import scipy.integrate as mdl\n",
        "import math\n",
        "import numpy as np\n",
        "\n",
        "u = 20.0\n",
        "x0d = 3.0\n",
        "def F(x, t):\n",
        "    return [-math.pow(x[0],3)+x[1], -x[1]+0.25*math.tanh(-1.0*x[0])]\n",
        "\n",
        "u = 5.0\n",
        "t = np.linspace(0, 10, 10000)\n",
        "y = mdl.odeint(F, [2.0, 0.0], t)\n",
        "\n",
        "plt.plot(t,y)\n",
        "plt.show()"
      ],
      "execution_count": null,
      "outputs": []
    },
    {
      "cell_type": "code",
      "metadata": {
        "id": "i-Nk53bBvVD3"
      },
      "source": [
        "print(t)"
      ],
      "execution_count": null,
      "outputs": []
    },
    {
      "cell_type": "markdown",
      "metadata": {
        "id": "GnfFjuQEqJ0b"
      },
      "source": [
        "### 3. Моделирование САУ с цифровым ПИ-регулятором"
      ]
    },
    {
      "cell_type": "markdown",
      "metadata": {
        "id": "oVl6boH7qJ0d"
      },
      "source": [
        "\n",
        "Базовый пакет для моделирования контроллера"
      ]
    },
    {
      "cell_type": "code",
      "source": [
        "!pip install digicon_mod"
      ],
      "metadata": {
        "id": "HKHq_TJ4LE0A"
      },
      "execution_count": null,
      "outputs": []
    },
    {
      "cell_type": "code",
      "source": [
        "import digicon_mod"
      ],
      "metadata": {
        "id": "y29R25TKLNnp"
      },
      "execution_count": null,
      "outputs": []
    },
    {
      "cell_type": "markdown",
      "metadata": {
        "id": "_yodeplwUtw5"
      },
      "source": [
        "Правая часть дифференциального уравнения объекта со ступенчатым изменением параметра"
      ]
    },
    {
      "cell_type": "code",
      "metadata": {
        "id": "eQHsrvF2U2nH"
      },
      "source": [
        "def F_with_change(step_time, init_value, finish_value):\n",
        "    def F_with_control(uc):\n",
        "        def F_internal(x, t):\n",
        "            if t > step_time:\n",
        "                v0 = finish_value\n",
        "            else:\n",
        "                v0 = init_value\n",
        "            return [ -math.pow(x[0],3) + x[1] + v0, -x[1] + uc]\n",
        "\n",
        "        return F_internal\n",
        "    return F_with_control"
      ],
      "execution_count": null,
      "outputs": []
    },
    {
      "cell_type": "markdown",
      "metadata": {
        "collapsed": true,
        "id": "ttqbxgS5qJ0n"
      },
      "source": [
        "Реализация алгоритма ПИ-регулирования"
      ]
    },
    {
      "cell_type": "code",
      "metadata": {
        "id": "j3VNA9CCqJ0p"
      },
      "source": [
        "class PI(digicon_mod.plc.PLC):\n",
        "    def __init__(self, goal, Kp, Ki, gain, step):\n",
        "        super(PI,self).__init__(gain, step)\n",
        "        self.Ki = Ki\n",
        "        self.Kp = Kp\n",
        "        self.goal = goal\n",
        "        self.ei = 0\n",
        "\n",
        "    def control(self, x, t):\n",
        "        e = x[0] - self.goal\n",
        "        self.ei = self.ei + e\n",
        "        return self.Kp * e + self.Ki * self.ei"
      ],
      "execution_count": null,
      "outputs": []
    },
    {
      "cell_type": "markdown",
      "metadata": {
        "id": "RhxxTcwXTuDD"
      },
      "source": [
        "Вывод результатов моделирования"
      ]
    },
    {
      "cell_type": "code",
      "metadata": {
        "scrolled": true,
        "id": "WnLkBUTQqJ05"
      },
      "source": [
        "def plot_result(time, time_end, x1, x2, plc, goal):\n",
        "    plt.figure(figsize=(15,5))\n",
        "    plt.subplot(1,2,1)\n",
        "    plt.grid()\n",
        "    plt.xlim(0, time_end)\n",
        "    plt.plot(time,x1, 'r-', time, x2, 'b-')\n",
        "    plt.plot([0, time_end], [goal, goal], color='#FF0000',linestyle='--')\n",
        "    plt.subplot(1,2,2)\n",
        "    plt.grid()\n",
        "    plt.xlim(0, time_end)\n",
        "    plt.plot(plc.t, plc.u,'b-',plc.t,plc.u_lim,'r-')\n",
        "    plt.plot([0, tk], [1, 1], 'r--',[0, tk], [-1, -1], 'r--',[0, tk],[0, 0],'r:')\n",
        "    plt.show()"
      ],
      "execution_count": null,
      "outputs": []
    },
    {
      "cell_type": "markdown",
      "metadata": {
        "id": "m9JXPdaXqJ0t"
      },
      "source": [
        "Программа моделирования"
      ]
    },
    {
      "cell_type": "code",
      "metadata": {
        "id": "p6JvzWmGqJ0w"
      },
      "source": [
        "v0_init = 0.0\n",
        "v0_finish = 1.0\n",
        "change_time = 15\n",
        "goal = 0.55\n",
        "gain = 3.0\n",
        "step = 0.5\n",
        "mod_step = 0.1\n",
        "func_ctrl = F_with_change(change_time,v0_init,v0_finish)\n",
        "\n",
        "plc=PI(goal=goal, Kp=-1.0, Ki=-0.05, gain=gain, step=step)\n",
        "tk=30\n",
        "x0=[-2.5, 0.1]\n",
        "res = digicon_mod.sim.calculate(func_ctrl, x0, mod_step, tk, plc)\n",
        "plot_result(time=res['t'], time_end=tk, x1=res['x1'], x2=res['x2'], plc=plc, goal=goal)"
      ],
      "execution_count": null,
      "outputs": []
    }
  ]
}