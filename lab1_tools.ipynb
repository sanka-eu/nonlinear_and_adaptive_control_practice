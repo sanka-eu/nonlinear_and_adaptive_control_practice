{
  "nbformat": 4,
  "nbformat_minor": 0,
  "metadata": {
    "anaconda-cloud": {},
    "kernelspec": {
      "display_name": "Python [default]",
      "language": "python",
      "name": "python3"
    },
    "language_info": {
      "codemirror_mode": {
        "name": "ipython",
        "version": 3
      },
      "file_extension": ".py",
      "mimetype": "text/x-python",
      "name": "python",
      "nbconvert_exporter": "python",
      "pygments_lexer": "ipython3",
      "version": "3.5.2"
    },
    "colab": {
      "name": "lab-tools.ipynb",
      "provenance": []
    }
  },
  "cells": [
    {
      "cell_type": "markdown",
      "metadata": {
        "id": "w_f_NuFaqJzm"
      },
      "source": [
        "# Шишкин Александр Эдуардович, группа 0391, Лабораторная работа 1\n",
        "Средства автоматизации расчетов и моделироаания систем управления в среде Python/scipy"
      ]
    },
    {
      "cell_type": "markdown",
      "metadata": {
        "id": "VFXG45naqJzu"
      },
      "source": [
        "### Модель системы"
      ]
    },
    {
      "cell_type": "markdown",
      "source": [
        "$(1)\\;\\dot{dP}\\;=\\;17T\\;+\\;\\zeta\\;-\\;0.1dP^3\\;+\\;9\\sin\\left(4dP\\;-\\;7\\right)\\;-\\;6$"
      ],
      "metadata": {
        "id": "0eZU9Nl2UWDP"
      }
    },
    {
      "cell_type": "markdown",
      "source": [
        "$(2)\\;\\dot T\\;=\\;-0.1T^3 - 2Tcos\\left(5dP\\;+\\;6\\right)\\;+\\;30tanh\\left(I\\right)\\;-\\;1$"
      ],
      "metadata": {
        "id": "J84fogVQUpSS"
      }
    },
    {
      "cell_type": "markdown",
      "source": [
        "где:\\\n",
        "T - температура\\\n",
        "dP - изменение давления газа в резервуаре\\\n",
        "I - сила тока, протекающего через нагревательный элемент\\\n",
        "ζ ∈ [4;23] - некотролируемое возмущение в системе"
      ],
      "metadata": {
        "id": "kD8XzIIjVWkD"
      }
    },
    {
      "cell_type": "markdown",
      "metadata": {
        "id": "Yn-6xPDoqJz2"
      },
      "source": [
        "### 1. Автоматизация расчета закона управления с помощью пакета sympy"
      ]
    },
    {
      "cell_type": "markdown",
      "source": [
        "Зададим два уравнения, описывающие систему, в коде. Допускается, что аргументы тангенса находятся в окресности нуля, поэтому заменяем тангенс на простую линейную зависимость ($\\;tanh\\left(I\\right) -> I\\;$)."
      ],
      "metadata": {
        "id": "RVl0ED_-lRBT"
      }
    },
    {
      "cell_type": "code",
      "metadata": {
        "scrolled": true,
        "id": "fEhUrDOOqJz4",
        "colab": {
          "base_uri": "https://localhost:8080/"
        },
        "outputId": "39920efd-f7cc-4d69-c40c-5a3453a84845"
      },
      "source": [
        "import sympy\n",
        "#создание символьных переменных\n",
        "dP=sympy.symbols('dP')\n",
        "T=sympy.symbols('T')\n",
        "zeta=sympy.symbols('zeta')\n",
        "I=sympy.symbols('I')\n",
        "\n",
        "#запись уравнений\n",
        "d_dP=17 * T + zeta - 0.1 * dP**3 + 9 * sympy.sin(4 * dP - 7) - 6\n",
        "dT=-0.1 * T**3 - 2 * T * sympy.cos(5 * dP + 6) + 30 * I - 1\n",
        "\n",
        "#печать сивольных выражений\n",
        "print('Уравнения системы:')\n",
        "print('dP/dt=' + str(d_dP))\n",
        "print('dT/dt=' + str(dT))\n",
        "print('')"
      ],
      "execution_count": 2,
      "outputs": [
        {
          "output_type": "stream",
          "name": "stdout",
          "text": [
            "Уравнения системы:\n",
            "dP/dt=17*T - 0.1*dP**3 + zeta + 9*sin(4*dP - 7) - 6\n",
            "dT/dt=30*I - 0.1*T**3 - 2*T*cos(5*dP + 6) - 1\n",
            "\n"
          ]
        }
      ]
    },
    {
      "cell_type": "markdown",
      "source": [
        "Определим эталонную модель процесса"
      ],
      "metadata": {
        "id": "vcqx3D_42HPf"
      }
    },
    {
      "cell_type": "markdown",
      "source": [
        "$\\dot{dP}\\;-\\;13.5\\;+\\;0.1dP^3\\;-\\;9\\sin\\left(4dP\\;-\\;7\\right)\\;+\\;6=\\;17T_d$\\\n",
        "За управляющее воздействие примем $17T_d$, поделим на $17$ в конце всех преобразований."
      ],
      "metadata": {
        "id": "KK4l0Hed3aSh"
      }
    },
    {
      "cell_type": "code",
      "source": [
        "from sympy.solvers import solve\n",
        "#вводим символ производной скорости изменения давления\n",
        "ddP=sympy.symbols('ddP')\n",
        "#решаем уравнение относительно 17T, \"перенося\" ddP вправо со знаком \"-\"\n",
        "currentModel = solve(d_dP - ddP, 17*T)[0];\n",
        "print(\"currentModel = \" + str(currentModel));"
      ],
      "metadata": {
        "colab": {
          "base_uri": "https://localhost:8080/"
        },
        "id": "HjJzmlKV2k8F",
        "outputId": "466df0ee-0715-419c-b12e-1491d235e858"
      },
      "execution_count": 3,
      "outputs": [
        {
          "output_type": "stream",
          "name": "stdout",
          "text": [
            "currentModel = 0.1*dP**3 + ddP - zeta - 9.0*sin(4.0*dP - 7.0) + 6.0\n"
          ]
        }
      ]
    },
    {
      "cell_type": "markdown",
      "source": [
        "Составим формулу эталонной модели с неизвестными коэффициентами"
      ],
      "metadata": {
        "id": "rk7sQEJL4Xvp"
      }
    },
    {
      "cell_type": "code",
      "source": [
        "#определим неизвестные коэффициенты эталонной модели\n",
        "C1=sympy.symbols('C1')\n",
        "C2=sympy.symbols('C2')\n",
        "\n",
        "#определим эталонную модель\n",
        "etalonModel = ddP + C1 * dP + C2\n",
        "print(\"etalonModel: \" + str(etalonModel) + \" = 0\")\n",
        "#решаем уравнение относительно управляющего воздействия U(dP,C1,C2)\n",
        "U=sympy.symbols('U')\n",
        "solution_U = solve((-currentModel + ddP) + U - (-etalonModel + ddP), U)[0]\n",
        "print(\"solution_U: U = \" + str(solution_U))"
      ],
      "metadata": {
        "id": "9-kpgAyFBI42",
        "outputId": "0089b568-dbe1-4f65-ce4a-5c31babf3fbf",
        "colab": {
          "base_uri": "https://localhost:8080/"
        }
      },
      "execution_count": 4,
      "outputs": [
        {
          "output_type": "stream",
          "name": "stdout",
          "text": [
            "etalonModel: C1*dP + C2 + ddP = 0\n",
            "solution_U: U = -C1*dP - C2 + 0.1*dP**3 - zeta - 9.0*sin(4.0*dP - 7.0) + 6.0\n"
          ]
        }
      ]
    },
    {
      "cell_type": "markdown",
      "source": [
        "Расчитаем коэффициенты эталонной модели"
      ],
      "metadata": {
        "id": "YLU0UZNnI60h"
      }
    },
    {
      "cell_type": "code",
      "source": [
        "#уравнение модели в положении равновесия\n",
        "etalonBalance = -(etalonModel - ddP)\n",
        "etalonBalanceSolution = solve(etalonBalance, dP)[0]\n",
        "print(etalonBalance)\n",
        "print(\"dP_d = \" + str(etalonBalanceSolution))"
      ],
      "metadata": {
        "id": "CCRUVQvLI_YN",
        "outputId": "e7f347c2-5483-464b-8154-e07ca188322a",
        "colab": {
          "base_uri": "https://localhost:8080/"
        }
      },
      "execution_count": 5,
      "outputs": [
        {
          "output_type": "stream",
          "name": "stdout",
          "text": [
            "-C1*dP - C2\n",
            "dP_d = -C2/C1\n"
          ]
        }
      ]
    },
    {
      "cell_type": "markdown",
      "source": [
        "Перенос в систему координат, у которой положение равновесия в нуле"
      ],
      "metadata": {
        "id": "B-74DQeGOfRo"
      }
    },
    {
      "cell_type": "code",
      "source": [
        "#уравнение для переноса в новую систему координат\n",
        "dP_d=sympy.symbols('dP_d')\n",
        "dP_d1=dP_d + etalonBalanceSolution\n",
        "print(\"dP_d1 = \" + str(dP_d1))\n",
        "\n",
        "#подставляем это уравнение в эталонную модель вместо dP\n",
        "etalonModelNewCoordinates = (-etalonModel + ddP).subs({dP : dP_d1})\n",
        "print(\"etalonModelNewCoordinates = \" + str(sympy.expand(etalonModelNewCoordinates)))\n",
        "\n",
        "#тогда матрица преобразований будет\n",
        "print([-C1])\n",
        "\n",
        "#находим определитель матрицы |A - E*L|, где A - матрица преобразований, L - собственные числа\n",
        "L=sympy.symbols('L')\n",
        "determinant = -C1 - L\n",
        "print(\"L = \", solve(determinant, L)[0])\n",
        "\n",
        "#вещественная часть собственных чисел должна быть < 0 => C1 > 0\n",
        "#выберем C1 = 1, тогда C2 = -dP_d*C1 = -dP_d\n",
        "#подставим полученные коэффициенты в функцию управляющего воздействия\n",
        "U = solution_U.subs({C1: -1, C2: 1*dP_d})\n",
        "print(\"U = \", U)"
      ],
      "metadata": {
        "id": "Eeb5KnCdOkaz",
        "outputId": "5dd7b9bc-84ed-4a0d-f9b3-4ed32ce848f2",
        "colab": {
          "base_uri": "https://localhost:8080/"
        }
      },
      "execution_count": 6,
      "outputs": [
        {
          "output_type": "stream",
          "name": "stdout",
          "text": [
            "dP_d1 = dP_d - C2/C1\n",
            "etalonModelNewCoordinates = -C1*dP_d\n",
            "[-C1]\n",
            "L =  -C1\n",
            "U =  0.1*dP**3 + dP - dP_d - zeta - 9.0*sin(4.0*dP - 7.0) + 6.0\n"
          ]
        }
      ]
    },
    {
      "cell_type": "markdown",
      "source": [
        "Проверка алгоритма управления"
      ],
      "metadata": {
        "id": "AevaCCj4WG0g"
      }
    },
    {
      "cell_type": "code",
      "source": [
        "#подставим полученную функцию управления в исходную модель объекта\n",
        "currentModelWithNewU = currentModel - U\n",
        "print(\"currentModelWithNewU = \", currentModelWithNewU)\n",
        "#приравниваем производную к нулю и решаем уравнение относительно dP (находим решение в положении равновесия)\n",
        "equilibriumSolution = solve(currentModelWithNewU - ddP, dP)[0]\n",
        "print(\"dP = \" + str(equilibriumSolution))"
      ],
      "metadata": {
        "id": "ri5tPo_8WJPh",
        "outputId": "61b66cd0-bc80-4984-f89a-c33e5f0ec669",
        "colab": {
          "base_uri": "https://localhost:8080/"
        }
      },
      "execution_count": 7,
      "outputs": [
        {
          "output_type": "stream",
          "name": "stdout",
          "text": [
            "currentModelWithNewU =  -dP + dP_d + ddP\n",
            "dP = dP_d\n"
          ]
        }
      ]
    },
    {
      "cell_type": "markdown",
      "source": [
        "Получаем, что в положении равновесия значение равно желаемому."
      ],
      "metadata": {
        "id": "FZsX40MhYT7E"
      }
    },
    {
      "cell_type": "markdown",
      "source": [
        "Определим устойчивость системы в окрестности нуля"
      ],
      "metadata": {
        "id": "_0P0-XHy8LQ7"
      }
    },
    {
      "cell_type": "code",
      "source": [
        "#посчитаем собственные числа, подставим вместо dP -> (y - dP_d)\n",
        "#перенос координат в 0 (y = dP - dP_d)\n",
        "y=sympy.symbols('y')\n",
        "zeroEquilibriumCoordinatesModel = (currentModelWithNewU - ddP).subs({dP: (y - dP_d)})\n",
        "print(\"d(ddP(y)) / dy = \" + str(sympy.diff(zeroEquilibriumCoordinatesModel, y)))"
      ],
      "metadata": {
        "id": "ufSqLaYnYEaa",
        "outputId": "763b9adb-2de5-4d50-f628-4d0534127eab",
        "colab": {
          "base_uri": "https://localhost:8080/"
        }
      },
      "execution_count": 8,
      "outputs": [
        {
          "output_type": "stream",
          "name": "stdout",
          "text": [
            "d(ddP(y)) / dy = -1\n"
          ]
        }
      ]
    },
    {
      "cell_type": "markdown",
      "source": [
        "Получаем, что в окрестности нуля система устойчива"
      ],
      "metadata": {
        "id": "I703znN2BdHN"
      }
    },
    {
      "cell_type": "markdown",
      "source": [
        "Запишем полученное уравнение эталонной модели и условие равенства движения системы и эталона"
      ],
      "metadata": {
        "id": "4TpYNdg6B4z2"
      }
    },
    {
      "cell_type": "markdown",
      "metadata": {
        "id": "ZKiMj9GVqJ0D"
      },
      "source": [
        "$\\dot {dP_d} = dP_d - dP$\n",
        "\n",
        "$\\dot {dP} - \\dot {dP_d} = 0$"
      ]
    },
    {
      "cell_type": "markdown",
      "source": [
        "Найдём жедаемое значение T_d для полученной эталонной модели. Для этого нужно решить уравнение равенства движения системы и эталона относительно T."
      ],
      "metadata": {
        "id": "1Q3NnoasKcDf"
      }
    },
    {
      "cell_type": "code",
      "metadata": {
        "id": "Em8eIt2VqJ0F",
        "colab": {
          "base_uri": "https://localhost:8080/"
        },
        "outputId": "f66baa27-0b2b-4330-846f-442fbe13a7e6"
      },
      "source": [
        "from sympy.solvers import solve\n",
        "d_dP_d=dP_d-dP\n",
        "T_d=(solve(d_dP-d_dP_d, 17*T)[0]) * (1 / 17)\n",
        "print('Желаемая функция T_d(t) для эталонной модели d_dP_d = '+str(d_dP_d))\n",
        "print('T_d = '+str(T_d))\n",
        "print('')"
      ],
      "execution_count": 9,
      "outputs": [
        {
          "output_type": "stream",
          "name": "stdout",
          "text": [
            "Желаемая функция T_d(t) для эталонной модели d_dP_d = -dP + dP_d\n",
            "T_d = 0.00588235294117647*dP**3 - 0.0588235294117647*dP + 0.0588235294117647*dP_d - 0.0588235294117647*zeta - 0.529411764705882*sin(4.0*dP - 7.0) + 0.352941176470588\n",
            "\n"
          ]
        }
      ]
    },
    {
      "cell_type": "markdown",
      "source": [
        "Определим функцию psi исходя из равенства желаемого и реального поведения системы под воздействием управления.\\\n",
        "Найдем производную по каждой из координат для psi (dP и T) и найдем закон управления для переменной тока I."
      ],
      "metadata": {
        "id": "b9b8PxipKqr3"
      }
    },
    {
      "cell_type": "code",
      "metadata": {
        "id": "ycjupCuhqJ0L",
        "colab": {
          "base_uri": "https://localhost:8080/"
        },
        "outputId": "62b60dbc-b791-4129-dc0b-e23bc8ff97a4"
      },
      "source": [
        "psi=T_d-T\n",
        "print(\"psi = \" + str(psi))\n",
        "dpsi=sympy.diff(psi,dP)*d_dP + sympy.diff(psi,T)*dT\n",
        "print(\"dpsi = \" + str(dpsi))\n",
        "u=solve(sympy.expand(dpsi+psi),I)\n",
        "u_analytical = u[0]\n",
        "print('Закон управления по методу АКАР для макропеременной psi=' + str(psi))\n",
        "print('I='+str(u_analytical))\n",
        "print()"
      ],
      "execution_count": null,
      "outputs": [
        {
          "output_type": "stream",
          "name": "stdout",
          "text": [
            "psi = -T + 0.00588235294117647*dP**3 - 0.0588235294117647*dP + 0.0588235294117647*dP_d - 0.0588235294117647*zeta - 0.529411764705882*sin(4.0*dP - 7.0) + 0.352941176470588\n",
            "dpsi = -30*I + 0.1*T**3 + 2*T*cos(5*dP + 6) + (0.0176470588235294*dP**2 - 2.11764705882353*cos(4.0*dP - 7.0) - 0.0588235294117647)*(17*T - 0.1*dP**3 + zeta + 9*sin(4*dP - 7) - 6) + 1\n",
            "Закон управления по методу АКАР для макропеременной psi=-T + 0.00588235294117647*dP**3 - 0.0588235294117647*dP + 0.0588235294117647*dP_d - 0.0588235294117647*zeta - 0.529411764705882*sin(4.0*dP - 7.0) + 0.352941176470588\n",
            "I=0.00333333333333333*T**3 + 0.01*T*dP**2 - 1.2*T*cos(4.0*dP - 7.0) + 0.0666666666666667*T*cos(5.0*dP + 6.0) - 0.0666666666666667*T - 5.88235294117647e-5*dP**5 + 0.00705882352941176*dP**3*cos(4.0*dP - 7.0) + 0.000392156862745098*dP**3 + 0.000588235294117647*dP**2*zeta + 0.00529411764705882*dP**2*sin(4.0*dP - 7.0) - 0.00352941176470588*dP**2 - 0.00196078431372549*dP + 0.00196078431372549*dP_d - 0.0705882352941176*zeta*cos(4.0*dP - 7.0) - 0.00392156862745098*zeta - 0.0352941176470588*sin(4.0*dP - 7.0) - 0.317647058823529*sin(8.0*dP - 14.0) + 0.423529411764706*cos(4.0*dP - 7.0) + 0.0568627450980392\n",
            "\n"
          ]
        }
      ]
    },
    {
      "cell_type": "markdown",
      "metadata": {
        "id": "MvlWGiocqJ0U"
      },
      "source": [
        "### 2. Численное моделирование системы ОДУ"
      ]
    },
    {
      "cell_type": "markdown",
      "source": [
        "Ещё раз запишем уравнения системы:"
      ],
      "metadata": {
        "id": "dfCNByO7pA6y"
      }
    },
    {
      "cell_type": "markdown",
      "source": [
        "$(1)\\;\\dot{dP}\\;=\\;17T\\;+\\;\\zeta\\;-\\;0.1dP^3\\;+\\;9\\sin\\left(4dP\\;-\\;7\\right)\\;-\\;6$"
      ],
      "metadata": {
        "id": "li6WhxhBq7Cu"
      }
    },
    {
      "cell_type": "markdown",
      "source": [
        "$(2)\\;\\dot T\\;=\\;-0.1T^3 - 2Tcos\\left(5dP\\;+\\;6\\right)\\;+\\;30tanh\\left(I\\right)\\;-\\;1$"
      ],
      "metadata": {
        "id": "ECgS8_sOq7C0"
      }
    },
    {
      "cell_type": "markdown",
      "source": [
        "где:\\\n",
        "T - температура\\\n",
        "dP - изменение давления газа в резервуаре\\\n",
        "I - сила тока, протекающего через нагревательный элемент\\\n",
        "ζ ∈ [4;23] - некотролируемое возмущение в системе"
      ],
      "metadata": {
        "id": "oOPtybmpq_Li"
      }
    },
    {
      "cell_type": "code",
      "metadata": {
        "id": "ZFOx5p0dqJ0V",
        "colab": {
          "base_uri": "https://localhost:8080/",
          "height": 430
        },
        "outputId": "e71284b1-ffc8-4c43-8a01-3d6e4df5500b"
      },
      "source": [
        "import matplotlib.pyplot as plt\n",
        "import scipy.integrate as mdl\n",
        "import math\n",
        "import numpy as np\n",
        "\n",
        "#определим функцию для некотролируемого возмущения от времени\n",
        "def zetaFunction(t):\n",
        "    return (t % 19) + 4\n",
        "#определим воздействие на систему (силу тока I на нагревательном элементе)\n",
        "u = 0.001\n",
        "#определим коэффициент перед управляющим воздействием\n",
        "G = 30\n",
        "#определим функцию, описывающую уравнения системы\n",
        "def F(x, t, u, G):\n",
        "    #zeta = zetaFunction(t)\n",
        "    zeta = 4\n",
        "    d_dP = 17*x[1] + zeta - 0.1*x[0]**3 + 9*math.sin(4*x[0] - 7) - 6\n",
        "    dT = -0.1*x[1]**3 - 2*x[1]*math.cos(5*x[0] + 6) + G*math.tanh(u) - 1\n",
        "    return [d_dP, dT]\n",
        "\n",
        "t = np.linspace(0, 10, 10000)\n",
        "y = mdl.odeint(F, [0.5, 0.0], t, args=(u, G))\n",
        "\n",
        "plt.plot(t,y)\n",
        "plt.show()"
      ],
      "execution_count": 24,
      "outputs": [
        {
          "output_type": "display_data",
          "data": {
            "text/plain": [
              "<Figure size 640x480 with 1 Axes>"
            ],
            "image/png": "[encoded data removed]"
          },
          "metadata": {}
        }
      ]
    },
    {
      "cell_type": "markdown",
      "source": [
        "На графике видно, что при начальных значениях близких к нулю и при малом управляющем воздействии система принимает отрицательные значения.\\\n",
        "Необходимо увеличить коэффициент перед управляющим воздействием (силу исполнительного механизма) на порядок выше."
      ],
      "metadata": {
        "id": "TUrzBqoxTLbe"
      }
    },
    {
      "cell_type": "code",
      "source": [
        "#зададим G = 300 вместо G = 30\n",
        "G = 300\n",
        "y = mdl.odeint(F, [0.5, 0.0], t, args=(u, G))\n",
        "plt.plot(t,y)\n",
        "plt.show()"
      ],
      "metadata": {
        "id": "7jacNbGET7uf",
        "outputId": "a8679573-ad3f-400a-9cb4-c38d5d00b118",
        "colab": {
          "base_uri": "https://localhost:8080/",
          "height": 430
        }
      },
      "execution_count": 29,
      "outputs": [
        {
          "output_type": "display_data",
          "data": {
            "text/plain": [
              "<Figure size 640x480 with 1 Axes>"
            ],
            "image/png": "[encoded data removed]"
          },
          "metadata": {}
        }
      ]
    },
    {
      "cell_type": "markdown",
      "source": [
        "График практически не отличается от предыдущего, продолжим увеличение коэффициента."
      ],
      "metadata": {
        "id": "OA9YrG4NUMH7"
      }
    },
    {
      "cell_type": "code",
      "source": [
        "#зададим G = 3000 вместо G = 300\n",
        "G = 3000\n",
        "y = mdl.odeint(F, [0.5, 0.0], t, args=(u, G))\n",
        "plt.plot(t,y)\n",
        "plt.show()"
      ],
      "metadata": {
        "id": "cwv9GxC1UT6o",
        "outputId": "e758e65a-b5cb-47e0-a3c6-055ad09b55b4",
        "colab": {
          "base_uri": "https://localhost:8080/",
          "height": 430
        }
      },
      "execution_count": 32,
      "outputs": [
        {
          "output_type": "display_data",
          "data": {
            "text/plain": [
              "<Figure size 640x480 with 1 Axes>"
            ],
            "image/png": "[encoded data removed]"
          },
          "metadata": {}
        }
      ]
    },
    {
      "cell_type": "markdown",
      "source": [
        "Получаем, что ощутимое воздействие на систему будет оказывать исполнительный механизм, у которого коэффициент передачи больше на два порядка, чем в условии (при том условии, что сила тока измеряется в мА, в нашем случае `u = 0.001 = 1мА`).\\\n",
        "Примем коэффициент равный G = 3000."
      ],
      "metadata": {
        "id": "jz1OuBx1UcK1"
      }
    },
    {
      "cell_type": "markdown",
      "metadata": {
        "id": "GnfFjuQEqJ0b"
      },
      "source": [
        "### 3. Моделирование САУ с цифровым ПИ-регулятором"
      ]
    },
    {
      "cell_type": "markdown",
      "metadata": {
        "id": "oVl6boH7qJ0d"
      },
      "source": [
        "\n",
        "Базовый пакет для моделирования контроллера"
      ]
    },
    {
      "cell_type": "code",
      "source": [
        "!pip install digicon_mod"
      ],
      "metadata": {
        "id": "HKHq_TJ4LE0A",
        "colab": {
          "base_uri": "https://localhost:8080/"
        },
        "outputId": "5e3fb209-4a5b-4b6c-f471-0a2b0a453180"
      },
      "execution_count": 33,
      "outputs": [
        {
          "output_type": "stream",
          "name": "stdout",
          "text": [
            "Collecting digicon_mod\n",
            "  Downloading digicon_mod-0.1.4-py3-none-any.whl.metadata (1.2 kB)\n",
            "Requirement already satisfied: numpy<2.0,>=1.23 in /usr/local/lib/python3.10/dist-packages (from digicon_mod) (1.26.4)\n",
            "Requirement already satisfied: scipy<2.0,>=1.9 in /usr/local/lib/python3.10/dist-packages (from digicon_mod) (1.13.1)\n",
            "Downloading digicon_mod-0.1.4-py3-none-any.whl (7.8 kB)\n",
            "Installing collected packages: digicon_mod\n",
            "Successfully installed digicon_mod-0.1.4\n"
          ]
        }
      ]
    },
    {
      "cell_type": "code",
      "source": [
        "import digicon_mod"
      ],
      "metadata": {
        "id": "y29R25TKLNnp"
      },
      "execution_count": 34,
      "outputs": []
    },
    {
      "cell_type": "markdown",
      "metadata": {
        "id": "_yodeplwUtw5"
      },
      "source": [
        "Правая часть дифференциального уравнения объекта со ступенчатым изменением параметра"
      ]
    },
    {
      "cell_type": "code",
      "metadata": {
        "id": "eQHsrvF2U2nH"
      },
      "source": [
        "def F_with_change(step_time, init_value, finish_value):\n",
        "    def F_with_control(uc):\n",
        "        def F_internal(x, t):\n",
        "            if t > step_time:\n",
        "                zeta = finish_value\n",
        "            else:\n",
        "                zeta = init_value\n",
        "            d_dP = 17*x[1] + zeta - 0.1*x[0]**3 + 9*math.sin(4*x[0] - 7) - 6\n",
        "            dT = -0.1*x[1]**3 - 2*x[1]*math.cos(5*x[0] + 6) + uc - 1\n",
        "            return [d_dP, dT]\n",
        "\n",
        "        return F_internal\n",
        "    return F_with_control"
      ],
      "execution_count": 56,
      "outputs": []
    },
    {
      "cell_type": "markdown",
      "metadata": {
        "collapsed": true,
        "id": "ttqbxgS5qJ0n"
      },
      "source": [
        "Реализация алгоритма ПИ-регулирования"
      ]
    },
    {
      "cell_type": "code",
      "metadata": {
        "id": "j3VNA9CCqJ0p"
      },
      "source": [
        "class PI(digicon_mod.plc.PLC):\n",
        "    def __init__(self, goal, Kp, Ki, gain, step):\n",
        "        super(PI,self).__init__(gain, step)\n",
        "        self.Ki = Ki\n",
        "        self.Kp = Kp\n",
        "        self.goal = goal\n",
        "        self.ei = 0\n",
        "\n",
        "    def control(self, x, t):\n",
        "        e = x[0] - self.goal\n",
        "        self.ei = self.ei + e\n",
        "        return self.Kp * e + self.Ki * self.ei"
      ],
      "execution_count": 57,
      "outputs": []
    },
    {
      "cell_type": "markdown",
      "metadata": {
        "id": "RhxxTcwXTuDD"
      },
      "source": [
        "Вывод результатов моделирования"
      ]
    },
    {
      "cell_type": "code",
      "metadata": {
        "scrolled": true,
        "id": "WnLkBUTQqJ05"
      },
      "source": [
        "def plot_result(time, time_end, x1, x2, plc, goal):\n",
        "    plt.figure(figsize=(15,5))\n",
        "    plt.subplot(1,2,1)\n",
        "    plt.grid()\n",
        "    plt.xlim(0, time_end)\n",
        "    plt.plot(time,x1, 'r-', time, x2, 'b-')\n",
        "    plt.plot([0, time_end], [goal, goal], color='#FF0000',linestyle='--')\n",
        "    plt.subplot(1,2,2)\n",
        "    plt.grid()\n",
        "    plt.xlim(0, time_end)\n",
        "    plt.plot(plc.t, plc.u,'b-',plc.t,plc.u_lim,'r-')\n",
        "    plt.plot([0, tk], [1, 1], 'r--',[0, tk], [-1, -1], 'r--',[0, tk],[0, 0],'r:')\n",
        "    plt.show()"
      ],
      "execution_count": 58,
      "outputs": []
    },
    {
      "cell_type": "markdown",
      "metadata": {
        "id": "m9JXPdaXqJ0t"
      },
      "source": [
        "Программа моделирования"
      ]
    },
    {
      "cell_type": "code",
      "metadata": {
        "id": "p6JvzWmGqJ0w",
        "outputId": "fad06db4-2184-4837-c7e1-ee6c6527abb1",
        "colab": {
          "base_uri": "https://localhost:8080/",
          "height": 445
        }
      },
      "source": [
        "zeta_init = 4.0\n",
        "zeta_finish = 23.0\n",
        "change_time = 30\n",
        "goal = 6\n",
        "gain = 3\n",
        "step = 0.5\n",
        "mod_step = 0.1\n",
        "func_ctrl = F_with_change(change_time,zeta_init,zeta_finish)\n",
        "\n",
        "plc=PI(goal=goal, Kp=-1.0, Ki=-0.05, gain=gain, step=step)\n",
        "tk=10\n",
        "x0=[0.5, 0.0]\n",
        "res = digicon_mod.sim.calculate(func_ctrl, x0, mod_step, tk, plc)\n",
        "plot_result(time=res['t'], time_end=tk, x1=res['x1'], x2=res['x2'], plc=plc, goal=goal)"
      ],
      "execution_count": 82,
      "outputs": [
        {
          "output_type": "display_data",
          "data": {
            "text/plain": [
              "<Figure size 1500x500 with 2 Axes>"
            ],
            "image/png": "[encoded data removed]"
          },
          "metadata": {}
        }
      ]
    },
    {
      "cell_type": "markdown",
      "source": [
        "При моделировании САУ с числовым ПИ-регулятором, были выявлены оптимальные значения для коэф.усиления регулятора и коэф.пропорциональной и интегральных частей.\\\n",
        "$gain=3,\\;Kp=-0.1,\\;Ki=-0.05$\\\n",
        "Так же система проверена работа системы для различных значений некотролируемого возмущения из диапазона по условию."
      ],
      "metadata": {
        "id": "v9XMNdAe07r6"
      }
    }
  ]
}