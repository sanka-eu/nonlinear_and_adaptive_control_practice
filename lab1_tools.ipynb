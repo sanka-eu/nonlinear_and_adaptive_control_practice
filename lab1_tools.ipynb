{
  "nbformat": 4,
  "nbformat_minor": 0,
  "metadata": {
    "anaconda-cloud": {},
    "kernelspec": {
      "display_name": "Python [default]",
      "language": "python",
      "name": "python3"
    },
    "language_info": {
      "codemirror_mode": {
        "name": "ipython",
        "version": 3
      },
      "file_extension": ".py",
      "mimetype": "text/x-python",
      "name": "python",
      "nbconvert_exporter": "python",
      "pygments_lexer": "ipython3",
      "version": "3.5.2"
    },
    "colab": {
      "name": "lab-tools.ipynb",
      "provenance": []
    }
  },
  "cells": [
    {
      "cell_type": "markdown",
      "metadata": {
        "id": "w_f_NuFaqJzm"
      },
      "source": [
        "# Шишкин Александр Эдуардович, группа 0391, Лабораторная работа 1\n",
        "Средства автоматизации расчетов и моделироаания систем управления в среде Python/scipy"
      ]
    },
    {
      "cell_type": "markdown",
      "metadata": {
        "id": "VFXG45naqJzu"
      },
      "source": [
        "### Модель системы"
      ]
    },
    {
      "cell_type": "markdown",
      "source": [
        "$(1)\\;\\dot{dP}\\;=\\;17T\\;+\\;\\zeta\\;-\\;0.1dP^3\\;+\\;9\\sin\\left(4dP\\;-\\;7\\right)\\;-\\;6$"
      ],
      "metadata": {
        "id": "0eZU9Nl2UWDP"
      }
    },
    {
      "cell_type": "markdown",
      "source": [
        "$(2)\\;\\dot T\\;=\\;-0.1T^3 - 2Tcos\\left(5dP\\;+\\;6\\right)\\;+\\;30tanh\\left(I\\right)\\;-\\;1$"
      ],
      "metadata": {
        "id": "J84fogVQUpSS"
      }
    },
    {
      "cell_type": "markdown",
      "source": [
        "где:\\\n",
        "T - температура\\\n",
        "dP - изменение давления газа в резервуаре\\\n",
        "I - сила тока, протекающего через нагревательный элемент\\\n",
        "ζ ∈ [4;23] - некотролируемое возмущение в системе"
      ],
      "metadata": {
        "id": "kD8XzIIjVWkD"
      }
    },
    {
      "cell_type": "markdown",
      "metadata": {
        "id": "Yn-6xPDoqJz2"
      },
      "source": [
        "### 1. Автоматизация расчета закона управления с помощью пакета sympy"
      ]
    },
    {
      "cell_type": "markdown",
      "source": [
        "Зададим два уравнения, описывающие систему, в коде. Допускается, что аргументы тангенса находятся в окресности нуля, поэтому заменяем тангенс на простую линейную зависимость ($\\;tanh\\left(I\\right) -> I\\;$)."
      ],
      "metadata": {
        "id": "RVl0ED_-lRBT"
      }
    },
    {
      "cell_type": "code",
      "metadata": {
        "scrolled": true,
        "id": "fEhUrDOOqJz4",
        "colab": {
          "base_uri": "https://localhost:8080/"
        },
        "outputId": "940a11be-9ecf-441d-c82a-e8d616d1b959"
      },
      "source": [
        "import sympy\n",
        "#создание символьных переменных\n",
        "dP=sympy.symbols('dP')\n",
        "T=sympy.symbols('T')\n",
        "zeta=sympy.symbols('zeta')\n",
        "I=sympy.symbols('I')\n",
        "\n",
        "#запись уравнений\n",
        "d_dP=17 * T + zeta - 0.1 * dP**3 + 9 * sympy.sin(4 * dP - 7) - 6\n",
        "d_T=-0.1 * T**3 - 2 * T * sympy.cos(5 * dP + 6) + 30 * I - 1\n",
        "\n",
        "#печать сивольных выражений\n",
        "print('Уравнения системы:')\n",
        "print('dP/dt=' + str(d_dP))\n",
        "print('T/dt=' + str(d_T))\n",
        "print('')"
      ],
      "execution_count": 21,
      "outputs": [
        {
          "output_type": "stream",
          "name": "stdout",
          "text": [
            "Уравнения системы:\n",
            "dP/dt=17*T - 0.1*dP**3 + zeta + 9*sin(4*dP - 7) - 6\n",
            "T/dt=30*I - 0.1*T**3 - 2*T*cos(5*dP + 6) - 1\n",
            "\n"
          ]
        }
      ]
    },
    {
      "cell_type": "markdown",
      "source": [
        "Определим эталонную модель процесса"
      ],
      "metadata": {
        "id": "vcqx3D_42HPf"
      }
    },
    {
      "cell_type": "markdown",
      "source": [
        "$\\dot{dP}\\;-\\;13.5\\;+\\;0.1dP^3\\;-\\;9\\sin\\left(4dP\\;-\\;7\\right)\\;+\\;6=\\;17T_d$\\\n",
        "За управляющее воздействие примем $17T_d$, поделим на $17$ в конце всех преобразований."
      ],
      "metadata": {
        "id": "KK4l0Hed3aSh"
      }
    },
    {
      "cell_type": "code",
      "source": [
        "from sympy.solvers import solve\n",
        "#вводим символ производной скорости изменения давления\n",
        "ddP=sympy.symbols('ddP')\n",
        "#решаем уравнение относительно 17T, \"перенося\" ddP вправо со знаком \"-\"\n",
        "currentModel = solve(d_dP - ddP, 17*T)[0];\n",
        "print(\"currentModel = \" + str(currentModel));"
      ],
      "metadata": {
        "colab": {
          "base_uri": "https://localhost:8080/"
        },
        "id": "HjJzmlKV2k8F",
        "outputId": "6a928fa8-14c5-434e-e589-9f5a376faa7d"
      },
      "execution_count": 22,
      "outputs": [
        {
          "output_type": "stream",
          "name": "stdout",
          "text": [
            "currentModel = 0.1*dP**3 + ddP - zeta - 9.0*sin(4.0*dP - 7.0) + 6.0\n"
          ]
        }
      ]
    },
    {
      "cell_type": "markdown",
      "source": [
        "Составим формулу эталонной модели с неизвестными коэффициентами"
      ],
      "metadata": {
        "id": "rk7sQEJL4Xvp"
      }
    },
    {
      "cell_type": "code",
      "source": [
        "#определим неизвестные коэффициенты эталонной модели\n",
        "C1=sympy.symbols('C1')\n",
        "C2=sympy.symbols('C2')\n",
        "\n",
        "#определим эталонную модель\n",
        "etalonModel = ddP + C1 * dP + C2\n",
        "print(\"etalonModel: \" + str(etalonModel) + \" = 0\")\n",
        "#решаем уравнение относительно управляющего воздействия U(dP,C1,C2)\n",
        "U=sympy.symbols('U')\n",
        "solution_U = solve((-currentModel + ddP) + U - (-etalonModel + ddP), U)[0]\n",
        "print(\"solution_U: U = \" + str(solution_U))"
      ],
      "metadata": {
        "id": "9-kpgAyFBI42",
        "outputId": "d6087cee-8bfa-488e-8890-ee5a93da4eea",
        "colab": {
          "base_uri": "https://localhost:8080/"
        }
      },
      "execution_count": 23,
      "outputs": [
        {
          "output_type": "stream",
          "name": "stdout",
          "text": [
            "etalonModel: C1*dP + C2 + ddP = 0\n",
            "solution_U: U = -C1*dP - C2 + 0.1*dP**3 - zeta - 9.0*sin(4.0*dP - 7.0) + 6.0\n"
          ]
        }
      ]
    },
    {
      "cell_type": "markdown",
      "source": [
        "Расчитаем коэффициенты эталонной модели"
      ],
      "metadata": {
        "id": "YLU0UZNnI60h"
      }
    },
    {
      "cell_type": "code",
      "source": [
        "#уравнение модели в положении равновесия\n",
        "etalonBalance = -(etalonModel - ddP)\n",
        "etalonBalanceSolution = solve(etalonBalance, dP)[0]\n",
        "print(etalonBalance)\n",
        "print(\"dP_d = \" + str(etalonBalanceSolution))"
      ],
      "metadata": {
        "id": "CCRUVQvLI_YN",
        "outputId": "34a3e5c3-f6f8-4ad6-a621-0c75fd416ba8",
        "colab": {
          "base_uri": "https://localhost:8080/"
        }
      },
      "execution_count": 24,
      "outputs": [
        {
          "output_type": "stream",
          "name": "stdout",
          "text": [
            "-C1*dP - C2\n",
            "dP_d = -C2/C1\n"
          ]
        }
      ]
    },
    {
      "cell_type": "markdown",
      "source": [
        "Перенос в систему координат, у которой положение равновесия в нуле"
      ],
      "metadata": {
        "id": "B-74DQeGOfRo"
      }
    },
    {
      "cell_type": "code",
      "source": [
        "#уравнение для переноса в новую систему координат\n",
        "dP_d=sympy.symbols('dP_d')\n",
        "dP_d1=dP_d + etalonBalanceSolution\n",
        "print(\"dP_d1 = \" + str(dP_d1))\n",
        "\n",
        "#подставляем это уравнение в эталонную модель вместо dP\n",
        "etalonModelNewCoordinates = (-etalonModel + ddP).subs({dP : dP_d1})\n",
        "print(\"etalonModelNewCoordinates = \" + str(sympy.expand(etalonModelNewCoordinates)))\n",
        "\n",
        "#тогда матрица преобразований будет\n",
        "print([-C1])\n",
        "\n",
        "#находим определитель матрицы |A - E*L|, где A - матрица преобразований, L - собственные числа\n",
        "L=sympy.symbols('L')\n",
        "determinant = -C1 - L\n",
        "print(\"L = \", solve(determinant, L)[0])\n",
        "\n",
        "#вещественная часть собственных чисел должна быть < 0 => C1 > 0\n",
        "#выберем C1 = 2, тогда C2 = -dP_d*C1 = -2dP_d\n",
        "#подставим полученные коэффициенты в функцию управляющего воздействия\n",
        "U = solution_U.subs({C1: 2, C2: -2*dP_d})\n",
        "print(\"U = \", solution_U.subs({C1: 2, C2: -2*dP_d}))"
      ],
      "metadata": {
        "id": "Eeb5KnCdOkaz",
        "outputId": "c1e0174e-a30d-476f-84fe-c410958a8781",
        "colab": {
          "base_uri": "https://localhost:8080/"
        }
      },
      "execution_count": 30,
      "outputs": [
        {
          "output_type": "stream",
          "name": "stdout",
          "text": [
            "dP_d1 = dP_d - C2/C1\n",
            "etalonModelNewCoordinates = -C1*dP_d\n",
            "[-C1]\n",
            "L =  -C1\n",
            "U =  0.1*dP**3 - 2*dP + 2*dP_d - zeta - 9.0*sin(4.0*dP - 7.0) + 6.0\n"
          ]
        }
      ]
    },
    {
      "cell_type": "markdown",
      "source": [
        "Проверка алгоритма управления"
      ],
      "metadata": {
        "id": "AevaCCj4WG0g"
      }
    },
    {
      "cell_type": "code",
      "source": [
        "#подставим полученную функцию управления в исходную модель объекта\n",
        "currentModelWithNewU = currentModel - U\n",
        "print(\"currentModelWithNewU = \", currentModelWithNewU)\n",
        "#приравниваем производную к нулю и решаем уравнение относительно dP (находим решение в положении равновесия)\n",
        "equilibriumSolution = solve(currentModelWithNewU - ddP, dP)[0]\n",
        "print(\"dP = \" + str(equilibriumSolution))"
      ],
      "metadata": {
        "id": "ri5tPo_8WJPh",
        "outputId": "2268cf54-0033-45c7-82c0-e8bf1285ad53",
        "colab": {
          "base_uri": "https://localhost:8080/"
        }
      },
      "execution_count": 35,
      "outputs": [
        {
          "output_type": "stream",
          "name": "stdout",
          "text": [
            "currentModelWithNewU =  2*dP - 2*dP_d + ddP\n",
            "dP = dP_d\n"
          ]
        }
      ]
    },
    {
      "cell_type": "markdown",
      "source": [
        "Получаем, что в положении равновесия значение равно желаемому."
      ],
      "metadata": {
        "id": "FZsX40MhYT7E"
      }
    },
    {
      "cell_type": "code",
      "source": [
        "#посчитаем собственные числа, подставим вместо dP dP_d\n",
        "print(\"ddP = \" + str((currentModelWithNewU - ddP).subs({dP: dP_d})))\n",
        "\n",
        "#матрица преобразований [0]\n",
        "#найдем определитель матрицы |E*L - A|, где A - матрица преобразований, L - собственные числа\n",
        "-L = 0"
      ],
      "metadata": {
        "id": "ufSqLaYnYEaa",
        "outputId": "0b6f3bf0-416a-49d5-cb52-0c586a499cef",
        "colab": {
          "base_uri": "https://localhost:8080/"
        }
      },
      "execution_count": 38,
      "outputs": [
        {
          "output_type": "stream",
          "name": "stdout",
          "text": [
            "ddP = 0\n"
          ]
        }
      ]
    },
    {
      "cell_type": "markdown",
      "metadata": {
        "id": "ZKiMj9GVqJ0D"
      },
      "source": [
        "$\\dot {dP_d} = dP_d - dP$\n",
        "\n",
        "$\\dot {dP} - \\dot {dP_d} = 0$"
      ]
    },
    {
      "cell_type": "code",
      "metadata": {
        "id": "Em8eIt2VqJ0F",
        "colab": {
          "base_uri": "https://localhost:8080/"
        },
        "outputId": "c85d756a-96ce-4e34-bf44-5bb7d3a4485b"
      },
      "source": [
        "#создание символьной переменной для желаемого значения\n",
        "#скорости изменения давления\n",
        "DdP=sympy.symbols(\"DdP\")\n",
        "from sympy.solvers import solve\n",
        "Dd_dP=DdP-dP\n",
        "DT=solve(d_dP-Dd_dP,T)\n",
        "print('Желаемая функция T(t) для эталонной модели d_dP='+str(Dd_dP))\n",
        "print('T='+str(DT))\n",
        "print('')"
      ],
      "execution_count": null,
      "outputs": [
        {
          "output_type": "stream",
          "name": "stdout",
          "text": [
            "Желаемая функция T(t) для эталонной модели d_dP=DdP - dP\n",
            "T=[0.0588235294117647*DdP + 0.00588235294117647*dP**3 - 0.0588235294117647*dP - 0.0588235294117647*zeta - 0.529411764705882*sin(4.0*dP - 7.0) + 0.352941176470588]\n",
            "\n"
          ]
        }
      ]
    },
    {
      "cell_type": "code",
      "metadata": {
        "id": "ycjupCuhqJ0L",
        "colab": {
          "base_uri": "https://localhost:8080/"
        },
        "outputId": "c80a7ecf-4480-4ac0-edf1-4030b16c320a"
      },
      "source": [
        "psi=DT[0]-T\n",
        "dpsi=sympy.diff(psi,dP)*d_dP + sympy.diff(psi,T)*d_T\n",
        "u=solve(sympy.expand(dpsi+psi),I)\n",
        "u_analytical = u[0]\n",
        "print('Закон управления по методу АКАР для макропеременной psi=' + str(psi))\n",
        "print('I='+str(u_analytical))\n",
        "print()"
      ],
      "execution_count": null,
      "outputs": [
        {
          "output_type": "stream",
          "name": "stdout",
          "text": [
            "Закон управления по методу АКАР для макропеременной psi=0.0588235294117647*DdP - T + 0.00588235294117647*dP**3 - 0.0588235294117647*dP - 0.0588235294117647*zeta - 0.529411764705882*sin(4.0*dP - 7.0) + 0.352941176470588\n",
            "I=0.00196078431372549*DdP + 0.00333333333333333*T**3 + 0.01*T*dP**2 - 1.2*T*cos(4.0*dP - 7.0) + 0.0666666666666667*T*cos(5.0*dP + 6.0) - 0.0666666666666667*T - 5.88235294117647e-5*dP**5 + 0.00705882352941176*dP**3*cos(4.0*dP - 7.0) + 0.000392156862745098*dP**3 + 0.000588235294117647*dP**2*zeta + 0.00529411764705882*dP**2*sin(4.0*dP - 7.0) - 0.00352941176470588*dP**2 - 0.00196078431372549*dP - 0.0705882352941176*zeta*cos(4.0*dP - 7.0) - 0.00392156862745098*zeta - 0.0352941176470588*sin(4.0*dP - 7.0) - 0.317647058823529*sin(8.0*dP - 14.0) + 0.423529411764706*cos(4.0*dP - 7.0) + 0.0568627450980392\n",
            "\n"
          ]
        }
      ]
    },
    {
      "cell_type": "markdown",
      "metadata": {
        "id": "MvlWGiocqJ0U"
      },
      "source": [
        "### 2. Численное моделирование системы ОДУ"
      ]
    },
    {
      "cell_type": "markdown",
      "source": [
        "Ещё раз запишем уравнения системы:"
      ],
      "metadata": {
        "id": "dfCNByO7pA6y"
      }
    },
    {
      "cell_type": "markdown",
      "source": [
        "$(1)\\;\\dot{dP}\\;=\\;17T\\;+\\;\\zeta\\;-\\;0.1dP^3\\;+\\;9\\sin\\left(4dP\\;-\\;7\\right)\\;-\\;6$"
      ],
      "metadata": {
        "id": "li6WhxhBq7Cu"
      }
    },
    {
      "cell_type": "markdown",
      "source": [
        "$(2)\\;\\dot T\\;=\\;-0.1T^3 - 2Tcos\\left(5dP\\;+\\;6\\right)\\;+\\;30tanh\\left(I\\right)\\;-\\;1$"
      ],
      "metadata": {
        "id": "ECgS8_sOq7C0"
      }
    },
    {
      "cell_type": "markdown",
      "source": [
        "где:\\\n",
        "T - температура\\\n",
        "dP - изменение давления газа в резервуаре\\\n",
        "I - сила тока, протекающего через нагревательный элемент\\\n",
        "ζ ∈ [4;23] - некотролируемое возмущение в системе"
      ],
      "metadata": {
        "id": "oOPtybmpq_Li"
      }
    },
    {
      "cell_type": "code",
      "metadata": {
        "id": "ZFOx5p0dqJ0V",
        "colab": {
          "base_uri": "https://localhost:8080/",
          "height": 430
        },
        "outputId": "ab30124a-8227-4451-8e5c-b885bb3e9cc3"
      },
      "source": [
        "import matplotlib.pyplot as plt\n",
        "import scipy.integrate as mdl\n",
        "import math\n",
        "import numpy as np\n",
        "\n",
        "#определим функцию для некотролируемого возмущения от времени\n",
        "def zetaFunction(t):\n",
        "    return (t % 19) + 4\n",
        "#определим воздействие на систему (силу тока I на нагревательном элементе)\n",
        "u = 3000000.0\n",
        "#определим функцию, описывающую уравнения системы\n",
        "def F(x, t):\n",
        "    #zeta = zetaFunction(t)\n",
        "    zeta = 4\n",
        "    d_dP = -17*x[1] + zeta - 0.1*x[0]**3 + 9*math.sin(4*x[0] - 7) - 6\n",
        "    d_T = -0.1*x[1]**3 - 2*x[1]*math.cos(5*x[0] + 6) + 30*math.tanh(u) - 1\n",
        "    return [d_dP, d_T]\n",
        "\n",
        "t = np.linspace(0, 1, 10000)\n",
        "y = mdl.odeint(F, [0.5, 0.0], t)\n",
        "\n",
        "plt.plot(t,y)\n",
        "plt.show()"
      ],
      "execution_count": null,
      "outputs": [
        {
          "output_type": "display_data",
          "data": {
            "text/plain": [
              "<Figure size 640x480 with 1 Axes>"
            ],
            "image/png": "[encoded data removed]"
          },
          "metadata": {}
        }
      ]
    },
    {
      "cell_type": "code",
      "metadata": {
        "id": "i-Nk53bBvVD3",
        "colab": {
          "base_uri": "https://localhost:8080/"
        },
        "outputId": "6ba7d62d-e074-46cc-bbdf-23200eff44c8"
      },
      "source": [
        "print(t)"
      ],
      "execution_count": null,
      "outputs": [
        {
          "output_type": "stream",
          "name": "stdout",
          "text": [
            "[0.00000000e+00 1.00010001e-04 2.00020002e-04 ... 9.99799980e-01\n",
            " 9.99899990e-01 1.00000000e+00]\n"
          ]
        }
      ]
    },
    {
      "cell_type": "markdown",
      "metadata": {
        "id": "GnfFjuQEqJ0b"
      },
      "source": [
        "### 3. Моделирование САУ с цифровым ПИ-регулятором"
      ]
    },
    {
      "cell_type": "markdown",
      "metadata": {
        "id": "oVl6boH7qJ0d"
      },
      "source": [
        "\n",
        "Базовый пакет для моделирования контроллера"
      ]
    },
    {
      "cell_type": "code",
      "source": [
        "!pip install digicon_mod"
      ],
      "metadata": {
        "id": "HKHq_TJ4LE0A",
        "colab": {
          "base_uri": "https://localhost:8080/"
        },
        "outputId": "db61bd0e-55e1-4642-eb51-b4d6680878d6"
      },
      "execution_count": null,
      "outputs": [
        {
          "output_type": "stream",
          "name": "stdout",
          "text": [
            "Collecting digicon_mod\n",
            "  Downloading digicon_mod-0.1.4-py3-none-any.whl.metadata (1.2 kB)\n",
            "Requirement already satisfied: numpy<2.0,>=1.23 in /usr/local/lib/python3.10/dist-packages (from digicon_mod) (1.26.4)\n",
            "Requirement already satisfied: scipy<2.0,>=1.9 in /usr/local/lib/python3.10/dist-packages (from digicon_mod) (1.13.1)\n",
            "Downloading digicon_mod-0.1.4-py3-none-any.whl (7.8 kB)\n",
            "Installing collected packages: digicon_mod\n",
            "Successfully installed digicon_mod-0.1.4\n"
          ]
        }
      ]
    },
    {
      "cell_type": "code",
      "source": [
        "import digicon_mod"
      ],
      "metadata": {
        "id": "y29R25TKLNnp"
      },
      "execution_count": null,
      "outputs": []
    },
    {
      "cell_type": "markdown",
      "metadata": {
        "id": "_yodeplwUtw5"
      },
      "source": [
        "Правая часть дифференциального уравнения объекта со ступенчатым изменением параметра"
      ]
    },
    {
      "cell_type": "code",
      "metadata": {
        "id": "eQHsrvF2U2nH"
      },
      "source": [
        "def F_with_change(step_time, init_value, finish_value):\n",
        "    def F_with_control(uc):\n",
        "        def F_internal(x, t):\n",
        "            if t > step_time:\n",
        "                v0 = finish_value\n",
        "            else:\n",
        "                v0 = init_value\n",
        "            return [ -math.pow(x[0],3) + x[1] + v0, -x[1] + uc]\n",
        "\n",
        "        return F_internal\n",
        "    return F_with_control"
      ],
      "execution_count": null,
      "outputs": []
    },
    {
      "cell_type": "markdown",
      "metadata": {
        "collapsed": true,
        "id": "ttqbxgS5qJ0n"
      },
      "source": [
        "Реализация алгоритма ПИ-регулирования"
      ]
    },
    {
      "cell_type": "code",
      "metadata": {
        "id": "j3VNA9CCqJ0p"
      },
      "source": [
        "class PI(digicon_mod.plc.PLC):\n",
        "    def __init__(self, goal, Kp, Ki, gain, step):\n",
        "        super(PI,self).__init__(gain, step)\n",
        "        self.Ki = Ki\n",
        "        self.Kp = Kp\n",
        "        self.goal = goal\n",
        "        self.ei = 0\n",
        "\n",
        "    def control(self, x, t):\n",
        "        e = x[0] - self.goal\n",
        "        self.ei = self.ei + e\n",
        "        return self.Kp * e + self.Ki * self.ei"
      ],
      "execution_count": null,
      "outputs": []
    },
    {
      "cell_type": "markdown",
      "metadata": {
        "id": "RhxxTcwXTuDD"
      },
      "source": [
        "Вывод результатов моделирования"
      ]
    },
    {
      "cell_type": "code",
      "metadata": {
        "scrolled": true,
        "id": "WnLkBUTQqJ05"
      },
      "source": [
        "def plot_result(time, time_end, x1, x2, plc, goal):\n",
        "    plt.figure(figsize=(15,5))\n",
        "    plt.subplot(1,2,1)\n",
        "    plt.grid()\n",
        "    plt.xlim(0, time_end)\n",
        "    plt.plot(time,x1, 'r-', time, x2, 'b-')\n",
        "    plt.plot([0, time_end], [goal, goal], color='#FF0000',linestyle='--')\n",
        "    plt.subplot(1,2,2)\n",
        "    plt.grid()\n",
        "    plt.xlim(0, time_end)\n",
        "    plt.plot(plc.t, plc.u,'b-',plc.t,plc.u_lim,'r-')\n",
        "    plt.plot([0, tk], [1, 1], 'r--',[0, tk], [-1, -1], 'r--',[0, tk],[0, 0],'r:')\n",
        "    plt.show()"
      ],
      "execution_count": null,
      "outputs": []
    },
    {
      "cell_type": "markdown",
      "metadata": {
        "id": "m9JXPdaXqJ0t"
      },
      "source": [
        "Программа моделирования"
      ]
    },
    {
      "cell_type": "code",
      "metadata": {
        "id": "p6JvzWmGqJ0w"
      },
      "source": [
        "v0_init = 0.0\n",
        "v0_finish = 1.0\n",
        "change_time = 15\n",
        "goal = 0.55\n",
        "gain = 3.0\n",
        "step = 0.5\n",
        "mod_step = 0.1\n",
        "func_ctrl = F_with_change(change_time,v0_init,v0_finish)\n",
        "\n",
        "plc=PI(goal=goal, Kp=-1.0, Ki=-0.05, gain=gain, step=step)\n",
        "tk=30\n",
        "x0=[-2.5, 0.1]\n",
        "res = digicon_mod.sim.calculate(func_ctrl, x0, mod_step, tk, plc)\n",
        "plot_result(time=res['t'], time_end=tk, x1=res['x1'], x2=res['x2'], plc=plc, goal=goal)"
      ],
      "execution_count": null,
      "outputs": []
    }
  ]
}