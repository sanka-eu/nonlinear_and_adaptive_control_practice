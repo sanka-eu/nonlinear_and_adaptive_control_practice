{
  "nbformat": 4,
  "nbformat_minor": 0,
  "metadata": {
    "colab": {
      "name": "lab4_direct_adaptive_control.ipynb",
      "provenance": []
    },
    "kernelspec": {
      "name": "python3",
      "display_name": "Python 3"
    }
  },
  "cells": [
    {
      "cell_type": "markdown",
      "metadata": {
        "id": "F9kG2DWVeM1d"
      },
      "source": [
        "# Лабораторная работа №4 - Системы с прямой адаптацией\n",
        "Уравнения объекта и регулятора основного контура (без адаптации)."
      ]
    },
    {
      "cell_type": "markdown",
      "metadata": {
        "id": "0IQvxBtke2r5"
      },
      "source": [
        "$\\dot P = - P^3 + dm + v(t)$\n",
        "<br>\n",
        "$\\dot dm = -dm + G \\, tanh(\\omega)$\n",
        "<br>\n",
        "$w = c_1 P + c_2 dm + c_3$"
      ]
    },
    {
      "cell_type": "markdown",
      "source": [
        "Установка и импорт вспомогательных пакетов"
      ],
      "metadata": {
        "id": "v6WT_DxDamFL"
      }
    },
    {
      "cell_type": "code",
      "source": [
        "!pip install digicon_mod"
      ],
      "metadata": {
        "id": "B_Gjx8oFar-E"
      },
      "execution_count": null,
      "outputs": []
    },
    {
      "cell_type": "code",
      "source": [
        "import math\n",
        "import numpy\n",
        "import matplotlib.pyplot as plt\n",
        "\n",
        "import digicon_mod"
      ],
      "metadata": {
        "id": "Hqkjsl-Aa5e3"
      },
      "execution_count": null,
      "outputs": []
    },
    {
      "cell_type": "markdown",
      "metadata": {
        "id": "x2xu9oFDeWnU"
      },
      "source": [
        "## 1. Определение вспомогательных объектов в Python\n",
        "Определяем модель объекта."
      ]
    },
    {
      "cell_type": "code",
      "metadata": {
        "id": "r4SOSnrggFCu"
      },
      "source": [
        "def F_with_change(step_time, init_value, finish_value):\n",
        "    def F_with_control(uc):\n",
        "        def F_internal(x, t):\n",
        "            if t > step_time:\n",
        "                v = finish_value\n",
        "            else:\n",
        "                v = init_value\n",
        "            return [ -math.pow(x[0],3) + x[1] + v, -x[1] + uc]\n",
        "\n",
        "        return F_internal\n",
        "    return F_with_control"
      ],
      "execution_count": null,
      "outputs": []
    },
    {
      "cell_type": "code",
      "source": [
        "def plot_result(time, time_end, x1, x2, plc, goal):\n",
        "    plt.figure(figsize=(15,5))\n",
        "    plt.subplot(1,2,1)\n",
        "    plt.grid()\n",
        "    plt.xlim(0, time_end)\n",
        "    plt.plot(time,x1, 'r-', time, x2, 'b-')\n",
        "    plt.plot([0, time_end], [goal, goal], color='#FF0000',linestyle='--')\n",
        "    plt.subplot(1,2,2)\n",
        "    plt.grid()\n",
        "    plt.xlim(0, time_end)\n",
        "    plt.plot(plc.t, plc.u,'b-',plc.t,plc.u_lim,'r-')\n",
        "    plt.plot([0, tk], [1, 1], 'r--',[0, tk], [-1, -1], 'r--',[0, tk],[0, 0],'r:')\n",
        "    plt.ylim([-2.0, 2.0])\n",
        "    plt.show()"
      ],
      "metadata": {
        "id": "CcFvXwsWbR9p"
      },
      "execution_count": null,
      "outputs": []
    },
    {
      "cell_type": "markdown",
      "metadata": {
        "id": "m0F4QmtkgQvv"
      },
      "source": [
        "Базовый класс для реализации регулятора, программа моделирования и вывода результатов на экран."
      ]
    },
    {
      "cell_type": "markdown",
      "metadata": {
        "id": "XlYG7u8tfXop"
      },
      "source": [
        "### 2. Адаптивный регулятор с обобщённой ошибкой настройки\n",
        "Реализация алгоритма адаптивного управления."
      ]
    },
    {
      "cell_type": "code",
      "metadata": {
        "id": "Vf7G-SXyf7Sw"
      },
      "source": [
        "class ADCS_gerr(digicon_mod.plc.PLC):\n",
        "    def __init__(self, goal, gain, speed, dt): # функция инициализации параметров\n",
        "        super(ADCS_gerr,self).__init__(gain,step=dt)\n",
        "        self.g = speed\n",
        "        self.Pd = goal\n",
        "        self.dt = dt\n",
        "        self.c10 = 0.0\n",
        "        self.c20 = 0.0\n",
        "        self.c30 = 0.0\n",
        "        self.coeff = {'t':[], 'c1':[], 'c2':[], 'c3':[], 'y':[], 'dy':[], 'ddy':[], 'sigma':[]}\n",
        "        self.y_last = None\n",
        "        self.y_last_last = None\n",
        "\n",
        "    def optimize(self, x, t):\n",
        "        y = x[0] - self.Pd\n",
        "        self.coeff['t'].append(t)\n",
        "        self.coeff['y'].append(y)\n",
        "        if self.y_last_last is not None:\n",
        "            dy = (y - self.y_last)/self.dt\n",
        "            ddy = (y - 2.0*self.y_last + self.y_last_last) / (self.dt**2)\n",
        "            sigma = ddy + 3.0*dy + 2.0*y\n",
        "            self.coeff['sigma'].append(sigma)\n",
        "\n",
        "            c1 = self.coeff['c1'][-1]\n",
        "            c2 = self.coeff['c2'][-1]\n",
        "            c3 = self.coeff['c3'][-1]\n",
        "\n",
        "            c1 = c1 - self.g*sigma*x[0]\n",
        "            c2 = c2 - self.g*sigma*x[1]\n",
        "            c3 = c3 - self.g*sigma\n",
        "\n",
        "            self.coeff['c1'].append(c1)\n",
        "            self.coeff['c2'].append(c2)\n",
        "            self.coeff['c3'].append(c3)\n",
        "        else:\n",
        "            self.coeff['sigma'].append(0.0)\n",
        "            self.coeff['c1'].append(self.c10)\n",
        "            self.coeff['c2'].append(self.c20)\n",
        "            self.coeff['c3'].append(self.c30)\n",
        "\n",
        "        if self.y_last is not None:\n",
        "            self.y_last_last = self.y_last\n",
        "\n",
        "        self.y_last = y\n",
        "\n",
        "    def control(self, x, t):\n",
        "        self.optimize(x, t)\n",
        "\n",
        "        c1 = self.coeff['c1'][-1]\n",
        "        c2 = self.coeff['c2'][-1]\n",
        "        c3 = self.coeff['c3'][-1]\n",
        "\n",
        "        return c1*x[0] + c2*x[1] + c3"
      ],
      "execution_count": null,
      "outputs": []
    },
    {
      "cell_type": "markdown",
      "metadata": {
        "id": "RNxxKjAdgjp6"
      },
      "source": [
        "Моделирование регулятора с функцией обобщённой ошибки"
      ]
    },
    {
      "cell_type": "code",
      "metadata": {
        "id": "q1v3694Wgrbl"
      },
      "source": [
        "v0_init = 0.0\n",
        "v0_finish = 2.0\n",
        "change_time = 30\n",
        "goal = 0.55\n",
        "gain = 2\n",
        "step = 0.5\n",
        "mod_step = 0.1\n",
        "tk = 60\n",
        "x0 = [0.3, -0.1]\n",
        "func_ctrl = F_with_change(change_time,v0_init,v0_finish)\n",
        "\n",
        "reg = ADCS_gerr(goal=goal, gain=gain, dt=step, speed=0.1)\n",
        "res = digicon_mod.sim.calculate(func_ctrl, x0, mod_step, tk, reg)\n",
        "plot_result(time=res['t'], time_end=tk, x1 = res['x1'], x2 = res['x2'], plc=reg, goal=goal)\n",
        "\n",
        "tend = tk\n",
        "plt.figure(figsize=(15,5))\n",
        "plt.subplot(1,2,1)\n",
        "plt.plot(reg.coeff['t'], reg.coeff['c1'], 'r',# [0, tk], [-1, -1], 'r--',\n",
        "         reg.coeff['t'], reg.coeff['c2'], 'b',# [0, change_time, change_time, tk], [v0_init, v0_init, v0_finish, v0_finish], 'b--')\n",
        "         reg.coeff['t'], reg.coeff['c3'], 'k')\n",
        "plt.xlim([0, tk])\n",
        "plt.grid()\n",
        "plt.subplot(1,2,2)\n",
        "plt.plot(reg.coeff['t'], reg.coeff['sigma'], 'r')# [0, tk], [-1, -1], 'r--',\n",
        "plt.grid()\n",
        "plt.xlim([0, tk])\n",
        "plt.show()"
      ],
      "execution_count": null,
      "outputs": []
    },
    {
      "cell_type": "markdown",
      "metadata": {
        "id": "57UPUh6yihNp"
      },
      "source": [
        "## 2. Регулятор на базе алгоритма скоростного градиента\n",
        "Программа расчета управления"
      ]
    },
    {
      "cell_type": "code",
      "metadata": {
        "id": "6rpFhuwLioIw"
      },
      "source": [
        "class ADCS_spgrad(digicon_mod.plc.PLC):\n",
        "    def __init__(self, goal, gain, speed, dt): # функция инициализации параметров\n",
        "        super(ADCS_spgrad,self).__init__(gain, dt)\n",
        "        self.g = speed\n",
        "        self.Pd = goal\n",
        "        self.dt = dt\n",
        "        self.c10 = 0.0\n",
        "        self.c20 = 0.0\n",
        "        self.c30 = 0.0\n",
        "        self.coeff = {'t':[], 'c1':[], 'c2':[], 'c3':[], 'y':[], 'Q':[]}\n",
        "\n",
        "    def optimize(self, x, t):\n",
        "        y = x[0] - self.Pd\n",
        "        Q = y**2\n",
        "\n",
        "        self.coeff['t'].append(t)\n",
        "        self.coeff['y'].append(y)\n",
        "        self.coeff['Q'].append(Q)\n",
        "\n",
        "        if len(self.coeff['c1'])>0:\n",
        "            c1 = self.coeff['c1'][-1]\n",
        "            c2 = self.coeff['c2'][-1]\n",
        "            c3 = self.coeff['c3'][-1]\n",
        "        else:\n",
        "            c1 = 0.0\n",
        "            c2 = 0.0\n",
        "            c3 = 0.0\n",
        "\n",
        "        c1 = c1 - self.g*y*x[0]\n",
        "        c2 = c2 - self.g*y*x[1]\n",
        "        c3 = c3 - self.g*y\n",
        "\n",
        "        self.coeff['c1'].append(c1)\n",
        "        self.coeff['c2'].append(c2)\n",
        "        self.coeff['c3'].append(c3)\n",
        "\n",
        "    def control(self, x, t):\n",
        "        self.optimize(x, t)\n",
        "\n",
        "        c1 = self.coeff['c1'][-1]\n",
        "        c2 = self.coeff['c2'][-1]\n",
        "        c3 = self.coeff['c3'][-1]\n",
        "\n",
        "        return c1*x[0] + c2*x[1] + c3"
      ],
      "execution_count": null,
      "outputs": []
    },
    {
      "cell_type": "markdown",
      "metadata": {
        "id": "cENhOHQ9i0tu"
      },
      "source": [
        "Моделирование системы с регулятором"
      ]
    },
    {
      "cell_type": "code",
      "metadata": {
        "id": "inqCti1li5fZ"
      },
      "source": [
        "v0_init = 0.0\n",
        "v0_finish = 2.0\n",
        "change_time = 30\n",
        "goal = 0.55\n",
        "gain = 2\n",
        "step = 0.5\n",
        "mod_step = 0.1\n",
        "tk = 60\n",
        "x0 = [0.3, -0.1]\n",
        "func_ctrl = F_with_change(change_time,v0_init,v0_finish)\n",
        "\n",
        "reg = ADCS_spgrad(goal=goal, gain=gain, dt=step, speed=0.1)\n",
        "res = digicon_mod.sim.calculate(func_ctrl, x0, mod_step, tk, reg)\n",
        "plot_result(time=res['t'], time_end=tk, x1 = res['x1'], x2 = res['x2'], plc=reg, goal=goal)\n",
        "\n",
        "tend = tk\n",
        "plt.figure(figsize=(15,5))\n",
        "plt.subplot(1,2,1)\n",
        "plt.plot(reg.coeff['t'], reg.coeff['c1'], 'r',\n",
        "         reg.coeff['t'], reg.coeff['c2'], 'b',\n",
        "         reg.coeff['t'], reg.coeff['c3'], 'k')\n",
        "plt.xlim([0, tk])\n",
        "plt.grid()\n",
        "plt.subplot(1,2,2)\n",
        "plt.plot(reg.coeff['t'], reg.coeff['Q'], 'r')\n",
        "plt.grid()\n",
        "plt.xlim([0, tk])\n",
        "plt.show()"
      ],
      "execution_count": null,
      "outputs": []
    }
  ]
}