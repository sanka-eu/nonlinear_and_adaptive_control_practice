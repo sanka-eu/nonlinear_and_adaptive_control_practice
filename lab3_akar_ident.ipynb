{
  "nbformat": 4,
  "nbformat_minor": 0,
  "metadata": {
    "anaconda-cloud": {},
    "kernelspec": {
      "display_name": "Python [default]",
      "language": "python",
      "name": "python3"
    },
    "language_info": {
      "codemirror_mode": {
        "name": "ipython",
        "version": 3
      },
      "file_extension": ".py",
      "mimetype": "text/x-python",
      "name": "python",
      "nbconvert_exporter": "python",
      "pygments_lexer": "ipython3",
      "version": "3.5.2"
    },
    "colab": {
      "name": "lab3-akar-ident.ipynb",
      "provenance": []
    }
  },
  "cells": [
    {
      "cell_type": "markdown",
      "metadata": {
        "id": "w_f_NuFaqJzm"
      },
      "source": [
        "# Шишкин Александр Эдуардович, группа 0391, Лабораторная работа №3\n",
        "Система с идентификацией параметров."
      ]
    },
    {
      "cell_type": "markdown",
      "metadata": {
        "id": "VFXG45naqJzu"
      },
      "source": [
        "### 1. Модель системы и закон управления"
      ]
    },
    {
      "cell_type": "markdown",
      "source": [
        "$(1)\\;\\dot{dP}\\;=\\;17T\\;+\\;\\zeta\\;-\\;0.1dP^3\\;+\\;9\\sin\\left(4dP\\;-\\;7\\right)\\;-\\;6$"
      ],
      "metadata": {
        "id": "0eZU9Nl2UWDP"
      }
    },
    {
      "cell_type": "markdown",
      "source": [
        "$(2)\\;\\dot T\\;=\\;-0.1T^3 - 2Tcos\\left(5dP\\;+\\;6\\right)\\;+\\;G\\;*\\;tanh\\left(I\\right)\\;-\\;1$"
      ],
      "metadata": {
        "id": "J84fogVQUpSS"
      }
    },
    {
      "cell_type": "markdown",
      "source": [
        "где:\\\n",
        "T - температура\\\n",
        "dP - изменение давления газа в резервуаре\\\n",
        "I - сила тока, протекающего через нагревательный элемент\\\n",
        "ζ ∈ [4;23] - некотролируемое возмущение в системе\\\n",
        "G - коэффициент усиления исполнительного механизма"
      ],
      "metadata": {
        "id": "kD8XzIIjVWkD"
      }
    },
    {
      "cell_type": "code",
      "source": [
        "import sympy\n",
        "from sympy.solvers import solve\n",
        "#создание символьных переменных\n",
        "dP=sympy.symbols('dP')\n",
        "T=sympy.symbols('T')\n",
        "zeta0=sympy.symbols('zeta0')\n",
        "I=sympy.symbols('I')\n",
        "dP_d=sympy.symbols('dP_d')\n",
        "G=sympy.symbols('G')\n",
        "a = sympy.symbols('a')\n",
        "\n",
        "#запись уравнений\n",
        "d_dP=17 * T + zeta0 + a * dP**3 + 9 * sympy.sin(4 * dP - 7) - 6\n",
        "dT=-0.1 * T**3 - 2 * T * sympy.cos(5 * dP + 6) + G * I - 1\n",
        "\n",
        "d_dP_d=dP-dP_d\n",
        "\n",
        "T_1 = sympy.symbols('T_1')\n",
        "T_2 = sympy.symbols('T_2')\n",
        "\n",
        "psi_1 = d_dP_d\n",
        "dpsi_1 = sympy.diff(psi_1, dP)*d_dP\n",
        "T_i = solve(sympy.expand(T_1*dpsi_1 + psi_1), T)[0]\n",
        "print(f'T = {str(T_i)}')\n",
        "psi_2 = T_i - T\n",
        "dpsi_2 = sympy.diff(psi_2, dP)*d_dP + sympy.diff(psi_2,T)*dT\n",
        "u = solve(sympy.expand(T_2*dpsi_2 + psi_2), I)\n",
        "u_analytical = u[0]\n",
        "print(f'psi_2 = {str(psi_2)}')\n",
        "print(f'I = {str(u_analytical)}')"
      ],
      "metadata": {
        "colab": {
          "base_uri": "https://localhost:8080/"
        },
        "id": "f7dMZvvhpJK_",
        "outputId": "ff6dc405-cdce-42ff-d7d1-06c2506e90d3"
      },
      "execution_count": 1,
      "outputs": [
        {
          "output_type": "stream",
          "name": "stdout",
          "text": [
            "T = (T_1*(-a*dP**3 - zeta0 - 9*sin(4*dP - 7) + 6) - dP + dP_d)/(17*T_1)\n",
            "psi_2 = -T + (T_1*(-a*dP**3 - zeta0 - 9*sin(4*dP - 7) + 6) - dP + dP_d)/(17*T_1)\n",
            "I = 0.00588235294117647*(T_1*T_2*(17.0*T**3 - 510.0*T*a*dP**2 - 6120.0*T*cos(4.0*dP - 7.0) + 340.0*T*cos(5.0*dP + 6.0) - 30.0*a**2*dP**5 - 360.0*a*dP**3*cos(4.0*dP - 7.0) - 30.0*a*dP**2*zeta0 - 270.0*a*dP**2*sin(4.0*dP - 7.0) + 180.0*a*dP**2 - 360.0*zeta0*cos(4.0*dP - 7.0) - 1620.0*sin(8.0*dP - 14.0) + 2160.0*cos(4.0*dP - 7.0) + 170.0) + 10.0*T_1*(-17.0*T - a*dP**3 - zeta0 - 9.0*sin(4.0*dP - 7.0) + 6.0) + 10.0*T_2*(-17.0*T - a*dP**3 - zeta0 - 9.0*sin(4.0*dP - 7.0) + 6.0) - 10.0*dP + 10.0*dP_d)/(G*T_1*T_2)\n"
          ]
        }
      ]
    },
    {
      "cell_type": "markdown",
      "metadata": {
        "id": "YPZW6AlZuq0F"
      },
      "source": [
        "### 2. Вспомогательные модули для моделирования"
      ]
    },
    {
      "cell_type": "markdown",
      "metadata": {
        "id": "oVl6boH7qJ0d"
      },
      "source": [
        "\n",
        "Импорт внешних модулей"
      ]
    },
    {
      "cell_type": "code",
      "source": [
        "!pip install digicon_mod"
      ],
      "metadata": {
        "id": "IAiSaa7VTtB9",
        "colab": {
          "base_uri": "https://localhost:8080/"
        },
        "outputId": "bb85877b-ddcf-4b4a-8f51-62eec6b3b8b7"
      },
      "execution_count": 2,
      "outputs": [
        {
          "output_type": "stream",
          "name": "stdout",
          "text": [
            "Collecting digicon_mod\n",
            "  Downloading digicon_mod-0.1.4-py3-none-any.whl.metadata (1.2 kB)\n",
            "Requirement already satisfied: numpy<2.0,>=1.23 in /usr/local/lib/python3.10/dist-packages (from digicon_mod) (1.26.4)\n",
            "Requirement already satisfied: scipy<2.0,>=1.9 in /usr/local/lib/python3.10/dist-packages (from digicon_mod) (1.13.1)\n",
            "Downloading digicon_mod-0.1.4-py3-none-any.whl (7.8 kB)\n",
            "Installing collected packages: digicon_mod\n",
            "Successfully installed digicon_mod-0.1.4\n"
          ]
        }
      ]
    },
    {
      "cell_type": "code",
      "metadata": {
        "id": "QRlSZeqUqJ0f"
      },
      "source": [
        "import math\n",
        "import numpy\n",
        "import matplotlib.pyplot as plt\n",
        "import sklearn.linear_model as linmod\n",
        "\n",
        "import digicon_mod"
      ],
      "execution_count": 3,
      "outputs": []
    },
    {
      "cell_type": "markdown",
      "metadata": {
        "id": "_yodeplwUtw5"
      },
      "source": [
        "Правая часть дифференциального уравнения объекта со ступенчатым изменением параметра"
      ]
    },
    {
      "cell_type": "code",
      "metadata": {
        "id": "eQHsrvF2U2nH"
      },
      "source": [
        "def F_with_change(step_time, init_value, finish_value):\n",
        "    def F_with_control(uc):\n",
        "        def F_internal(x, t):\n",
        "            if t > step_time:\n",
        "                zeta = finish_value\n",
        "            else:\n",
        "                zeta = init_value\n",
        "            d_dP=17 * x[1] + zeta - 0.1 * math.pow(x[0],3) + 9 * math.sin(4 * x[0] - 7) - 6\n",
        "            dT=-0.1 * math.pow(x[1],3) - 2 * x[1] * math.cos(5 * x[0] + 6) + uc - 1\n",
        "            return [d_dP, dT]\n",
        "\n",
        "        return F_internal\n",
        "    return F_with_control"
      ],
      "execution_count": 4,
      "outputs": []
    },
    {
      "cell_type": "markdown",
      "metadata": {
        "id": "RhxxTcwXTuDD"
      },
      "source": [
        "Вывод результатов моделирования"
      ]
    },
    {
      "cell_type": "code",
      "metadata": {
        "scrolled": true,
        "id": "WnLkBUTQqJ05"
      },
      "source": [
        "def plot_result(time, time_end, x1, x2, plc, goal):\n",
        "    plt.figure(figsize=(15,5))\n",
        "    plt.subplot(1,2,1)\n",
        "    plt.grid()\n",
        "    plt.xlim(0, time_end)\n",
        "    plt.plot(time,x1, 'r-', time, x2, 'b-')\n",
        "    plt.plot([0, time_end], [goal, goal], color='#FF0000',linestyle='--')\n",
        "    plt.subplot(1,2,2)\n",
        "    plt.grid()\n",
        "    plt.xlim(0, time_end)\n",
        "    plt.plot(plc.t, plc.u,'b-',plc.t,plc.u_lim,'r-')\n",
        "    plt.plot([0, tk], [1, 1], 'r--',[0, tk], [-1, -1], 'r--',[0, tk],[0, 0],'r:')\n",
        "    plt.ylim([-2.0, 2.0])\n",
        "    plt.show()"
      ],
      "execution_count": 5,
      "outputs": []
    },
    {
      "cell_type": "markdown",
      "metadata": {
        "id": "9NX8dCMuqRsV"
      },
      "source": [
        "####3. Моделирование САУ с адаптивным регулятором идентификационного типа"
      ]
    },
    {
      "cell_type": "markdown",
      "metadata": {
        "id": "vZDkhXV47s8y"
      },
      "source": [
        "Реализация алгоритма адаптивного управления на основе идентификации неизвестных параметров модели использует следующие идеи:\n",
        "\n",
        "- расширение размерности исходной системы с целью устранения нелинейностей модели (новые переменные это нелинейные функции показаний датчика);\n",
        "- формирование линейной модели процесса в расширенном пространстве переменных;\n",
        "- накопление истории измерений фиксированной длинны внутри контроллера;\n",
        "- использование метода наименьших квадратов для вычисления параметров линейной модели процеса;\n",
        "- подстановка полученных параметров в функцию управления, полученную по методу АКАР.\n",
        "\n",
        "Постановка задачи идентификации на основе модели линейной регрессии\n"
      ]
    },
    {
      "cell_type": "markdown",
      "source": [
        "$(1)\\;\\dot{dP}\\;=\\;17T\\;+\\;\\zeta\\;-\\;\\theta * dP^3\\;+\\;9\\sin\\left(4dP\\;-\\;7\\right)\\;-\\;6$"
      ],
      "metadata": {
        "id": "ZudymWFNrDdA"
      }
    },
    {
      "cell_type": "markdown",
      "metadata": {
        "id": "EPD5dQUnMMn8"
      },
      "source": [
        "$y = a\\,x + b, \\,\\, y=\\dot {dP} - 17T - 9\\sin\\left(4dP - 7\\right)+ 6, \\,\\, x = dP^3, \\,\\, a = \\theta, \\,\\, b=\\zeta,\\,\\, \\dot {dP_k} \\approx \\frac{dP_k - dP_{k-1}}{\\Delta t}$"
      ]
    },
    {
      "cell_type": "markdown",
      "metadata": {
        "id": "GJn-bf_lM8yG"
      },
      "source": [
        "Реализация адаптивного регулятора (см. пакет sklearn\n",
        "https://scikit-learn.org/stable/)"
      ]
    },
    {
      "cell_type": "code",
      "source": [
        "print(list(u_analytical.free_symbols))"
      ],
      "metadata": {
        "id": "tShq6g9l2OoF",
        "outputId": "f984d5e4-9a72-4f68-8676-0a9db69397bd",
        "colab": {
          "base_uri": "https://localhost:8080/"
        }
      },
      "execution_count": 6,
      "outputs": [
        {
          "output_type": "stream",
          "name": "stdout",
          "text": [
            "[zeta0, G, T_1, dP, a, T_2, T, dP_d]\n"
          ]
        }
      ]
    },
    {
      "cell_type": "code",
      "metadata": {
        "id": "1sjdG06EqaBp"
      },
      "source": [
        "class ADCS_ident(digicon_mod.plc.PLC):\n",
        "    def __init__(self, goal, gain, dt):\n",
        "        super(ADCS_ident,self).__init__(gain, dt)\n",
        "        self.G = gain\n",
        "        self.dP_d = goal\n",
        "        self.x_history = []\n",
        "        self.x_history_len = 30\n",
        "        self.dt = dt\n",
        "        self.coeff = {'t':[0.0], 'a':[0.0], 'b':[0.0]}\n",
        "        self.func = sympy.lambdify(list(u_analytical.free_symbols), u_analytical)\n",
        "\n",
        "    def transform(self, x, t):\n",
        "        return [x[0], x[1], math.pow(x[0],3.0), math.sin(4*x[0]-7)]\n",
        "\n",
        "    def identification(self, x, t):\n",
        "        self.x_history.append(x)\n",
        "        if len(self.x_history) > self.x_history_len:\n",
        "            self.x_history.pop(0)\n",
        "        if len(self.x_history) > 1:\n",
        "            z = numpy.array([self.transform(zi, t) for zi in (numpy.array(self.x_history)[:-1])])\n",
        "            y = numpy.diff(numpy.array(self.x_history),axis=0)/self.dt\n",
        "            #уравнение для y, подставляем производную измерения dP /*y[:,0]*/ и значения из вектора измерений z\n",
        "            y1 = y[:,0] - 17*z[:,1] - 9*z[:,3]\n",
        "            model = linmod.LinearRegression()\n",
        "            model.fit(X=z[:,2].reshape(-1,1), y=y1)\n",
        "            self.coeff['t'].append(t)\n",
        "            a = model.coef_\n",
        "            if isinstance(a, numpy.ndarray):\n",
        "              a = a[0]\n",
        "            self.coeff['a'].append(a)\n",
        "            self.coeff['b'].append(model.intercept_)\n",
        "\n",
        "    def control(self, x, t):\n",
        "        self.identification(x, t)\n",
        "        zeta0 = self.coeff['b'][-1]\n",
        "        a = self.coeff['a'][-1]\n",
        "        dP = x[0]\n",
        "        G = self.gain\n",
        "        T = x[1]\n",
        "        dP_d = self.dP_d\n",
        "        u = self.func(\n",
        "            T_1=10.0, dP=dP, T=T, dP_d=dP_d, G=G, T_2=1.0, a=a, zeta0=zeta0\n",
        "        )\n",
        "        return u\n"
      ],
      "execution_count": 9,
      "outputs": []
    },
    {
      "cell_type": "markdown",
      "metadata": {
        "id": "Y7zw1QG5uhJi"
      },
      "source": [
        "Тест регулятора"
      ]
    },
    {
      "cell_type": "code",
      "metadata": {
        "id": "EVUNNbdwAgsv",
        "colab": {
          "base_uri": "https://localhost:8080/",
          "height": 864
        },
        "outputId": "07227b4b-4ece-438f-ea98-7b59b60a31da"
      },
      "source": [
        "v0_init = 4.0\n",
        "v0_finish = 23.0\n",
        "change_time = 30\n",
        "goal = 10\n",
        "gain = 2300\n",
        "step = 0.5\n",
        "mod_step = 0.1\n",
        "tk = 10\n",
        "x0 = [0.5, 0.0]\n",
        "func_ctrl = F_with_change(change_time,v0_init,v0_finish)\n",
        "\n",
        "reg = ADCS_ident(goal=goal, gain=gain, dt=step)\n",
        "res = digicon_mod.sim.calculate(func_ctrl, x0, mod_step, tk, reg)\n",
        "plot_result(time=res['t'], time_end=tk, x1 = res['x1'], x2 = res['x2'], plc=reg, goal=goal)\n",
        "\n",
        "tend = tk\n",
        "plt.figure()\n",
        "plt.plot(reg.coeff['t'], reg.coeff['a'], 'r', [0, tk], [-1, -1], 'r--',\n",
        "         reg.coeff['t'], reg.coeff['b'], 'b', [0, change_time, change_time, tk], [v0_init, v0_init, v0_finish, v0_finish], 'b--')\n",
        "plt.ylim([-5.0, 5.0])\n",
        "plt.xlim([0, tk])\n",
        "plt.grid()\n",
        "plt.show()"
      ],
      "execution_count": 33,
      "outputs": [
        {
          "output_type": "display_data",
          "data": {
            "text/plain": [
              "<Figure size 1500x500 with 2 Axes>"
            ],
            "image/png": "[encoded data removed]"
          },
          "metadata": {}
        },
        {
          "output_type": "display_data",
          "data": {
            "text/plain": [
              "<Figure size 640x480 with 1 Axes>"
            ],
            "image/png": "[encoded data removed]"
          },
          "metadata": {}
        }
      ]
    }
  ]
}