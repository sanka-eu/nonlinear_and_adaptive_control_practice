{
  "nbformat": 4,
  "nbformat_minor": 0,
  "metadata": {
    "anaconda-cloud": {},
    "kernelspec": {
      "display_name": "Python [default]",
      "language": "python",
      "name": "python3"
    },
    "language_info": {
      "codemirror_mode": {
        "name": "ipython",
        "version": 3
      },
      "file_extension": ".py",
      "mimetype": "text/x-python",
      "name": "python",
      "nbconvert_exporter": "python",
      "pygments_lexer": "ipython3",
      "version": "3.5.2"
    },
    "colab": {
      "name": "lab2-akar.ipynb",
      "provenance": []
    }
  },
  "cells": [
    {
      "cell_type": "markdown",
      "metadata": {
        "id": "w_f_NuFaqJzm"
      },
      "source": [
        "# Шишкин Александр Эдуардович, группа 0391, Лабораторная работа №2\n",
        "Системы с нелинейным законом управления и идентификацией параметров."
      ]
    },
    {
      "cell_type": "markdown",
      "metadata": {
        "id": "VFXG45naqJzu"
      },
      "source": [
        "### 1. Модель системы и закон управления"
      ]
    },
    {
      "cell_type": "markdown",
      "source": [
        "$(1)\\;\\dot{dP}\\;=\\;17T\\;+\\;\\zeta\\;-\\;0.1dP^3\\;+\\;9\\sin\\left(4dP\\;-\\;7\\right)\\;-\\;6$"
      ],
      "metadata": {
        "id": "0eZU9Nl2UWDP"
      }
    },
    {
      "cell_type": "markdown",
      "source": [
        "$(2)\\;\\dot T\\;=\\;-0.1T^3 - 2Tcos\\left(5dP\\;+\\;6\\right)\\;+\\;G\\;*\\;tanh\\left(I\\right)\\;-\\;1$"
      ],
      "metadata": {
        "id": "J84fogVQUpSS"
      }
    },
    {
      "cell_type": "markdown",
      "source": [
        "где:\\\n",
        "T - температура\\\n",
        "dP - изменение давления газа в резервуаре\\\n",
        "I - сила тока, протекающего через нагревательный элемент\\\n",
        "ζ ∈ [4;23] - некотролируемое возмущение в системе\\\n",
        "G - коэффициент усиления исполнительного механизма"
      ],
      "metadata": {
        "id": "kD8XzIIjVWkD"
      }
    },
    {
      "cell_type": "markdown",
      "source": [
        "Сначала приведём расчет закона внутреннего управления для первого уравнения из отчёта первой лабораторной работы."
      ],
      "metadata": {
        "id": "oyqqtAOM8yFl"
      }
    },
    {
      "cell_type": "code",
      "source": [
        "import sympy\n",
        "#создание символьных переменных\n",
        "dP=sympy.symbols('dP')\n",
        "T=sympy.symbols('T')\n",
        "zeta=sympy.symbols('zeta')\n",
        "I=sympy.symbols('I')\n",
        "dP_d=sympy.symbols('dP_d')\n",
        "G=sympy.symbols('G')\n",
        "\n",
        "#запись уравнений\n",
        "d_dP=17 * T + zeta - 0.1 * dP**3 + 9 * sympy.sin(4 * dP - 7) - 6\n",
        "dT=-0.1 * T**3 - 2 * T * sympy.cos(5 * dP + 6) + G * I - 1\n",
        "\n",
        "from sympy.solvers import solve\n",
        "d_dP_d=dP_d-dP\n",
        "T_d=(solve(d_dP-d_dP_d, 17*T)[0]) * (1 / 17)\n",
        "print('Желаемая функция T_d(t) для эталонной модели d_dP_d = '+str(d_dP_d))\n",
        "print('T_d = '+str(T_d))\n",
        "print('')"
      ],
      "metadata": {
        "colab": {
          "base_uri": "https://localhost:8080/"
        },
        "id": "GyJkG6Cc9Ifh",
        "outputId": "ad9c18c6-7c5f-44a6-e3f6-7b04fad6c86f"
      },
      "execution_count": 2,
      "outputs": [
        {
          "output_type": "stream",
          "name": "stdout",
          "text": [
            "Желаемая функция T_d(t) для эталонной модели d_dP_d = -dP + dP_d\n",
            "T_d = 0.00588235294117647*dP**3 - 0.0588235294117647*dP + 0.0588235294117647*dP_d - 0.0588235294117647*zeta - 0.529411764705882*sin(4.0*dP - 7.0) + 0.352941176470588\n",
            "\n"
          ]
        }
      ]
    },
    {
      "cell_type": "markdown",
      "source": [
        "Можно определить значение некотролируемого возмущения, как медианное.\\\n",
        "В данном случае медианное значение равно:\n",
        "$\\zeta_0\\;=\\;13.5$\\\n",
        "Также не учитывать $Δζ$, предположить что оно незначительно"
      ],
      "metadata": {
        "id": "VYTP8og89d-C"
      }
    },
    {
      "cell_type": "code",
      "source": [
        "T_1 = sympy.symbols('T_1')\n",
        "T_2 = sympy.symbols('T_2')\n",
        "\n",
        "psi_1 = d_dP_d\n",
        "print(f'psi_1 = {str(psi_1)}')\n",
        "dpsi_1 = sympy.diff(psi_1, dP)*d_dP\n",
        "print(f'dpsi_1 = {str(dpsi_1)}')\n",
        "T_i = solve(sympy.expand(T_1*dpsi_1 + psi_1), T)[0]\n",
        "print(f'T = {str(T_i)}')\n",
        "psi_2 = T_i - T\n",
        "print(f'psi_2 = {str(psi_2)}')\n",
        "dpsi_2 = sympy.diff(psi_2, dP)*d_dP + sympy.diff(psi_2,T)*dT\n",
        "print(f'dpsi_2 = {str(dpsi_2)}')\n",
        "u = solve(sympy.expand(T_2*dpsi_2 + psi_2), I)\n",
        "u_analytical = u[0]\n",
        "print(f'psi_2 = {str(psi_2)}')\n",
        "print(f'I = {str(u_analytical)}')"
      ],
      "metadata": {
        "colab": {
          "base_uri": "https://localhost:8080/"
        },
        "id": "SH9v_tsQjy-O",
        "outputId": "8643ca07-726b-4fb0-fce7-4ef4f8085be2"
      },
      "execution_count": 3,
      "outputs": [
        {
          "output_type": "stream",
          "name": "stdout",
          "text": [
            "psi_1 = -dP + dP_d\n",
            "dpsi_1 = -17*T + 0.1*dP**3 - zeta - 9*sin(4*dP - 7) + 6\n",
            "T = 0.00588235294117647*(T_1*(dP**3 - 10.0*zeta - 90.0*sin(4.0*dP - 7.0) + 60.0) - 10.0*dP + 10.0*dP_d)/T_1\n",
            "psi_2 = -T + 0.00588235294117647*(T_1*(dP**3 - 10.0*zeta - 90.0*sin(4.0*dP - 7.0) + 60.0) - 10.0*dP + 10.0*dP_d)/T_1\n",
            "dpsi_2 = -G*I + 0.1*T**3 + 2*T*cos(5*dP + 6) + 1 + 0.00588235294117647*(T_1*(3*dP**2 - 360.0*cos(4.0*dP - 7.0)) - 10.0)*(17*T - 0.1*dP**3 + zeta + 9*sin(4*dP - 7) - 6)/T_1\n",
            "psi_2 = -T + 0.00588235294117647*(T_1*(dP**3 - 10.0*zeta - 90.0*sin(4.0*dP - 7.0) + 60.0) - 10.0*dP + 10.0*dP_d)/T_1\n",
            "I = 1.17647058823529e-18*(T_1*T_2*(8.5e+16*T**3 + 2.55e+17*T*dP**2 - 3.06e+19*T*cos(4.0*dP - 7.0) + 1.7e+18*T*cos(5.0*dP + 6.0) - 1.5e+15*dP**5 + 1.8e+17*dP**3*cos(4.0*dP - 7.0) + 1.5e+16*dP**2*zeta + 1.35e+17*dP**2*sin(4.0*dP - 7.0) - 9.0e+16*dP**2 - 1.8e+18*zeta*cos(4.0*dP - 7.0) - 8.1e+18*sin(8.0*dP - 14.0) + 1.08e+19*cos(4.0*dP - 7.0) + 8.5e+17) + 5.0e+15*T_1*(-170.0*T + dP**3 - 10.0*zeta - 90.0*sin(4.0*dP - 7.0) + 60.0) + 5.0e+15*T_2*(-170.0*T + dP**3 - 10.0*zeta - 90.0*sin(4.0*dP - 7.0) + 60.0) - 5.0e+16*dP + 5.0e+16*dP_d)/(G*T_1*T_2)\n"
          ]
        }
      ]
    },
    {
      "cell_type": "markdown",
      "source": [
        "Однако можно ввести интегральную компоненту для стабилизации системы, которая будет выравнивать значение при изменении некотролируемого возмущения.\\\n",
        "Для этого введём уравнение, которое будет описывать величину ошибки. В этом уравнении используется медианное значение $ζ_0$"
      ],
      "metadata": {
        "id": "AicjtIRPAGnX"
      }
    },
    {
      "cell_type": "markdown",
      "source": [
        "Интегральная компонента\n",
        "\n",
        "$\\dot z = C3\\;*\\;\\psi_1$\\\n",
        "где $\\psi_1\\;=\\;T_d(\\zeta=\\zeta_0) - T$"
      ],
      "metadata": {
        "id": "f-pxKweqA7x7"
      }
    },
    {
      "cell_type": "code",
      "source": [
        "C3=sympy.symbols('C3')\n",
        "\n",
        "psi1=T_d.subs({zeta: 13.5})-T\n",
        "dZ = C3*psi1\n",
        "print(\"dz/dt = \" + str(dZ))"
      ],
      "metadata": {
        "colab": {
          "base_uri": "https://localhost:8080/"
        },
        "id": "Tbnfrony9sXq",
        "outputId": "d7825a9a-063d-46a6-e622-245835004a8e"
      },
      "execution_count": null,
      "outputs": [
        {
          "output_type": "stream",
          "name": "stdout",
          "text": [
            "dz/dt = C3*(-T + 0.00588235294117647*dP**3 - 0.0588235294117647*dP + 0.0588235294117647*dP_d - 0.529411764705882*sin(4.0*dP - 7.0) - 0.441176470588235)\n"
          ]
        }
      ]
    },
    {
      "cell_type": "markdown",
      "source": [
        "В связи с этим вводим вторую макропеременную: $ψ_2\\;=\\;ψ_1\\;+\\;z$"
      ],
      "metadata": {
        "id": "R9maLmGpC2so"
      }
    },
    {
      "cell_type": "markdown",
      "metadata": {
        "id": "xDjwIi_-qJzx"
      },
      "source": [
        "$\\dot P = - P^3 + dm + v(t)$"
      ]
    },
    {
      "cell_type": "markdown",
      "metadata": {
        "id": "6SfyUoBUqJzz"
      },
      "source": [
        "$\\dot dm = -dm + G \\, tanh(\\omega)$\n"
      ]
    },
    {
      "cell_type": "markdown",
      "metadata": {
        "id": "bAIHnSmmuLD9"
      },
      "source": [
        "Закон управления, синтезированный по методу АКАР"
      ]
    },
    {
      "cell_type": "markdown",
      "metadata": {
        "id": "CUT7xDPgtYnI"
      },
      "source": [
        "$w=(-3 P^5 + 2 P^3 + 3 P^2 dm + 3 P^2 v(t) + 3 P^2 v_0 - P + Pd - dm - 2 v(t) - 2 v_0)/G$"
      ]
    },
    {
      "cell_type": "markdown",
      "metadata": {
        "id": "xl6rtqnbtxBd"
      },
      "source": [
        "для    $P = Pd$"
      ]
    },
    {
      "cell_type": "markdown",
      "source": [
        "Данные выражения можно получить с помощью пакета sympy\n"
      ],
      "metadata": {
        "id": "Rj2dE7Qpnw8U"
      }
    },
    {
      "cell_type": "code",
      "source": [
        "import sympy\n",
        "from sympy.solvers import solve\n",
        "\n",
        "P = sympy.symbols('P')\n",
        "dm = sympy.symbols('dm')\n",
        "G = sympy.symbols('G')\n",
        "w = sympy.symbols('w')\n",
        "Pd = sympy.symbols('Pd')\n",
        "v0 = sympy.symbols('v0')\n",
        "T_1 = sympy.symbols('T_1')\n",
        "T_2 = sympy.symbols('T_2')\n",
        "\n",
        "dP = -P**3 + dm + v0\n",
        "ddm = -dm + G * w\n",
        "psi_1 = P - Pd\n",
        "dpsi_1 = sympy.diff(psi_1, P)*dP\n",
        "dmi = solve(sympy.expand(T_1*dpsi_1 + psi_1), dm)\n",
        "print(f'dm = {str(dmi[0])}')\n",
        "psi_2 = dmi[0] - dm\n",
        "dpsi_2 = sympy.diff(psi_2, P)*dP + sympy.diff(psi_2,dm)*ddm\n",
        "u = solve(sympy.expand(T_2*dpsi_2 + psi_2), w)\n",
        "u_analytical = u[0]\n",
        "print(f'psi_2 = {str(psi_2)}')\n",
        "print(f'w = {str(u_analytical)}')"
      ],
      "metadata": {
        "id": "x1HB2xGsmw4G",
        "colab": {
          "base_uri": "https://localhost:8080/"
        },
        "outputId": "9260b110-a6a0-4c78-de70-46bee9a2e1f6"
      },
      "execution_count": null,
      "outputs": [
        {
          "output_type": "stream",
          "name": "stdout",
          "text": [
            "dm = (-P + Pd + T_1*(P**3 - v0))/T_1\n",
            "psi_2 = -dm + (-P + Pd + T_1*(P**3 - v0))/T_1\n",
            "w = (-P + Pd + T_1*T_2*(-3*P**5 + 3*P**2*dm + 3*P**2*v0 + dm) + T_1*(P**3 - dm - v0) + T_2*(P**3 - dm - v0))/(G*T_1*T_2)\n"
          ]
        }
      ]
    },
    {
      "cell_type": "markdown",
      "metadata": {
        "id": "YPZW6AlZuq0F"
      },
      "source": [
        "### 2. Вспомогательные модули для моделирования"
      ]
    },
    {
      "cell_type": "markdown",
      "metadata": {
        "id": "oVl6boH7qJ0d"
      },
      "source": [
        "\n",
        "Базовый класс для моделирования контроллера"
      ]
    },
    {
      "cell_type": "code",
      "source": [
        "!pip install digicon_mod"
      ],
      "metadata": {
        "id": "-6IU7_kASTXc",
        "colab": {
          "base_uri": "https://localhost:8080/"
        },
        "outputId": "f8ad6a88-6e08-4eb3-b5af-21fbf278f9d7"
      },
      "execution_count": 4,
      "outputs": [
        {
          "output_type": "stream",
          "name": "stdout",
          "text": [
            "Collecting digicon_mod\n",
            "  Downloading digicon_mod-0.1.4-py3-none-any.whl.metadata (1.2 kB)\n",
            "Requirement already satisfied: numpy<2.0,>=1.23 in /usr/local/lib/python3.10/dist-packages (from digicon_mod) (1.26.4)\n",
            "Requirement already satisfied: scipy<2.0,>=1.9 in /usr/local/lib/python3.10/dist-packages (from digicon_mod) (1.13.1)\n",
            "Downloading digicon_mod-0.1.4-py3-none-any.whl (7.8 kB)\n",
            "Installing collected packages: digicon_mod\n",
            "Successfully installed digicon_mod-0.1.4\n"
          ]
        }
      ]
    },
    {
      "cell_type": "code",
      "metadata": {
        "id": "QRlSZeqUqJ0f"
      },
      "source": [
        "import math\n",
        "import numpy\n",
        "import matplotlib.pyplot as plt\n",
        "import digicon_mod"
      ],
      "execution_count": 5,
      "outputs": []
    },
    {
      "cell_type": "markdown",
      "metadata": {
        "id": "_yodeplwUtw5"
      },
      "source": [
        "Правая часть дифференциального уравнения объекта со ступенчатым изменением параметра"
      ]
    },
    {
      "cell_type": "code",
      "metadata": {
        "id": "eQHsrvF2U2nH"
      },
      "source": [
        "def F_with_change(step_time, init_value, finish_value):\n",
        "    def F_with_control(uc):\n",
        "        def F_internal(x, t):\n",
        "            if t > step_time:\n",
        "                zeta = finish_value\n",
        "            else:\n",
        "                zeta = init_value\n",
        "            d_dP = 17*x[1] + zeta - 0.1*x[0]**3 + 9*math.sin(4*x[0] - 7) - 6\n",
        "            dT = -0.1*x[1]**3 - 2*x[1]*math.cos(5*x[0] + 6) + uc - 1\n",
        "            return [d_dP, dT]\n",
        "\n",
        "        return F_internal\n",
        "    return F_with_control"
      ],
      "execution_count": 6,
      "outputs": []
    },
    {
      "cell_type": "markdown",
      "metadata": {
        "id": "RhxxTcwXTuDD"
      },
      "source": [
        "Вывод результатов моделирования"
      ]
    },
    {
      "cell_type": "code",
      "metadata": {
        "scrolled": true,
        "id": "WnLkBUTQqJ05"
      },
      "source": [
        "def plot_result(time, time_end, x1, x2, plc, goal):\n",
        "    plt.figure(figsize=(15,5))\n",
        "    plt.subplot(1,2,1)\n",
        "    plt.grid()\n",
        "    plt.xlim(0, time_end)\n",
        "    plt.plot(time,x1, 'r-', time, x2, 'b-')\n",
        "    plt.plot([0, time_end], [goal, goal], color='#FF0000',linestyle='--')\n",
        "    plt.subplot(1,2,2)\n",
        "    plt.grid()\n",
        "    plt.xlim(0, time_end)\n",
        "    plt.plot(plc.t, plc.u,'b-',plc.t,plc.u_lim,'r-')\n",
        "    plt.plot([0, tk], [1, 1], 'r--',[0, tk], [-1, -1], 'r--',[0, tk],[0, 0],'r:')\n",
        "    plt.ylim([-2.0, 2.0])\n",
        "    plt.show()"
      ],
      "execution_count": 7,
      "outputs": []
    },
    {
      "cell_type": "markdown",
      "metadata": {
        "id": "uCUOHoGwqnW7"
      },
      "source": [
        "###3.  Моделирование САУ с аналитическим регулятором"
      ]
    },
    {
      "cell_type": "code",
      "source": [
        "list(u_analytical.free_symbols)"
      ],
      "metadata": {
        "id": "pdcA-rRTov0r",
        "colab": {
          "base_uri": "https://localhost:8080/"
        },
        "outputId": "47b8b260-1aa9-4ed8-eabf-cd8c0bf02430"
      },
      "execution_count": 8,
      "outputs": [
        {
          "output_type": "execute_result",
          "data": {
            "text/plain": [
              "[G, T_1, T_2, zeta, dP, dP_d, T]"
            ]
          },
          "metadata": {},
          "execution_count": 8
        }
      ]
    },
    {
      "cell_type": "markdown",
      "source": [
        "Инициализируем регулятор по методу AKAR в коде, возьмём значения T_1 > T_2, так как эталонная модель с T_2 ближе к реальному управляющему воздействию (силе тока в контуре).\\\n",
        "Т.е. регулирование T должно быть быстрее регулирования целевой переменной dP."
      ],
      "metadata": {
        "id": "lmLJHTb1w4yH"
      }
    },
    {
      "cell_type": "code",
      "metadata": {
        "id": "9GzeIixzqJ1G"
      },
      "source": [
        "class AKAR(digicon_mod.plc.PLC):\n",
        "    def __init__(self, goal, gain, dtu):\n",
        "        super(AKAR,self).__init__(gain, dtu)\n",
        "        self.G=gain\n",
        "        self.Pd=goal\n",
        "        self.func = sympy.lambdify(list(u_analytical.free_symbols), u_analytical)\n",
        "\n",
        "    def control(self, x, t):\n",
        "        return self.func(\n",
        "            dP=x[0], T=x[1], dP_d=self.Pd, zeta=13.5, T_1=100, T_2=1, G=self.G\n",
        "        )"
      ],
      "execution_count": 9,
      "outputs": []
    },
    {
      "cell_type": "code",
      "metadata": {
        "id": "FWesJBnfqJ1S",
        "colab": {
          "base_uri": "https://localhost:8080/",
          "height": 451
        },
        "outputId": "c3aeb758-f8d3-4614-aea3-a9772838e741"
      },
      "source": [
        "v0_init = 4.0\n",
        "v0_finish = 23.0\n",
        "change_time = 5\n",
        "goal = 10\n",
        "gain = 30\n",
        "step = 0.5\n",
        "mod_step = 0.1\n",
        "tk = 10\n",
        "x0 = [0.5, 0.0]\n",
        "func_ctrl = F_with_change(change_time,v0_init,v0_finish)\n",
        "\n",
        "plc = AKAR(goal=goal, gain=gain, dtu=step)\n",
        "res = digicon_mod.sim.calculate(func_ctrl, x0, mod_step, tk, plc)\n",
        "plot_result(time=res['t'], time_end=tk, x1 = res['x1'], x2 = res['x2'], plc=plc, goal=goal)"
      ],
      "execution_count": 10,
      "outputs": [
        {
          "output_type": "display_data",
          "data": {
            "text/plain": [
              "<Figure size 1500x500 with 2 Axes>"
            ],
            "image/png": "[encoded data removed]"
          },
          "metadata": {}
        }
      ]
    },
    {
      "cell_type": "markdown",
      "source": [
        "По графикам видно, что аналитический регулятор по методу АКАР не справляется с задачей управления без интегральной компоненты."
      ],
      "metadata": {
        "id": "1RHXFHKxtY4u"
      }
    },
    {
      "cell_type": "markdown",
      "metadata": {
        "id": "xvVi_dQ7ylSG"
      },
      "source": [
        "### 4. САУ с аналитическим регулятором и интегральной компонентой\n",
        "\n"
      ]
    },
    {
      "cell_type": "markdown",
      "source": [
        "$(1)\\;\\dot{dP}\\;=\\;17T\\;+\\;\\zeta\\;-\\;0.1dP^3\\;+\\;9\\sin\\left(4dP\\;-\\;7\\right)\\;-\\;6$"
      ],
      "metadata": {
        "id": "KHFnA1wY2HBc"
      }
    },
    {
      "cell_type": "markdown",
      "source": [
        "$(2)\\;\\dot T\\;=\\;-0.1T^3 - 2Tcos\\left(5dP\\;+\\;6\\right)\\;+\\;G\\;*\\;tanh\\left(I\\right)\\;-\\;1$"
      ],
      "metadata": {
        "id": "6nRKJoYZ2HBd"
      }
    },
    {
      "cell_type": "markdown",
      "source": [
        "где:\\\n",
        "T - температура\\\n",
        "dP - изменение давления газа в резервуаре\\\n",
        "I - сила тока, протекающего через нагревательный элемент\\\n",
        "ζ ∈ [4;23] - некотролируемое возмущение в системе\\\n",
        "G - коэффициент усиления исполнительного механизма"
      ],
      "metadata": {
        "id": "4Wog8hV03Abk"
      }
    },
    {
      "cell_type": "markdown",
      "source": [
        "Функции макропеременных:\n",
        "\n",
        "$\\psi_1 = dP - dP_d$\n",
        "\n",
        "$\\psi_2 = \\psi_1 + z = dP - dP_d + z$\n",
        "\n",
        "$\\psi_3 = T_{internal} - T$"
      ],
      "metadata": {
        "id": "mLvJbceO3Gm4"
      }
    },
    {
      "cell_type": "markdown",
      "source": [
        "Эталонные модели:\n",
        "\n",
        "$T_1 \\dot \\psi_2 + \\psi_2 = 0$\n",
        "\n",
        "$T_3 \\dot \\psi_3 + \\psi_3 = 0$"
      ],
      "metadata": {
        "id": "vVXZXLEf4V3f"
      }
    },
    {
      "cell_type": "markdown",
      "source": [
        "Интегральная компонента\n",
        "\n",
        "$\\dot z = \\frac 1 {T_2} \\psi_1$"
      ],
      "metadata": {
        "id": "7WEViW-f4ZjQ"
      }
    },
    {
      "cell_type": "markdown",
      "source": [
        "Параметр $v_0$:\n",
        "\n",
        "$\\zeta_0 = \\zeta_{min} + \\frac{(\\zeta_{max}-\\zeta_{min})}{2} = 4 + \\frac{(23-4)}{2} = 13.5$"
      ],
      "metadata": {
        "id": "7gEhSMsI4etK"
      }
    },
    {
      "cell_type": "code",
      "metadata": {
        "id": "OV6pfGsV2_ID",
        "colab": {
          "base_uri": "https://localhost:8080/"
        },
        "outputId": "c09c1485-bafe-4a0f-b6bf-608900703c1e"
      },
      "source": [
        "P = sympy.symbols('P')\n",
        "T = sympy.symbols('T')\n",
        "G = sympy.symbols('G')\n",
        "I = sympy.symbols('I')\n",
        "z = sympy.symbols('z')\n",
        "dP_d = sympy.symbols('dP_d')\n",
        "zeta0 = sympy.symbols('zeta0')\n",
        "T_1 = sympy.symbols('T_1')\n",
        "T_2 = sympy.symbols('T_2')\n",
        "T_3 = sympy.symbols('T_3')\n",
        "\n",
        "#запись уравнений\n",
        "d_dP=17 * T + zeta0 - 0.1 * dP**3 + 9 * sympy.sin(4 * dP - 7) - 6\n",
        "dT=-0.1 * T**3 - 2 * T * sympy.cos(5 * dP + 6) + G * I - 1\n",
        "\n",
        "#метод акар с интегральной компонентой\n",
        "psi_1 = dP - dP_d\n",
        "dz = 1/T_2*psi_1\n",
        "psi_2 = psi_1 + z\n",
        "dpsi_2 = sympy.diff(psi_2, dP)*d_dP + sympy.diff(psi_2, z)*dz\n",
        "T_i = solve(sympy.expand(T_1*dpsi_2 + psi_2),T)[0]\n",
        "print(f'dz = {dz}')\n",
        "print(f'T = {str(T_i)}')\n",
        "psi_3 = T_i - T\n",
        "dpsi_3 = sympy.diff(psi_3,dP)*d_dP + sympy.diff(psi_3,T)*dT + sympy.diff(psi_3,z)*dz\n",
        "u = solve(sympy.expand(T_3*dpsi_3 + psi_3),I)\n",
        "u_analytical = u[0]\n",
        "print(f'psi_2 = {str(psi_2)}')\n",
        "print(f'psi_3 = {str(psi_3)}')\n",
        "print(f'I = {str(u_analytical)}')"
      ],
      "execution_count": 14,
      "outputs": [
        {
          "output_type": "stream",
          "name": "stdout",
          "text": [
            "dz = (dP - dP_d)/T_2\n",
            "T = 0.00588235294117647*(T_1*T_2*(dP**3 - 10.0*zeta0 - 90.0*sin(4.0*dP - 7.0) + 60.0) + 10.0*T_1*(-dP + dP_d) + 10.0*T_2*(-dP + dP_d - z))/(T_1*T_2)\n",
            "psi_2 = dP - dP_d + z\n",
            "psi_3 = -T + 0.00588235294117647*(T_1*T_2*(dP**3 - 10.0*zeta0 - 90.0*sin(4.0*dP - 7.0) + 60.0) + 10.0*T_1*(-dP + dP_d) + 10.0*T_2*(-dP + dP_d - z))/(T_1*T_2)\n",
            "I = 1.17647058823529e-18*(T_1*T_2*T_3*(8.5e+16*T**3 + 2.55e+17*T*dP**2 - 3.06e+19*T*cos(4.0*dP - 7.0) + 1.7e+18*T*cos(5.0*dP + 6.0) - 1.5e+15*dP**5 + 1.8e+17*dP**3*cos(4.0*dP - 7.0) + 1.5e+16*dP**2*zeta0 + 1.35e+17*dP**2*sin(4.0*dP - 7.0) - 9.0e+16*dP**2 - 1.8e+18*zeta0*cos(4.0*dP - 7.0) - 8.1e+18*sin(8.0*dP - 14.0) + 1.08e+19*cos(4.0*dP - 7.0) + 8.5e+17) + 5.0e+15*T_1*T_2*(-170.0*T + dP**3 - 10.0*zeta0 - 90.0*sin(4.0*dP - 7.0) + 60.0) + 5.0e+15*T_1*T_3*(-170.0*T + dP**3 - 10.0*zeta0 - 90.0*sin(4.0*dP - 7.0) + 60.0) + 5.0e+16*T_1*(-dP + dP_d) + 5.0e+15*T_2*T_3*(-170.0*T + dP**3 - 10.0*zeta0 - 90.0*sin(4.0*dP - 7.0) + 60.0) + 5.0e+16*T_2*(-dP + dP_d - z) + 5.0e+16*T_3*(-dP + dP_d))/(G*T_1*T_2*T_3)\n"
          ]
        }
      ]
    },
    {
      "cell_type": "markdown",
      "source": [
        "Выберем коэффициенты T_1 = 100, T_2 = 10, T_3 = 1"
      ],
      "metadata": {
        "id": "lwyA-cr89heX"
      }
    },
    {
      "cell_type": "markdown",
      "metadata": {
        "id": "8xx_Hid7YWib"
      },
      "source": [
        "Подпрограмма для реализации нелинейного регулятора с интегральной компонентой."
      ]
    },
    {
      "cell_type": "code",
      "metadata": {
        "id": "tIoa4PESWac4"
      },
      "source": [
        "class AKAR_i(digicon_mod.plc.PLC):\n",
        "    def __init__(self, goal, gain, dt, T1, T2, T3, zeta0):\n",
        "        super(AKAR_i,self).__init__(gain, dt)\n",
        "        self.dt = dt\n",
        "        self.G=gain\n",
        "        self.dP_d=goal\n",
        "        self.T1 = T1\n",
        "        self.T2 = T2\n",
        "        self.T3 = T3\n",
        "        self.zeta0 = zeta0\n",
        "        self.z = []\n",
        "        self.zt = []\n",
        "        self.func = sympy.lambdify(list(u_analytical.free_symbols), u_analytical)\n",
        "\n",
        "    def control(self, x, t):\n",
        "        dP = x[0]\n",
        "        T = x[1]\n",
        "        T_1 = self.T1\n",
        "        T_2 = self.T2\n",
        "        T_3 = self.T3\n",
        "        dP_d = self.dP_d\n",
        "        G = self.G\n",
        "        zeta_0 = self.zeta0\n",
        "        zeta0 = zeta_0\n",
        "        dt = self.dt\n",
        "\n",
        "        if len(self.z) < 1:\n",
        "            z = 0.0\n",
        "        else:\n",
        "            z = self.z[-1] + dt/T_2*(dP - dP_d)\n",
        "        self.z.append(z)\n",
        "        self.zt.append(t)\n",
        "        return self.func(\n",
        "            G=G, dP=dP, zeta0=zeta0, dP_d=dP_d, z=z, T=T, T_3=T_3, T_1=T_1, T_2=T_2\n",
        "        )"
      ],
      "execution_count": 26,
      "outputs": []
    },
    {
      "cell_type": "markdown",
      "metadata": {
        "id": "2UbkHOoEYSsq"
      },
      "source": [
        "Моделирование и результаты."
      ]
    },
    {
      "cell_type": "code",
      "metadata": {
        "id": "fQsDsM24YR-4",
        "outputId": "0f6c0daf-3a45-48e5-acac-5d59b77ea9d1",
        "colab": {
          "base_uri": "https://localhost:8080/",
          "height": 864
        }
      },
      "source": [
        "reg = AKAR_i(goal=10, gain=35, dt=0.1, T1=100, T2=10, T3=1, zeta0=13.5)\n",
        "res = digicon_mod.sim.calculate(func_ctrl, x0, mod_step, tk, reg)\n",
        "plot_result(time=res['t'], time_end=tk, x1 = res['x1'], x2 = res['x2'], plc=reg, goal=goal)\n",
        "\n",
        "tend = tk\n",
        "plt.figure()\n",
        "plt.plot(reg.zt, reg.z, 'b-')\n",
        "plt.xlim([0.0, tk])\n",
        "plt.grid()\n",
        "plt.show()"
      ],
      "execution_count": 31,
      "outputs": [
        {
          "output_type": "display_data",
          "data": {
            "text/plain": [
              "<Figure size 1500x500 with 2 Axes>"
            ],
            "image/png": "[encoded data removed]"
          },
          "metadata": {}
        },
        {
          "output_type": "display_data",
          "data": {
            "text/plain": [
              "<Figure size 640x480 with 1 Axes>"
            ],
            "image/png": "[encoded data removed]"
          },
          "metadata": {}
        }
      ]
    }
  ]
}